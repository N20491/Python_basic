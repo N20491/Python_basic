{
 "cells": [
  {
   "cell_type": "markdown",
   "id": "57729e75",
   "metadata": {},
   "source": [
    "# Practice set-1"
   ]
  },
  {
   "cell_type": "code",
   "execution_count": 1,
   "id": "aae30483",
   "metadata": {},
   "outputs": [
    {
     "data": {
      "text/plain": [
       "{}"
      ]
     },
     "execution_count": 1,
     "metadata": {},
     "output_type": "execute_result"
    }
   ],
   "source": [
    "empty_set={}\n",
    "empty_set"
   ]
  },
  {
   "cell_type": "code",
   "execution_count": 2,
   "id": "8cf9d748",
   "metadata": {},
   "outputs": [
    {
     "data": {
      "text/plain": [
       "{'a', 'b', 'c'}"
      ]
     },
     "execution_count": 2,
     "metadata": {},
     "output_type": "execute_result"
    }
   ],
   "source": [
    "my_set = {'a' , 'b', 'c'}\n",
    "my_set"
   ]
  },
  {
   "cell_type": "code",
   "execution_count": 3,
   "id": "64b2d8af",
   "metadata": {},
   "outputs": [
    {
     "data": {
      "text/plain": [
       "{'a', 'b', 'c'}"
      ]
     },
     "execution_count": 3,
     "metadata": {},
     "output_type": "execute_result"
    }
   ],
   "source": [
    "my_set ={'a' , 'b', 'c','a' , 'b', 'c'}\n",
    "my_set"
   ]
  },
  {
   "cell_type": "code",
   "execution_count": 4,
   "id": "464be810",
   "metadata": {},
   "outputs": [
    {
     "data": {
      "text/plain": [
       "{12.5, 22, '22', 'Nikita', True, 'a', 'f'}"
      ]
     },
     "execution_count": 4,
     "metadata": {},
     "output_type": "execute_result"
    }
   ],
   "source": [
    "my_mixed_set = {'a', 22, '22', \"Nikita\", 12.5, True, 'f'}\n",
    "my_mixed_set"
   ]
  },
  {
   "cell_type": "code",
   "execution_count": 6,
   "id": "e8241410",
   "metadata": {},
   "outputs": [
    {
     "data": {
      "text/plain": [
       "{1, 12.5, 22, '22', 'Nikita', 'a', 'f'}"
      ]
     },
     "execution_count": 6,
     "metadata": {},
     "output_type": "execute_result"
    }
   ],
   "source": [
    "my_mixed_set = {1,'a', 22, '22', \"Nikita\", 12.5, True, 'f'}\n",
    "my_mixed_set"
   ]
  },
  {
   "cell_type": "code",
   "execution_count": 7,
   "id": "3f9398b6",
   "metadata": {},
   "outputs": [
    {
     "data": {
      "text/plain": [
       "{12.5, 22, '22', 'Nikita', True, 'a', 'f'}"
      ]
     },
     "execution_count": 7,
     "metadata": {},
     "output_type": "execute_result"
    }
   ],
   "source": [
    "my_mixed_set = {'a', 22, '22', \"Nikita\", 12.5, True, 'f',1}\n",
    "my_mixed_set"
   ]
  },
  {
   "cell_type": "code",
   "execution_count": 9,
   "id": "7d1e7113",
   "metadata": {},
   "outputs": [
    {
     "data": {
      "text/plain": [
       "{False, True}"
      ]
     },
     "execution_count": 9,
     "metadata": {},
     "output_type": "execute_result"
    }
   ],
   "source": [
    "my_mixed_set = {True, 1, False}\n",
    "my_mixed_set"
   ]
  },
  {
   "cell_type": "code",
   "execution_count": 10,
   "id": "dd50ffb6",
   "metadata": {},
   "outputs": [
    {
     "data": {
      "text/plain": [
       "{False, 1}"
      ]
     },
     "execution_count": 10,
     "metadata": {},
     "output_type": "execute_result"
    }
   ],
   "source": [
    "my_mixed_set = {1,True, False}\n",
    "my_mixed_set"
   ]
  },
  {
   "cell_type": "code",
   "execution_count": 11,
   "id": "e74de66e",
   "metadata": {},
   "outputs": [
    {
     "data": {
      "text/plain": [
       "{False, True}"
      ]
     },
     "execution_count": 11,
     "metadata": {},
     "output_type": "execute_result"
    }
   ],
   "source": [
    "my_mixed_set = {True, False,1}\n",
    "my_mixed_set"
   ]
  },
  {
   "cell_type": "code",
   "execution_count": 12,
   "id": "ca72124f",
   "metadata": {},
   "outputs": [
    {
     "data": {
      "text/plain": [
       "{0, True}"
      ]
     },
     "execution_count": 12,
     "metadata": {},
     "output_type": "execute_result"
    }
   ],
   "source": [
    "my_mixed_set = {0,True, False}\n",
    "my_mixed_set"
   ]
  },
  {
   "cell_type": "code",
   "execution_count": 13,
   "id": "61188271",
   "metadata": {},
   "outputs": [
    {
     "data": {
      "text/plain": [
       "{False, True}"
      ]
     },
     "execution_count": 13,
     "metadata": {},
     "output_type": "execute_result"
    }
   ],
   "source": [
    "my_mixed_set = {True, False,0}\n",
    "my_mixed_set"
   ]
  },
  {
   "cell_type": "code",
   "execution_count": 14,
   "id": "d9cb95f1",
   "metadata": {},
   "outputs": [
    {
     "data": {
      "text/plain": [
       "{25, 45, 84, 'Data', 'Nikita'}"
      ]
     },
     "execution_count": 14,
     "metadata": {},
     "output_type": "execute_result"
    }
   ],
   "source": [
    "new_set = {25,45,84,\"Nikita\",\"Data\"}\n",
    "new_set"
   ]
  },
  {
   "cell_type": "code",
   "execution_count": 15,
   "id": "421400d7",
   "metadata": {},
   "outputs": [
    {
     "data": {
      "text/plain": [
       "5"
      ]
     },
     "execution_count": 15,
     "metadata": {},
     "output_type": "execute_result"
    }
   ],
   "source": [
    "len(new_set)"
   ]
  },
  {
   "cell_type": "code",
   "execution_count": 16,
   "id": "cce29159",
   "metadata": {},
   "outputs": [
    {
     "data": {
      "text/plain": [
       "[11, '11,', 12, 12, '12', 13, 13, 13, '14']"
      ]
     },
     "execution_count": 16,
     "metadata": {},
     "output_type": "execute_result"
    }
   ],
   "source": [
    "my_list = [11,'11,',12,12,'12',13,13,13,'14']\n",
    "my_list"
   ]
  },
  {
   "cell_type": "code",
   "execution_count": 18,
   "id": "3bc338c8",
   "metadata": {},
   "outputs": [
    {
     "data": {
      "text/plain": [
       "{11, '11,', 12, '12', 13, '14'}"
      ]
     },
     "execution_count": 18,
     "metadata": {},
     "output_type": "execute_result"
    }
   ],
   "source": [
    "my_new_set = set(my_list)\n",
    "my_new_set"
   ]
  },
  {
   "cell_type": "code",
   "execution_count": 20,
   "id": "7effff35",
   "metadata": {},
   "outputs": [
    {
     "name": "stdout",
     "output_type": "stream",
     "text": [
      "{'solapur', 'mumbai', 'pune'}\n"
     ]
    }
   ],
   "source": [
    "my_set = {'mumbai', 'pune', 'solapur'}\n",
    "print(my_set)"
   ]
  },
  {
   "cell_type": "code",
   "execution_count": 23,
   "id": "abcb737f",
   "metadata": {},
   "outputs": [
    {
     "data": {
      "text/plain": [
       "['solapur', 'mumbai', 'pune']"
      ]
     },
     "execution_count": 23,
     "metadata": {},
     "output_type": "execute_result"
    }
   ],
   "source": [
    "my_new_list = list(my_set)\n",
    "my_new_list"
   ]
  },
  {
   "cell_type": "code",
   "execution_count": 29,
   "id": "dbe6ed78",
   "metadata": {},
   "outputs": [
    {
     "data": {
      "text/plain": [
       "{'India', 'US'}"
      ]
     },
     "execution_count": 29,
     "metadata": {},
     "output_type": "execute_result"
    }
   ],
   "source": [
    "country_set = {\"India\", \"US\", \"US\", \"India\"}\n",
    "country_set"
   ]
  },
  {
   "cell_type": "code",
   "execution_count": 30,
   "id": "456e0c36",
   "metadata": {},
   "outputs": [
    {
     "data": {
      "text/plain": [
       "{'India', 'UK', 'US'}"
      ]
     },
     "execution_count": 30,
     "metadata": {},
     "output_type": "execute_result"
    }
   ],
   "source": [
    "country_set.add(\"UK\")\n",
    "country_set"
   ]
  },
  {
   "cell_type": "code",
   "execution_count": 31,
   "id": "baa3899e",
   "metadata": {},
   "outputs": [
    {
     "data": {
      "text/plain": [
       "{'India', 'UK', 'US', 'china'}"
      ]
     },
     "execution_count": 31,
     "metadata": {},
     "output_type": "execute_result"
    }
   ],
   "source": [
    "country_set.add(\"china\")\n",
    "country_set"
   ]
  },
  {
   "cell_type": "code",
   "execution_count": 32,
   "id": "3c10a456",
   "metadata": {},
   "outputs": [
    {
     "data": {
      "text/plain": [
       "{'China', 'India', 'UK', 'US', 'china'}"
      ]
     },
     "execution_count": 32,
     "metadata": {},
     "output_type": "execute_result"
    }
   ],
   "source": [
    "country_set.add(\"China\")\n",
    "country_set"
   ]
  },
  {
   "cell_type": "code",
   "execution_count": 33,
   "id": "3a53e4cf",
   "metadata": {},
   "outputs": [
    {
     "data": {
      "text/plain": [
       "{'China', 'India', 'UK', 'US'}"
      ]
     },
     "execution_count": 33,
     "metadata": {},
     "output_type": "execute_result"
    }
   ],
   "source": [
    "country_set.remove('china')\n",
    "country_set"
   ]
  },
  {
   "cell_type": "code",
   "execution_count": 34,
   "id": "08ab59a5",
   "metadata": {},
   "outputs": [
    {
     "ename": "KeyError",
     "evalue": "'china'",
     "output_type": "error",
     "traceback": [
      "\u001b[1;31m---------------------------------------------------------------------------\u001b[0m",
      "\u001b[1;31mKeyError\u001b[0m                                  Traceback (most recent call last)",
      "Cell \u001b[1;32mIn[34], line 1\u001b[0m\n\u001b[1;32m----> 1\u001b[0m country_set\u001b[38;5;241m.\u001b[39mremove(\u001b[38;5;124m\"\u001b[39m\u001b[38;5;124mchina\u001b[39m\u001b[38;5;124m\"\u001b[39m)\n\u001b[0;32m      2\u001b[0m country_set\n",
      "\u001b[1;31mKeyError\u001b[0m: 'china'"
     ]
    }
   ],
   "source": [
    "country_set.remove(\"china\")\n",
    "country_set"
   ]
  },
  {
   "cell_type": "code",
   "execution_count": 35,
   "id": "dfa8e218",
   "metadata": {},
   "outputs": [
    {
     "data": {
      "text/plain": [
       "{'China', 'India', 'UK', 'US'}"
      ]
     },
     "execution_count": 35,
     "metadata": {},
     "output_type": "execute_result"
    }
   ],
   "source": [
    "country_set.discard(\"china\")\n",
    "country_set"
   ]
  },
  {
   "cell_type": "code",
   "execution_count": 36,
   "id": "abcd2180",
   "metadata": {},
   "outputs": [
    {
     "data": {
      "text/plain": [
       "{'China', 'India', 'UK', 'US'}"
      ]
     },
     "execution_count": 36,
     "metadata": {},
     "output_type": "execute_result"
    }
   ],
   "source": [
    "country_set"
   ]
  },
  {
   "cell_type": "code",
   "execution_count": 37,
   "id": "af1318ed",
   "metadata": {},
   "outputs": [
    {
     "data": {
      "text/plain": [
       "'India'"
      ]
     },
     "execution_count": 37,
     "metadata": {},
     "output_type": "execute_result"
    }
   ],
   "source": [
    "country_set.pop()"
   ]
  },
  {
   "cell_type": "code",
   "execution_count": 38,
   "id": "87686dbe",
   "metadata": {},
   "outputs": [
    {
     "data": {
      "text/plain": [
       "{1, 2, 3, 4, 5}"
      ]
     },
     "execution_count": 38,
     "metadata": {},
     "output_type": "execute_result"
    }
   ],
   "source": [
    "test_set = {1,2,3,4,5,}\n",
    "test_set"
   ]
  },
  {
   "cell_type": "code",
   "execution_count": 39,
   "id": "c0ec2c39",
   "metadata": {},
   "outputs": [
    {
     "data": {
      "text/plain": [
       "1"
      ]
     },
     "execution_count": 39,
     "metadata": {},
     "output_type": "execute_result"
    }
   ],
   "source": [
    "test_set.pop()"
   ]
  },
  {
   "cell_type": "code",
   "execution_count": 40,
   "id": "58477156",
   "metadata": {},
   "outputs": [
    {
     "data": {
      "text/plain": [
       "{2, 3, 4, 5}"
      ]
     },
     "execution_count": 40,
     "metadata": {},
     "output_type": "execute_result"
    }
   ],
   "source": [
    "test_set"
   ]
  },
  {
   "cell_type": "code",
   "execution_count": 42,
   "id": "d36ccf2b",
   "metadata": {},
   "outputs": [
    {
     "data": {
      "text/plain": [
       "set()"
      ]
     },
     "execution_count": 42,
     "metadata": {},
     "output_type": "execute_result"
    }
   ],
   "source": [
    "test_set.clear()\n",
    "test_set"
   ]
  },
  {
   "cell_type": "code",
   "execution_count": 43,
   "id": "fea4d782",
   "metadata": {},
   "outputs": [
    {
     "data": {
      "text/plain": [
       "True"
      ]
     },
     "execution_count": 43,
     "metadata": {},
     "output_type": "execute_result"
    }
   ],
   "source": [
    "\"US\" in country_set"
   ]
  },
  {
   "cell_type": "code",
   "execution_count": 45,
   "id": "d7a7a971",
   "metadata": {},
   "outputs": [
    {
     "data": {
      "text/plain": [
       "False"
      ]
     },
     "execution_count": 45,
     "metadata": {},
     "output_type": "execute_result"
    }
   ],
   "source": [
    "\"US\" not in country_set"
   ]
  },
  {
   "cell_type": "code",
   "execution_count": 63,
   "id": "4919038a",
   "metadata": {},
   "outputs": [],
   "source": [
    "Maha_cities = {\"Nagpur\", \"Amaravati\", \"Wardha\"}\n",
    "Guj_cities = {\"Vapi\",\"Gandhi Nagar\", \"Ahmadabad\"}\n",
    "West_reg_cities = {\"Nagpur\", \"Amaravati\", \"Wardha\",\"Vapi\",\"Ahmadabad\"}"
   ]
  },
  {
   "cell_type": "code",
   "execution_count": 64,
   "id": "934a72bd",
   "metadata": {},
   "outputs": [
    {
     "data": {
      "text/plain": [
       "{'Amaravati', 'Nagpur', 'Wardha'}"
      ]
     },
     "execution_count": 64,
     "metadata": {},
     "output_type": "execute_result"
    }
   ],
   "source": [
    "Maha_cities  & West_reg_cities"
   ]
  },
  {
   "cell_type": "code",
   "execution_count": 65,
   "id": "4e61329a",
   "metadata": {},
   "outputs": [
    {
     "data": {
      "text/plain": [
       "{'Amaravati', 'Nagpur', 'Wardha'}"
      ]
     },
     "execution_count": 65,
     "metadata": {},
     "output_type": "execute_result"
    }
   ],
   "source": [
    "West_reg_cities.intersection(Maha_cities)"
   ]
  },
  {
   "cell_type": "code",
   "execution_count": 66,
   "id": "99d12a4a",
   "metadata": {},
   "outputs": [
    {
     "data": {
      "text/plain": [
       "{'Ahmadabad', 'Vapi'}"
      ]
     },
     "execution_count": 66,
     "metadata": {},
     "output_type": "execute_result"
    }
   ],
   "source": [
    "Guj_cities &  West_reg_cities"
   ]
  },
  {
   "cell_type": "code",
   "execution_count": 67,
   "id": "7bff4cea",
   "metadata": {},
   "outputs": [
    {
     "data": {
      "text/plain": [
       "{'Ahmadabad', 'Vapi'}"
      ]
     },
     "execution_count": 67,
     "metadata": {},
     "output_type": "execute_result"
    }
   ],
   "source": [
    "West_reg_cities.intersection(Guj_cities)"
   ]
  },
  {
   "cell_type": "code",
   "execution_count": 68,
   "id": "00b2fa19",
   "metadata": {},
   "outputs": [
    {
     "data": {
      "text/plain": [
       "set()"
      ]
     },
     "execution_count": 68,
     "metadata": {},
     "output_type": "execute_result"
    }
   ],
   "source": [
    "Maha_cities & Guj_cities"
   ]
  },
  {
   "cell_type": "code",
   "execution_count": 70,
   "id": "44f18448",
   "metadata": {},
   "outputs": [
    {
     "data": {
      "text/plain": [
       "{'Ahmadabad', 'Vapi'}"
      ]
     },
     "execution_count": 70,
     "metadata": {},
     "output_type": "execute_result"
    }
   ],
   "source": [
    "West_reg_cities - Maha_cities"
   ]
  },
  {
   "cell_type": "code",
   "execution_count": 71,
   "id": "8dd59094",
   "metadata": {},
   "outputs": [
    {
     "data": {
      "text/plain": [
       "{'Ahmadabad', 'Vapi'}"
      ]
     },
     "execution_count": 71,
     "metadata": {},
     "output_type": "execute_result"
    }
   ],
   "source": [
    "West_reg_cities.difference(Maha_cities)"
   ]
  },
  {
   "cell_type": "code",
   "execution_count": 72,
   "id": "6502daf4",
   "metadata": {},
   "outputs": [
    {
     "data": {
      "text/plain": [
       "{'Amaravati', 'Nagpur', 'Wardha'}"
      ]
     },
     "execution_count": 72,
     "metadata": {},
     "output_type": "execute_result"
    }
   ],
   "source": [
    "West_reg_cities - Guj_cities"
   ]
  },
  {
   "cell_type": "code",
   "execution_count": 73,
   "id": "463faae2",
   "metadata": {},
   "outputs": [
    {
     "data": {
      "text/plain": [
       "{'Amaravati', 'Nagpur', 'Wardha'}"
      ]
     },
     "execution_count": 73,
     "metadata": {},
     "output_type": "execute_result"
    }
   ],
   "source": [
    "West_reg_cities.difference(Guj_cities)"
   ]
  },
  {
   "cell_type": "code",
   "execution_count": 74,
   "id": "da26a878",
   "metadata": {},
   "outputs": [
    {
     "data": {
      "text/plain": [
       "{'Amaravati', 'Nagpur', 'Wardha'}"
      ]
     },
     "execution_count": 74,
     "metadata": {},
     "output_type": "execute_result"
    }
   ],
   "source": [
    "Maha_cities - Guj_cities"
   ]
  },
  {
   "cell_type": "code",
   "execution_count": 76,
   "id": "4c0b206f",
   "metadata": {},
   "outputs": [
    {
     "data": {
      "text/plain": [
       "{'Amaravati', 'Nagpur', 'Wardha'}"
      ]
     },
     "execution_count": 76,
     "metadata": {},
     "output_type": "execute_result"
    }
   ],
   "source": [
    "Maha_cities.difference(Guj_cities)"
   ]
  },
  {
   "cell_type": "code",
   "execution_count": 77,
   "id": "c489d28b",
   "metadata": {},
   "outputs": [
    {
     "data": {
      "text/plain": [
       "{'Ahmadabad', 'Gandhi Nagar', 'Vapi'}"
      ]
     },
     "execution_count": 77,
     "metadata": {},
     "output_type": "execute_result"
    }
   ],
   "source": [
    "Guj_cities - Maha_cities"
   ]
  },
  {
   "cell_type": "code",
   "execution_count": 78,
   "id": "b8f9539a",
   "metadata": {},
   "outputs": [
    {
     "data": {
      "text/plain": [
       "{'Ahmadabad', 'Gandhi Nagar', 'Vapi'}"
      ]
     },
     "execution_count": 78,
     "metadata": {},
     "output_type": "execute_result"
    }
   ],
   "source": [
    "Guj_cities.difference(Maha_cities)"
   ]
  },
  {
   "cell_type": "code",
   "execution_count": 79,
   "id": "6c4e0af9",
   "metadata": {},
   "outputs": [
    {
     "data": {
      "text/plain": [
       "{'Ahmadabad', 'Amaravati', 'Nagpur', 'Vapi', 'Wardha'}"
      ]
     },
     "execution_count": 79,
     "metadata": {},
     "output_type": "execute_result"
    }
   ],
   "source": [
    "Maha_cities | West_reg_cities"
   ]
  },
  {
   "cell_type": "code",
   "execution_count": 80,
   "id": "94246fc9",
   "metadata": {},
   "outputs": [
    {
     "data": {
      "text/plain": [
       "{'Ahmadabad', 'Amaravati', 'Nagpur', 'Vapi', 'Wardha'}"
      ]
     },
     "execution_count": 80,
     "metadata": {},
     "output_type": "execute_result"
    }
   ],
   "source": [
    "Maha_cities.union(West_reg_cities)"
   ]
  },
  {
   "cell_type": "code",
   "execution_count": 81,
   "id": "a800e4ea",
   "metadata": {},
   "outputs": [
    {
     "data": {
      "text/plain": [
       "{'Ahmadabad', 'Amaravati', 'Gandhi Nagar', 'Nagpur', 'Vapi', 'Wardha'}"
      ]
     },
     "execution_count": 81,
     "metadata": {},
     "output_type": "execute_result"
    }
   ],
   "source": [
    "Maha_cities| Guj_cities"
   ]
  },
  {
   "cell_type": "code",
   "execution_count": 82,
   "id": "8ea445cc",
   "metadata": {},
   "outputs": [
    {
     "data": {
      "text/plain": [
       "{'Ahmadabad', 'Amaravati', 'Gandhi Nagar', 'Nagpur', 'Vapi', 'Wardha'}"
      ]
     },
     "execution_count": 82,
     "metadata": {},
     "output_type": "execute_result"
    }
   ],
   "source": [
    "Maha_cities.union(Guj_cities)"
   ]
  },
  {
   "cell_type": "code",
   "execution_count": 88,
   "id": "635ab79c",
   "metadata": {},
   "outputs": [
    {
     "data": {
      "text/plain": [
       "{'Ahmadabad', 'Amaravati', 'Gandhi Nagar', 'Nagpur', 'Vapi', 'Wardha'}"
      ]
     },
     "execution_count": 88,
     "metadata": {},
     "output_type": "execute_result"
    }
   ],
   "source": [
    "Maha_cities.update(Guj_cities)\n",
    "Maha_cities"
   ]
  },
  {
   "cell_type": "code",
   "execution_count": 93,
   "id": "0bf8cdeb",
   "metadata": {},
   "outputs": [
    {
     "data": {
      "text/plain": [
       "{'Ahmadabad', 'Amaravati', 'Gandhi Nagar', 'Nagpur', 'Pune', 'Vapi', 'Wardha'}"
      ]
     },
     "execution_count": 93,
     "metadata": {},
     "output_type": "execute_result"
    }
   ],
   "source": [
    "Maha_cities.update(West_reg_cities)\n",
    "Maha_cities"
   ]
  },
  {
   "cell_type": "code",
   "execution_count": 95,
   "id": "1f0dfbe6",
   "metadata": {},
   "outputs": [
    {
     "data": {
      "text/plain": [
       "{'Gandhi Nagar', 'Pune'}"
      ]
     },
     "execution_count": 95,
     "metadata": {},
     "output_type": "execute_result"
    }
   ],
   "source": [
    "Maha_cities.symmetric_difference(West_reg_cities)"
   ]
  },
  {
   "cell_type": "code",
   "execution_count": 96,
   "id": "3ec0b6c6",
   "metadata": {},
   "outputs": [
    {
     "data": {
      "text/plain": [
       "{'Ahmadabad', 'Amaravati', 'Gandhi Nagar', 'Nagpur', 'Pune', 'Vapi', 'Wardha'}"
      ]
     },
     "execution_count": 96,
     "metadata": {},
     "output_type": "execute_result"
    }
   ],
   "source": [
    "Maha_cities"
   ]
  },
  {
   "cell_type": "code",
   "execution_count": 97,
   "id": "91cc2528",
   "metadata": {},
   "outputs": [
    {
     "data": {
      "text/plain": [
       "'Ahmadabad'"
      ]
     },
     "execution_count": 97,
     "metadata": {},
     "output_type": "execute_result"
    }
   ],
   "source": [
    "Maha_cities.pop()"
   ]
  },
  {
   "cell_type": "code",
   "execution_count": 99,
   "id": "ea4d474d",
   "metadata": {},
   "outputs": [
    {
     "data": {
      "text/plain": [
       "{'Amaravati', 'Gandhi Nagar', 'Nagpur', 'Pune', 'Vapi', 'Wardha'}"
      ]
     },
     "execution_count": 99,
     "metadata": {},
     "output_type": "execute_result"
    }
   ],
   "source": [
    "Maha_cities"
   ]
  },
  {
   "cell_type": "code",
   "execution_count": 102,
   "id": "e1942fb7",
   "metadata": {},
   "outputs": [
    {
     "data": {
      "text/plain": [
       "{'Amaravati', 'Gandhi Nagar', 'Nagpur', 'Pune', 'Vapi', 'Wardha'}"
      ]
     },
     "execution_count": 102,
     "metadata": {},
     "output_type": "execute_result"
    }
   ],
   "source": [
    "Maha_cities.copy()"
   ]
  },
  {
   "cell_type": "code",
   "execution_count": 116,
   "id": "cb0826aa",
   "metadata": {},
   "outputs": [
    {
     "name": "stdout",
     "output_type": "stream",
     "text": [
      "\n",
      "All languages  ---- {'java', 'R', 'c+', 'c++', 'Python'}\n",
      "\n",
      " Data Science language count   ------ 2\n",
      "\n",
      " Language which are not data science language ----- {'c+', 'java', 'c++'}\n",
      "\n",
      " Languages which are both programming languages and DS_languages ---- {'Python'}\n",
      "\n",
      " Only Data Science languages ------ {'R'}\n"
     ]
    }
   ],
   "source": [
    "language = {\"Python\", \"java\", \"c+\", \"c++\"}\n",
    "DS_languages = {\"Python\", \"R\"}\n",
    "\n",
    "print(\"\\nAll languages  ----\", language | DS_languages)\n",
    "\n",
    "print(\"\\n Data Science language count   ------\", len(DS_languages))\n",
    "\n",
    "print(\"\\n Language which are not data science language -----\", language.difference(DS_languages))\n",
    "\n",
    "print(\"\\n Languages which are both programming languages and DS_languages ----\",language & DS_languages)\n",
    "\n",
    "print(\"\\n Only Data Science languages ------\", DS_languages.difference(language))"
   ]
  },
  {
   "cell_type": "markdown",
   "id": "79f5222c",
   "metadata": {},
   "source": [
    "# Practice set-2"
   ]
  },
  {
   "cell_type": "code",
   "execution_count": 134,
   "id": "ef7b30e7",
   "metadata": {},
   "outputs": [
    {
     "name": "stdout",
     "output_type": "stream",
     "text": [
      "\n",
      " My Set --- {1, 3}\n",
      "\n",
      " My Set after addtion ---- {1, 2, 3}\n",
      "\n",
      " My updates set ----- {1, 2, 3, 4}\n",
      "\n",
      " My 2 updated set ---- {1, 2, 3, 4, 5, 6, 8}\n"
     ]
    }
   ],
   "source": [
    "my_set = {1,3}\n",
    "print(\"\\n My Set ---\", my_set)\n",
    "\n",
    "my_set.add(2)\n",
    "print(\"\\n My Set after addtion ----\", my_set)\n",
    "\n",
    "my_set.update([2,3,4])\n",
    "print(\"\\n My updates set -----\", my_set)\n",
    "\n",
    "my_set.update([4,5],{1,6,8})\n",
    "print(\"\\n My 2 updated set ----\", my_set)"
   ]
  },
  {
   "cell_type": "code",
   "execution_count": 135,
   "id": "4749e83d",
   "metadata": {},
   "outputs": [
    {
     "data": {
      "text/plain": [
       "{1, 2, 3, 4, 5, 6, 8}"
      ]
     },
     "execution_count": 135,
     "metadata": {},
     "output_type": "execute_result"
    }
   ],
   "source": [
    "my_set"
   ]
  },
  {
   "cell_type": "code",
   "execution_count": 136,
   "id": "a7a32412",
   "metadata": {},
   "outputs": [
    {
     "ename": "TypeError",
     "evalue": "unhashable type: 'list'",
     "output_type": "error",
     "traceback": [
      "\u001b[1;31m---------------------------------------------------------------------------\u001b[0m",
      "\u001b[1;31mTypeError\u001b[0m                                 Traceback (most recent call last)",
      "Cell \u001b[1;32mIn[136], line 1\u001b[0m\n\u001b[1;32m----> 1\u001b[0m my_set\u001b[38;5;241m.\u001b[39madd([\u001b[38;5;124m\"\u001b[39m\u001b[38;5;124ma\u001b[39m\u001b[38;5;124m\"\u001b[39m, \u001b[38;5;124m\"\u001b[39m\u001b[38;5;124mb\u001b[39m\u001b[38;5;124m\"\u001b[39m])\n\u001b[0;32m      2\u001b[0m my_set\n",
      "\u001b[1;31mTypeError\u001b[0m: unhashable type: 'list'"
     ]
    }
   ],
   "source": [
    "my_set.add([\"a\", \"b\"])\n",
    "my_set"
   ]
  },
  {
   "cell_type": "code",
   "execution_count": 137,
   "id": "e976d414",
   "metadata": {},
   "outputs": [
    {
     "data": {
      "text/plain": [
       "{1, 2, 3, 4, 5, 6, 8}"
      ]
     },
     "execution_count": 137,
     "metadata": {},
     "output_type": "execute_result"
    }
   ],
   "source": [
    "my_set"
   ]
  },
  {
   "cell_type": "code",
   "execution_count": 138,
   "id": "09ada391",
   "metadata": {},
   "outputs": [
    {
     "data": {
      "text/plain": [
       "{1, 2, 3, 4, 5, 6, 8, 'a', 'b'}"
      ]
     },
     "execution_count": 138,
     "metadata": {},
     "output_type": "execute_result"
    }
   ],
   "source": [
    "my_set.update([\"a\",\"b\"])\n",
    "my_set"
   ]
  },
  {
   "cell_type": "code",
   "execution_count": 139,
   "id": "1ce87db5",
   "metadata": {},
   "outputs": [
    {
     "name": "stdout",
     "output_type": "stream",
     "text": [
      "\n",
      " Set using Union operator---- {1, 2, 3, 4, 5, 6, 7, 8}\n",
      "\n",
      " Set using Union method------ {1, 2, 3, 4, 5, 6, 7, 8}\n"
     ]
    }
   ],
   "source": [
    "A = {1,2,3,4,5}\n",
    "B = {4,5,6,7,8}\n",
    "\n",
    "print(\"\\n Set using Union operator----\", A | B)\n",
    "\n",
    "print(\"\\n Set using Union method------\", A.union(B))"
   ]
  },
  {
   "cell_type": "code",
   "execution_count": 140,
   "id": "a35b053c",
   "metadata": {},
   "outputs": [
    {
     "name": "stdout",
     "output_type": "stream",
     "text": [
      "\n",
      " Set using & operator---- {4, 5}\n",
      "\n",
      " Set using Intersection method---- {4, 5}\n"
     ]
    }
   ],
   "source": [
    "A = {1,2,3,4,5}\n",
    "B = {4,5,6,7,8}\n",
    "\n",
    "print(\"\\n Set using & operator----\", A & B)\n",
    "\n",
    "print(\"\\n Set using Intersection method----\", A.intersection(B))"
   ]
  },
  {
   "cell_type": "code",
   "execution_count": 141,
   "id": "43193029",
   "metadata": {},
   "outputs": [
    {
     "name": "stdout",
     "output_type": "stream",
     "text": [
      "\n",
      " Set using - operator----- {1, 2, 3}\n",
      "\n",
      " Set using Difference method----- {1, 2, 3}\n",
      "\n",
      " Set using - operator----- {8, 6, 7}\n",
      "\n",
      " Set using Difference method----- {8, 6, 7}\n"
     ]
    }
   ],
   "source": [
    "A = {1,2,3,4,5}\n",
    "B = {4,5,6,7,8} \n",
    "\n",
    "print(\"\\n Set using - operator-----\", A-B)\n",
    "\n",
    "print(\"\\n Set using Difference method-----\", A.difference(B))\n",
    "\n",
    "print(\"\\n Set using - operator-----\", B-A)\n",
    "\n",
    "print(\"\\n Set using Difference method-----\", B.difference(A))"
   ]
  },
  {
   "cell_type": "code",
   "execution_count": 152,
   "id": "65e271fa",
   "metadata": {},
   "outputs": [
    {
     "name": "stdout",
     "output_type": "stream",
     "text": [
      "\n",
      " Set using - operator----- {1, 2, 3}\n",
      "\n",
      " Set using Difference method----- {1, 2, 3}\n",
      "\n",
      " Set using - operator----- {8, 6, 7}\n",
      "\n",
      " Set using Difference method----- {8, 6, 7}\n",
      "\n",
      " Set using Difference_updated---- None\n"
     ]
    }
   ],
   "source": [
    "A = {1,2,3,4,5}\n",
    "B = {4,5,6,7,8} \n",
    "\n",
    "print(\"\\n Set using - operator-----\", A-B)\n",
    "\n",
    "print(\"\\n Set using Difference method-----\", A.difference(B))\n",
    "\n",
    "\n",
    "print(\"\\n Set using - operator-----\", B-A)\n",
    "\n",
    "print(\"\\n Set using Difference method-----\", B.difference(A))\n",
    "\n",
    "print(\"\\n Set using Difference_updated----\", B.difference_update(A))"
   ]
  },
  {
   "cell_type": "code",
   "execution_count": 153,
   "id": "ef8e3e5c",
   "metadata": {},
   "outputs": [
    {
     "name": "stdout",
     "output_type": "stream",
     "text": [
      "\n",
      " Set using Difference_updated---- None\n"
     ]
    }
   ],
   "source": [
    "A = {1,2,3,4,5}\n",
    "B = {4,5,6,7,8} \n",
    "\n",
    "print(\"\\n Set using Difference_updated----\", B.difference_update(A))"
   ]
  },
  {
   "cell_type": "code",
   "execution_count": null,
   "id": "03d39079",
   "metadata": {},
   "outputs": [],
   "source": []
  }
 ],
 "metadata": {
  "kernelspec": {
   "display_name": "Python 3 (ipykernel)",
   "language": "python",
   "name": "python3"
  },
  "language_info": {
   "codemirror_mode": {
    "name": "ipython",
    "version": 3
   },
   "file_extension": ".py",
   "mimetype": "text/x-python",
   "name": "python",
   "nbconvert_exporter": "python",
   "pygments_lexer": "ipython3",
   "version": "3.11.4"
  }
 },
 "nbformat": 4,
 "nbformat_minor": 5
}
