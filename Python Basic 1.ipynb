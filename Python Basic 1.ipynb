{
 "cells": [
  {
   "cell_type": "code",
   "execution_count": 1,
   "id": "8612cd36",
   "metadata": {},
   "outputs": [
    {
     "ename": "NameError",
     "evalue": "name 'Nikita' is not defined",
     "output_type": "error",
     "traceback": [
      "\u001b[1;31m---------------------------------------------------------------------------\u001b[0m",
      "\u001b[1;31mNameError\u001b[0m                                 Traceback (most recent call last)",
      "Cell \u001b[1;32mIn[1], line 1\u001b[0m\n\u001b[1;32m----> 1\u001b[0m \u001b[38;5;28mprint\u001b[39m(Nikita)\n",
      "\u001b[1;31mNameError\u001b[0m: name 'Nikita' is not defined"
     ]
    }
   ],
   "source": [
    "print(Nikita)"
   ]
  },
  {
   "cell_type": "markdown",
   "id": "c7994311",
   "metadata": {},
   "source": [
    "# Data types:\n",
    "\n",
    "string = smith\n",
    "\n",
    "int = 7\n",
    "\n",
    "float = 6.9\n",
    "\n",
    "Boolen = True\n",
    "\n",
    "complex = 3x+4y+z    "
   ]
  },
  {
   "cell_type": "code",
   "execution_count": 3,
   "id": "6838b748",
   "metadata": {},
   "outputs": [
    {
     "name": "stdout",
     "output_type": "stream",
     "text": [
      "Nikita\n"
     ]
    }
   ],
   "source": [
    "print(\"Nikita\")"
   ]
  },
  {
   "cell_type": "code",
   "execution_count": 4,
   "id": "4ac2b4d7",
   "metadata": {},
   "outputs": [
    {
     "name": "stdout",
     "output_type": "stream",
     "text": [
      "nikita\n"
     ]
    }
   ],
   "source": [
    "print('nikita')"
   ]
  },
  {
   "cell_type": "code",
   "execution_count": 5,
   "id": "b2e895ba",
   "metadata": {},
   "outputs": [
    {
     "name": "stdout",
     "output_type": "stream",
     "text": [
      "nikita is 25 year old\n"
     ]
    }
   ],
   "source": [
    "print('nikita is 25 year old')"
   ]
  },
  {
   "cell_type": "code",
   "execution_count": 7,
   "id": "85c518cd",
   "metadata": {},
   "outputs": [
    {
     "name": "stdout",
     "output_type": "stream",
     "text": [
      "Nikita\n"
     ]
    },
    {
     "data": {
      "text/plain": [
       "NoneType"
      ]
     },
     "execution_count": 7,
     "metadata": {},
     "output_type": "execute_result"
    }
   ],
   "source": [
    "type(print(\"Nikita\"))"
   ]
  },
  {
   "cell_type": "code",
   "execution_count": 8,
   "id": "8e863974",
   "metadata": {},
   "outputs": [],
   "source": [
    "a = \"Nikita\""
   ]
  },
  {
   "cell_type": "code",
   "execution_count": 9,
   "id": "616656cc",
   "metadata": {},
   "outputs": [
    {
     "data": {
      "text/plain": [
       "str"
      ]
     },
     "execution_count": 9,
     "metadata": {},
     "output_type": "execute_result"
    }
   ],
   "source": [
    "type(a)"
   ]
  },
  {
   "cell_type": "code",
   "execution_count": 10,
   "id": "72e23101",
   "metadata": {},
   "outputs": [],
   "source": [
    "b = 8"
   ]
  },
  {
   "cell_type": "code",
   "execution_count": 11,
   "id": "b1d69527",
   "metadata": {},
   "outputs": [
    {
     "data": {
      "text/plain": [
       "int"
      ]
     },
     "execution_count": 11,
     "metadata": {},
     "output_type": "execute_result"
    }
   ],
   "source": [
    "type(b)"
   ]
  },
  {
   "cell_type": "code",
   "execution_count": 12,
   "id": "0173a56d",
   "metadata": {},
   "outputs": [],
   "source": [
    "c = True"
   ]
  },
  {
   "cell_type": "code",
   "execution_count": 13,
   "id": "0d9cdac6",
   "metadata": {},
   "outputs": [
    {
     "data": {
      "text/plain": [
       "bool"
      ]
     },
     "execution_count": 13,
     "metadata": {},
     "output_type": "execute_result"
    }
   ],
   "source": [
    "type(c)"
   ]
  },
  {
   "cell_type": "code",
   "execution_count": 14,
   "id": "44fe7843",
   "metadata": {},
   "outputs": [],
   "source": [
    "d = 12.5"
   ]
  },
  {
   "cell_type": "code",
   "execution_count": 15,
   "id": "ebefb8aa",
   "metadata": {},
   "outputs": [
    {
     "data": {
      "text/plain": [
       "float"
      ]
     },
     "execution_count": 15,
     "metadata": {},
     "output_type": "execute_result"
    }
   ],
   "source": [
    "type(d)"
   ]
  },
  {
   "cell_type": "code",
   "execution_count": 16,
   "id": "8068a9b0",
   "metadata": {},
   "outputs": [],
   "source": [
    "Name = \"Data Science\""
   ]
  },
  {
   "cell_type": "code",
   "execution_count": 17,
   "id": "591b2504",
   "metadata": {},
   "outputs": [
    {
     "name": "stdout",
     "output_type": "stream",
     "text": [
      "Data Science\n"
     ]
    }
   ],
   "source": [
    "print(Name)"
   ]
  },
  {
   "cell_type": "code",
   "execution_count": 18,
   "id": "a06563e1",
   "metadata": {},
   "outputs": [
    {
     "data": {
      "text/plain": [
       "str"
      ]
     },
     "execution_count": 18,
     "metadata": {},
     "output_type": "execute_result"
    }
   ],
   "source": [
    "type(Name)"
   ]
  },
  {
   "cell_type": "code",
   "execution_count": 4,
   "id": "9752bacd",
   "metadata": {},
   "outputs": [],
   "source": [
    "a = 12\n",
    "b = 13.5\n",
    "c = 15"
   ]
  },
  {
   "cell_type": "code",
   "execution_count": 5,
   "id": "c66216d2",
   "metadata": {},
   "outputs": [
    {
     "name": "stdout",
     "output_type": "stream",
     "text": [
      "12 13.5 15\n"
     ]
    }
   ],
   "source": [
    "print(a,b,c)"
   ]
  },
  {
   "cell_type": "code",
   "execution_count": 6,
   "id": "b5aac7f5",
   "metadata": {},
   "outputs": [
    {
     "data": {
      "text/plain": [
       "25.5"
      ]
     },
     "execution_count": 6,
     "metadata": {},
     "output_type": "execute_result"
    }
   ],
   "source": [
    "a + b"
   ]
  },
  {
   "cell_type": "code",
   "execution_count": 7,
   "id": "72460fff",
   "metadata": {},
   "outputs": [],
   "source": [
    "a = 40"
   ]
  },
  {
   "cell_type": "code",
   "execution_count": 8,
   "id": "b8d94480",
   "metadata": {},
   "outputs": [],
   "source": [
    "B = 50"
   ]
  },
  {
   "cell_type": "code",
   "execution_count": 9,
   "id": "c49fda8f",
   "metadata": {},
   "outputs": [
    {
     "data": {
      "text/plain": [
       "53.5"
      ]
     },
     "execution_count": 9,
     "metadata": {},
     "output_type": "execute_result"
    }
   ],
   "source": [
    "a + b"
   ]
  },
  {
   "cell_type": "code",
   "execution_count": 10,
   "id": "c1f14584",
   "metadata": {},
   "outputs": [
    {
     "data": {
      "text/plain": [
       "90"
      ]
     },
     "execution_count": 10,
     "metadata": {},
     "output_type": "execute_result"
    }
   ],
   "source": [
    "a + B"
   ]
  },
  {
   "cell_type": "code",
   "execution_count": 11,
   "id": "49632e6f",
   "metadata": {},
   "outputs": [],
   "source": [
    "B = 'c'"
   ]
  },
  {
   "cell_type": "code",
   "execution_count": 12,
   "id": "5977b1dd",
   "metadata": {},
   "outputs": [
    {
     "ename": "TypeError",
     "evalue": "unsupported operand type(s) for +: 'int' and 'str'",
     "output_type": "error",
     "traceback": [
      "\u001b[1;31m---------------------------------------------------------------------------\u001b[0m",
      "\u001b[1;31mTypeError\u001b[0m                                 Traceback (most recent call last)",
      "Cell \u001b[1;32mIn[12], line 1\u001b[0m\n\u001b[1;32m----> 1\u001b[0m a \u001b[38;5;241m+\u001b[39m B\n",
      "\u001b[1;31mTypeError\u001b[0m: unsupported operand type(s) for +: 'int' and 'str'"
     ]
    }
   ],
   "source": [
    "a + B"
   ]
  },
  {
   "cell_type": "code",
   "execution_count": 13,
   "id": "d21d940c",
   "metadata": {},
   "outputs": [],
   "source": [
    "D = \"e\""
   ]
  },
  {
   "cell_type": "code",
   "execution_count": 14,
   "id": "5194e410",
   "metadata": {},
   "outputs": [
    {
     "data": {
      "text/plain": [
       "'ce'"
      ]
     },
     "execution_count": 14,
     "metadata": {},
     "output_type": "execute_result"
    }
   ],
   "source": [
    "B + D"
   ]
  },
  {
   "cell_type": "code",
   "execution_count": 15,
   "id": "d1b7289e",
   "metadata": {},
   "outputs": [],
   "source": [
    "x = 4.5"
   ]
  },
  {
   "cell_type": "code",
   "execution_count": 16,
   "id": "035e756e",
   "metadata": {},
   "outputs": [
    {
     "ename": "TypeError",
     "evalue": "can only concatenate str (not \"float\") to str",
     "output_type": "error",
     "traceback": [
      "\u001b[1;31m---------------------------------------------------------------------------\u001b[0m",
      "\u001b[1;31mTypeError\u001b[0m                                 Traceback (most recent call last)",
      "Cell \u001b[1;32mIn[16], line 1\u001b[0m\n\u001b[1;32m----> 1\u001b[0m D \u001b[38;5;241m+\u001b[39m x\n",
      "\u001b[1;31mTypeError\u001b[0m: can only concatenate str (not \"float\") to str"
     ]
    }
   ],
   "source": [
    "D + x"
   ]
  },
  {
   "cell_type": "code",
   "execution_count": 17,
   "id": "d9daf3e1",
   "metadata": {},
   "outputs": [
    {
     "ename": "SyntaxError",
     "evalue": "invalid syntax (232453937.py, line 1)",
     "output_type": "error",
     "traceback": [
      "\u001b[1;36m  Cell \u001b[1;32mIn[17], line 1\u001b[1;36m\u001b[0m\n\u001b[1;33m    math operators\u001b[0m\n\u001b[1;37m         ^\u001b[0m\n\u001b[1;31mSyntaxError\u001b[0m\u001b[1;31m:\u001b[0m invalid syntax\n"
     ]
    }
   ],
   "source": [
    "math operators \n",
    "\n",
    "+ \n",
    "-\n",
    "=\n",
    "/\n",
    "*\n",
    "<\n",
    ">\n",
    "<=\n",
    ">=\n",
    "!="
   ]
  },
  {
   "cell_type": "code",
   "execution_count": 18,
   "id": "2ac6d49e",
   "metadata": {},
   "outputs": [],
   "source": [
    "a = 10\n",
    "b = 20\n",
    "c = 30\n",
    "d = 40"
   ]
  },
  {
   "cell_type": "code",
   "execution_count": 19,
   "id": "f1bee6d4",
   "metadata": {},
   "outputs": [
    {
     "data": {
      "text/plain": [
       "60"
      ]
     },
     "execution_count": 19,
     "metadata": {},
     "output_type": "execute_result"
    }
   ],
   "source": [
    "a + b + c"
   ]
  },
  {
   "cell_type": "code",
   "execution_count": 20,
   "id": "ce839983",
   "metadata": {},
   "outputs": [
    {
     "data": {
      "text/plain": [
       "20"
      ]
     },
     "execution_count": 20,
     "metadata": {},
     "output_type": "execute_result"
    }
   ],
   "source": [
    "c - a"
   ]
  },
  {
   "cell_type": "code",
   "execution_count": 21,
   "id": "810a2acd",
   "metadata": {},
   "outputs": [
    {
     "data": {
      "text/plain": [
       "2.0"
      ]
     },
     "execution_count": 21,
     "metadata": {},
     "output_type": "execute_result"
    }
   ],
   "source": [
    "d / b"
   ]
  },
  {
   "cell_type": "code",
   "execution_count": 22,
   "id": "03d6006d",
   "metadata": {},
   "outputs": [
    {
     "data": {
      "text/plain": [
       "400"
      ]
     },
     "execution_count": 22,
     "metadata": {},
     "output_type": "execute_result"
    }
   ],
   "source": [
    "d * a"
   ]
  },
  {
   "cell_type": "code",
   "execution_count": 23,
   "id": "1e14f0b6",
   "metadata": {},
   "outputs": [],
   "source": [
    "multi = a * b * c * d"
   ]
  },
  {
   "cell_type": "code",
   "execution_count": 24,
   "id": "48a73709",
   "metadata": {},
   "outputs": [
    {
     "name": "stdout",
     "output_type": "stream",
     "text": [
      "240000\n"
     ]
    }
   ],
   "source": [
    "print(multi)"
   ]
  },
  {
   "cell_type": "code",
   "execution_count": 25,
   "id": "d735dfc3",
   "metadata": {},
   "outputs": [
    {
     "data": {
      "text/plain": [
       "190"
      ]
     },
     "execution_count": 25,
     "metadata": {},
     "output_type": "execute_result"
    }
   ],
   "source": [
    "a * b + c - d"
   ]
  },
  {
   "cell_type": "code",
   "execution_count": 26,
   "id": "689fccef",
   "metadata": {},
   "outputs": [
    {
     "data": {
      "text/plain": [
       "20"
      ]
     },
     "execution_count": 26,
     "metadata": {},
     "output_type": "execute_result"
    }
   ],
   "source": [
    "a * 2"
   ]
  },
  {
   "cell_type": "code",
   "execution_count": 27,
   "id": "ef87e25c",
   "metadata": {},
   "outputs": [
    {
     "data": {
      "text/plain": [
       "100"
      ]
     },
     "execution_count": 27,
     "metadata": {},
     "output_type": "execute_result"
    }
   ],
   "source": [
    "a ** 2"
   ]
  },
  {
   "cell_type": "code",
   "execution_count": 29,
   "id": "f78e5eac",
   "metadata": {},
   "outputs": [
    {
     "data": {
      "text/plain": [
       "1000"
      ]
     },
     "execution_count": 29,
     "metadata": {},
     "output_type": "execute_result"
    }
   ],
   "source": [
    "a**3"
   ]
  },
  {
   "cell_type": "code",
   "execution_count": 30,
   "id": "a7835c7a",
   "metadata": {},
   "outputs": [],
   "source": [
    "A = a **4"
   ]
  },
  {
   "cell_type": "code",
   "execution_count": 31,
   "id": "58aac1f1",
   "metadata": {},
   "outputs": [],
   "source": [
    "B = b **4"
   ]
  },
  {
   "cell_type": "code",
   "execution_count": 32,
   "id": "46609089",
   "metadata": {},
   "outputs": [
    {
     "data": {
      "text/plain": [
       "150000"
      ]
     },
     "execution_count": 32,
     "metadata": {},
     "output_type": "execute_result"
    }
   ],
   "source": [
    "B - A"
   ]
  },
  {
   "cell_type": "code",
   "execution_count": 33,
   "id": "53205f02",
   "metadata": {},
   "outputs": [
    {
     "ename": "SyntaxError",
     "evalue": "invalid decimal literal (3130786087.py, line 1)",
     "output_type": "error",
     "traceback": [
      "\u001b[1;36m  Cell \u001b[1;32mIn[33], line 1\u001b[1;36m\u001b[0m\n\u001b[1;33m    6c = \"gsfgdj\"\u001b[0m\n\u001b[1;37m    ^\u001b[0m\n\u001b[1;31mSyntaxError\u001b[0m\u001b[1;31m:\u001b[0m invalid decimal literal\n"
     ]
    }
   ],
   "source": [
    "6c = \"gsfgdj\""
   ]
  },
  {
   "cell_type": "code",
   "execution_count": 34,
   "id": "027c8ccd",
   "metadata": {},
   "outputs": [],
   "source": [
    "c = \"fdhhdhgh\""
   ]
  },
  {
   "cell_type": "code",
   "execution_count": 35,
   "id": "a4242a5d",
   "metadata": {},
   "outputs": [],
   "source": [
    "s = 12255"
   ]
  },
  {
   "cell_type": "code",
   "execution_count": 36,
   "id": "368b4c5a",
   "metadata": {},
   "outputs": [],
   "source": [
    "_c = \"dgjjjkjd\""
   ]
  },
  {
   "cell_type": "code",
   "execution_count": 37,
   "id": "c88d9326",
   "metadata": {},
   "outputs": [
    {
     "name": "stdout",
     "output_type": "stream",
     "text": [
      "4\n",
      "0\n"
     ]
    }
   ],
   "source": [
    "print(True + True + True + False + True  )\n",
    "print(False - True + True ) "
   ]
  },
  {
   "cell_type": "markdown",
   "id": "810d3000",
   "metadata": {},
   "source": [
    "True = 1\n",
    "False = 0"
   ]
  },
  {
   "cell_type": "code",
   "execution_count": 39,
   "id": "3c16fee7",
   "metadata": {},
   "outputs": [],
   "source": [
    "n  = 45 + 6j\n",
    "m = 56 + 8j"
   ]
  },
  {
   "cell_type": "code",
   "execution_count": 40,
   "id": "c6667ee2",
   "metadata": {},
   "outputs": [
    {
     "data": {
      "text/plain": [
       "complex"
      ]
     },
     "execution_count": 40,
     "metadata": {},
     "output_type": "execute_result"
    }
   ],
   "source": [
    "type(m)"
   ]
  },
  {
   "cell_type": "code",
   "execution_count": 41,
   "id": "442268cf",
   "metadata": {},
   "outputs": [
    {
     "data": {
      "text/plain": [
       "complex"
      ]
     },
     "execution_count": 41,
     "metadata": {},
     "output_type": "execute_result"
    }
   ],
   "source": [
    "type(n)"
   ]
  },
  {
   "cell_type": "code",
   "execution_count": 42,
   "id": "a440bb17",
   "metadata": {},
   "outputs": [
    {
     "data": {
      "text/plain": [
       "(2472+696j)"
      ]
     },
     "execution_count": 42,
     "metadata": {},
     "output_type": "execute_result"
    }
   ],
   "source": [
    "n * m"
   ]
  },
  {
   "cell_type": "code",
   "execution_count": 43,
   "id": "18d2701f",
   "metadata": {},
   "outputs": [
    {
     "data": {
      "text/plain": [
       "45.0"
      ]
     },
     "execution_count": 43,
     "metadata": {},
     "output_type": "execute_result"
    }
   ],
   "source": [
    "n.real"
   ]
  },
  {
   "cell_type": "code",
   "execution_count": 44,
   "id": "d3822b40",
   "metadata": {},
   "outputs": [
    {
     "data": {
      "text/plain": [
       "56.0"
      ]
     },
     "execution_count": 44,
     "metadata": {},
     "output_type": "execute_result"
    }
   ],
   "source": [
    "m.real"
   ]
  },
  {
   "cell_type": "code",
   "execution_count": 45,
   "id": "e330f6c4",
   "metadata": {},
   "outputs": [
    {
     "data": {
      "text/plain": [
       "6.0"
      ]
     },
     "execution_count": 45,
     "metadata": {},
     "output_type": "execute_result"
    }
   ],
   "source": [
    "n.imag"
   ]
  },
  {
   "cell_type": "code",
   "execution_count": 46,
   "id": "a5516eaa",
   "metadata": {},
   "outputs": [
    {
     "data": {
      "text/plain": [
       "8.0"
      ]
     },
     "execution_count": 46,
     "metadata": {},
     "output_type": "execute_result"
    }
   ],
   "source": [
    "m.imag"
   ]
  },
  {
   "cell_type": "code",
   "execution_count": 47,
   "id": "edf40481",
   "metadata": {},
   "outputs": [
    {
     "data": {
      "text/plain": [
       "'Data1'"
      ]
     },
     "execution_count": 47,
     "metadata": {},
     "output_type": "execute_result"
    }
   ],
   "source": [
    "\"Data\" + \"1\""
   ]
  },
  {
   "cell_type": "code",
   "execution_count": 48,
   "id": "c1bf059c",
   "metadata": {},
   "outputs": [
    {
     "data": {
      "text/plain": [
       "'DataDataData'"
      ]
     },
     "execution_count": 48,
     "metadata": {},
     "output_type": "execute_result"
    }
   ],
   "source": [
    "\"Data\" + \"Data\" + \"Data\""
   ]
  },
  {
   "cell_type": "code",
   "execution_count": 49,
   "id": "2284700f",
   "metadata": {},
   "outputs": [
    {
     "data": {
      "text/plain": [
       "'DataDataData'"
      ]
     },
     "execution_count": 49,
     "metadata": {},
     "output_type": "execute_result"
    }
   ],
   "source": [
    "\"Data\"*3"
   ]
  },
  {
   "cell_type": "code",
   "execution_count": 50,
   "id": "7d3f1e84",
   "metadata": {},
   "outputs": [
    {
     "data": {
      "text/plain": [
       "23"
      ]
     },
     "execution_count": 50,
     "metadata": {},
     "output_type": "execute_result"
    }
   ],
   "source": [
    "int(\"23\")"
   ]
  },
  {
   "cell_type": "code",
   "execution_count": 51,
   "id": "bfae5d2d",
   "metadata": {},
   "outputs": [
    {
     "data": {
      "text/plain": [
       "int"
      ]
     },
     "execution_count": 51,
     "metadata": {},
     "output_type": "execute_result"
    }
   ],
   "source": [
    "type(int(\"23\"))"
   ]
  },
  {
   "cell_type": "code",
   "execution_count": 52,
   "id": "7f4ebae0",
   "metadata": {},
   "outputs": [
    {
     "data": {
      "text/plain": [
       "23"
      ]
     },
     "execution_count": 52,
     "metadata": {},
     "output_type": "execute_result"
    }
   ],
   "source": [
    "int(23)"
   ]
  },
  {
   "cell_type": "code",
   "execution_count": null,
   "id": "45d7570f",
   "metadata": {},
   "outputs": [],
   "source": [
    "int(15fdd235)"
   ]
  },
  {
   "cell_type": "code",
   "execution_count": null,
   "id": "9586fd15",
   "metadata": {},
   "outputs": [],
   "source": []
  }
 ],
 "metadata": {
  "kernelspec": {
   "display_name": "Python 3 (ipykernel)",
   "language": "python",
   "name": "python3"
  },
  "language_info": {
   "codemirror_mode": {
    "name": "ipython",
    "version": 3
   },
   "file_extension": ".py",
   "mimetype": "text/x-python",
   "name": "python",
   "nbconvert_exporter": "python",
   "pygments_lexer": "ipython3",
   "version": "3.11.4"
  }
 },
 "nbformat": 4,
 "nbformat_minor": 5
}
