{
 "cells": [
  {
   "cell_type": "code",
   "execution_count": 2,
   "id": "f0829d1c",
   "metadata": {},
   "outputs": [
    {
     "data": {
      "text/plain": [
       "[]"
      ]
     },
     "execution_count": 2,
     "metadata": {},
     "output_type": "execute_result"
    }
   ],
   "source": [
    "empty_list = []\n",
    "empty_list"
   ]
  },
  {
   "cell_type": "code",
   "execution_count": 3,
   "id": "68df5550",
   "metadata": {},
   "outputs": [
    {
     "data": {
      "text/plain": [
       "[]"
      ]
     },
     "execution_count": 3,
     "metadata": {},
     "output_type": "execute_result"
    }
   ],
   "source": [
    "other_empty_list = list()\n",
    "other_empty_list "
   ]
  },
  {
   "cell_type": "code",
   "execution_count": 4,
   "id": "629de5f4",
   "metadata": {},
   "outputs": [
    {
     "data": {
      "text/plain": [
       "[1, 2, 3, 4, 5, 6, 7]"
      ]
     },
     "execution_count": 4,
     "metadata": {},
     "output_type": "execute_result"
    }
   ],
   "source": [
    "my_number_list = [1,2,3,4,5,6,7]\n",
    "my_number_list"
   ]
  },
  {
   "cell_type": "code",
   "execution_count": 5,
   "id": "8dd698a0",
   "metadata": {},
   "outputs": [
    {
     "data": {
      "text/plain": [
       "[84, 65.75, 'Nikita', True]"
      ]
     },
     "execution_count": 5,
     "metadata": {},
     "output_type": "execute_result"
    }
   ],
   "source": [
    "my_mixed_list = [84, 65.75, \"Nikita\", True]\n",
    "my_mixed_list"
   ]
  },
  {
   "cell_type": "code",
   "execution_count": 6,
   "id": "d43c363d",
   "metadata": {},
   "outputs": [
    {
     "data": {
      "text/plain": [
       "list"
      ]
     },
     "execution_count": 6,
     "metadata": {},
     "output_type": "execute_result"
    }
   ],
   "source": [
    "type(my_mixed_list)"
   ]
  },
  {
   "cell_type": "code",
   "execution_count": 7,
   "id": "323c2a59",
   "metadata": {},
   "outputs": [
    {
     "data": {
      "text/plain": [
       "int"
      ]
     },
     "execution_count": 7,
     "metadata": {},
     "output_type": "execute_result"
    }
   ],
   "source": [
    "type(my_mixed_list[0])"
   ]
  },
  {
   "cell_type": "code",
   "execution_count": 8,
   "id": "08fd9178",
   "metadata": {},
   "outputs": [
    {
     "data": {
      "text/plain": [
       "float"
      ]
     },
     "execution_count": 8,
     "metadata": {},
     "output_type": "execute_result"
    }
   ],
   "source": [
    "type(my_mixed_list[1])"
   ]
  },
  {
   "cell_type": "code",
   "execution_count": 9,
   "id": "b67b13bf",
   "metadata": {},
   "outputs": [
    {
     "data": {
      "text/plain": [
       "str"
      ]
     },
     "execution_count": 9,
     "metadata": {},
     "output_type": "execute_result"
    }
   ],
   "source": [
    "type(my_mixed_list[2])"
   ]
  },
  {
   "cell_type": "code",
   "execution_count": 10,
   "id": "c52759e1",
   "metadata": {},
   "outputs": [
    {
     "data": {
      "text/plain": [
       "bool"
      ]
     },
     "execution_count": 10,
     "metadata": {},
     "output_type": "execute_result"
    }
   ],
   "source": [
    "type(my_mixed_list[3])"
   ]
  },
  {
   "cell_type": "code",
   "execution_count": 11,
   "id": "e3aa9c8c",
   "metadata": {},
   "outputs": [
    {
     "data": {
      "text/plain": [
       "4"
      ]
     },
     "execution_count": 11,
     "metadata": {},
     "output_type": "execute_result"
    }
   ],
   "source": [
    "len(my_mixed_list)"
   ]
  },
  {
   "cell_type": "code",
   "execution_count": 12,
   "id": "3ee6c0f6",
   "metadata": {},
   "outputs": [
    {
     "data": {
      "text/plain": [
       "7"
      ]
     },
     "execution_count": 12,
     "metadata": {},
     "output_type": "execute_result"
    }
   ],
   "source": [
    "len(my_number_list)"
   ]
  },
  {
   "cell_type": "code",
   "execution_count": 13,
   "id": "1be20529",
   "metadata": {},
   "outputs": [
    {
     "name": "stdout",
     "output_type": "stream",
     "text": [
      "[1, 2, 3, 4, 5, 6, 7]\n"
     ]
    }
   ],
   "source": [
    "print(my_number_list)"
   ]
  },
  {
   "cell_type": "code",
   "execution_count": 14,
   "id": "141dee5c",
   "metadata": {},
   "outputs": [
    {
     "data": {
      "text/plain": [
       "[1, 2, 3, 4, 5, 6, 7, 8]"
      ]
     },
     "execution_count": 14,
     "metadata": {},
     "output_type": "execute_result"
    }
   ],
   "source": [
    "list1 = [1,2,3]\n",
    "list2 = [4,5,6,7,8]\n",
    "join_list = list1 + list2\n",
    "join_list"
   ]
  },
  {
   "cell_type": "code",
   "execution_count": 15,
   "id": "41c1827f",
   "metadata": {},
   "outputs": [
    {
     "data": {
      "text/plain": [
       "[1, 2, 3, 1, 2, 3, 1, 2, 3]"
      ]
     },
     "execution_count": 15,
     "metadata": {},
     "output_type": "execute_result"
    }
   ],
   "source": [
    "list3 = [1,2,3] * 3\n",
    "list3"
   ]
  },
  {
   "cell_type": "code",
   "execution_count": 16,
   "id": "a237c741",
   "metadata": {},
   "outputs": [
    {
     "data": {
      "text/plain": [
       "[15, 2.5, 'Nikita', True]"
      ]
     },
     "execution_count": 16,
     "metadata": {},
     "output_type": "execute_result"
    }
   ],
   "source": [
    "my_list = [15, 2.5, \"Nikita\", True]\n",
    "my_list"
   ]
  },
  {
   "cell_type": "code",
   "execution_count": 17,
   "id": "3e43a438",
   "metadata": {},
   "outputs": [
    {
     "data": {
      "text/plain": [
       "15"
      ]
     },
     "execution_count": 17,
     "metadata": {},
     "output_type": "execute_result"
    }
   ],
   "source": [
    "my_list[0]"
   ]
  },
  {
   "cell_type": "code",
   "execution_count": 18,
   "id": "517876c9",
   "metadata": {},
   "outputs": [
    {
     "data": {
      "text/plain": [
       "2.5"
      ]
     },
     "execution_count": 18,
     "metadata": {},
     "output_type": "execute_result"
    }
   ],
   "source": [
    "my_list[1]"
   ]
  },
  {
   "cell_type": "code",
   "execution_count": 19,
   "id": "ef7ab355",
   "metadata": {},
   "outputs": [
    {
     "data": {
      "text/plain": [
       "'Nikita'"
      ]
     },
     "execution_count": 19,
     "metadata": {},
     "output_type": "execute_result"
    }
   ],
   "source": [
    "my_list[2]"
   ]
  },
  {
   "cell_type": "code",
   "execution_count": 20,
   "id": "31c8092b",
   "metadata": {},
   "outputs": [
    {
     "data": {
      "text/plain": [
       "True"
      ]
     },
     "execution_count": 20,
     "metadata": {},
     "output_type": "execute_result"
    }
   ],
   "source": [
    "my_list[3]"
   ]
  },
  {
   "cell_type": "code",
   "execution_count": 21,
   "id": "49b3b2a9",
   "metadata": {},
   "outputs": [
    {
     "data": {
      "text/plain": [
       "int"
      ]
     },
     "execution_count": 21,
     "metadata": {},
     "output_type": "execute_result"
    }
   ],
   "source": [
    "type(my_list[0])"
   ]
  },
  {
   "cell_type": "code",
   "execution_count": 22,
   "id": "eb889cbb",
   "metadata": {},
   "outputs": [
    {
     "data": {
      "text/plain": [
       "float"
      ]
     },
     "execution_count": 22,
     "metadata": {},
     "output_type": "execute_result"
    }
   ],
   "source": [
    "type(my_list[1])"
   ]
  },
  {
   "cell_type": "code",
   "execution_count": 23,
   "id": "b2115abc",
   "metadata": {},
   "outputs": [
    {
     "data": {
      "text/plain": [
       "str"
      ]
     },
     "execution_count": 23,
     "metadata": {},
     "output_type": "execute_result"
    }
   ],
   "source": [
    "type(my_list[2])"
   ]
  },
  {
   "cell_type": "code",
   "execution_count": 24,
   "id": "b577fef3",
   "metadata": {},
   "outputs": [
    {
     "data": {
      "text/plain": [
       "bool"
      ]
     },
     "execution_count": 24,
     "metadata": {},
     "output_type": "execute_result"
    }
   ],
   "source": [
    "type(my_list[3])"
   ]
  },
  {
   "cell_type": "code",
   "execution_count": 25,
   "id": "a7beab4c",
   "metadata": {},
   "outputs": [
    {
     "data": {
      "text/plain": [
       "True"
      ]
     },
     "execution_count": 25,
     "metadata": {},
     "output_type": "execute_result"
    }
   ],
   "source": [
    "my_list[len(my_list)-1]"
   ]
  },
  {
   "cell_type": "code",
   "execution_count": 26,
   "id": "ff04c0c0",
   "metadata": {},
   "outputs": [
    {
     "data": {
      "text/plain": [
       "4"
      ]
     },
     "execution_count": 26,
     "metadata": {},
     "output_type": "execute_result"
    }
   ],
   "source": [
    "len(my_list)"
   ]
  },
  {
   "cell_type": "code",
   "execution_count": 27,
   "id": "174b573c",
   "metadata": {},
   "outputs": [
    {
     "name": "stdout",
     "output_type": "stream",
     "text": [
      "[1, 2, 3, 4, 5, 6, 7]\n"
     ]
    }
   ],
   "source": [
    "print(my_number_list)"
   ]
  },
  {
   "cell_type": "code",
   "execution_count": 28,
   "id": "d20b52db",
   "metadata": {},
   "outputs": [
    {
     "data": {
      "text/plain": [
       "[1, 2, 3, 4, 5]"
      ]
     },
     "execution_count": 28,
     "metadata": {},
     "output_type": "execute_result"
    }
   ],
   "source": [
    "list1 = [1,2,3]\n",
    "list2 = [4,5]\n",
    "join_list = list1 + list2\n",
    "join_list"
   ]
  },
  {
   "cell_type": "code",
   "execution_count": 29,
   "id": "70b9dd50",
   "metadata": {},
   "outputs": [
    {
     "data": {
      "text/plain": [
       "[1, 2, 3, 1, 2, 3, 1, 2, 3]"
      ]
     },
     "execution_count": 29,
     "metadata": {},
     "output_type": "execute_result"
    }
   ],
   "source": [
    "list3 = [1,2,3]*3\n",
    "list3"
   ]
  },
  {
   "cell_type": "code",
   "execution_count": 30,
   "id": "ebd5a550",
   "metadata": {},
   "outputs": [
    {
     "data": {
      "text/plain": [
       "[0, 0, 0, 0, 0]"
      ]
     },
     "execution_count": 30,
     "metadata": {},
     "output_type": "execute_result"
    }
   ],
   "source": [
    "[0]*5"
   ]
  },
  {
   "cell_type": "code",
   "execution_count": 31,
   "id": "169cd08b",
   "metadata": {},
   "outputs": [
    {
     "data": {
      "text/plain": [
       "[1, 1.2, 'List', True]"
      ]
     },
     "execution_count": 31,
     "metadata": {},
     "output_type": "execute_result"
    }
   ],
   "source": [
    "my_list = [1,1.2,'List',True]\n",
    "my_list"
   ]
  },
  {
   "cell_type": "code",
   "execution_count": 32,
   "id": "f0e753b6",
   "metadata": {},
   "outputs": [
    {
     "data": {
      "text/plain": [
       "1"
      ]
     },
     "execution_count": 32,
     "metadata": {},
     "output_type": "execute_result"
    }
   ],
   "source": [
    "my_list[0]"
   ]
  },
  {
   "cell_type": "code",
   "execution_count": 33,
   "id": "eb45f10b",
   "metadata": {},
   "outputs": [
    {
     "data": {
      "text/plain": [
       "4"
      ]
     },
     "execution_count": 33,
     "metadata": {},
     "output_type": "execute_result"
    }
   ],
   "source": [
    "len(my_list)"
   ]
  },
  {
   "cell_type": "code",
   "execution_count": 34,
   "id": "27f7c88a",
   "metadata": {},
   "outputs": [
    {
     "data": {
      "text/plain": [
       "'List'"
      ]
     },
     "execution_count": 34,
     "metadata": {},
     "output_type": "execute_result"
    }
   ],
   "source": [
    "my_list[len(my_list)-2]"
   ]
  },
  {
   "cell_type": "code",
   "execution_count": 35,
   "id": "d7530446",
   "metadata": {},
   "outputs": [
    {
     "data": {
      "text/plain": [
       "True"
      ]
     },
     "execution_count": 35,
     "metadata": {},
     "output_type": "execute_result"
    }
   ],
   "source": [
    "my_list[len(my_list)-1]"
   ]
  },
  {
   "cell_type": "code",
   "execution_count": 36,
   "id": "947aeb19",
   "metadata": {},
   "outputs": [
    {
     "name": "stdout",
     "output_type": "stream",
     "text": [
      "1      1\n",
      "1.2      1.2\n",
      "List      List\n",
      "True      True\n"
     ]
    }
   ],
   "source": [
    "print(my_list[0] , \"    \" , my_list[-4])\n",
    "print(my_list[1] , \"    \" , my_list[-3])\n",
    "print(my_list[2] , \"    \" , my_list[-2])\n",
    "print(my_list[3] , \"    \" , my_list[-1])"
   ]
  },
  {
   "cell_type": "code",
   "execution_count": 37,
   "id": "f176bfb4",
   "metadata": {},
   "outputs": [
    {
     "data": {
      "text/plain": [
       "[1, 1.2, 'List', True]"
      ]
     },
     "execution_count": 37,
     "metadata": {},
     "output_type": "execute_result"
    }
   ],
   "source": [
    "my_list"
   ]
  },
  {
   "cell_type": "code",
   "execution_count": 38,
   "id": "e88703ff",
   "metadata": {},
   "outputs": [
    {
     "data": {
      "text/plain": [
       "[1, 1.2, 'List', True]"
      ]
     },
     "execution_count": 38,
     "metadata": {},
     "output_type": "execute_result"
    }
   ],
   "source": [
    "my_list[ : ]"
   ]
  },
  {
   "cell_type": "code",
   "execution_count": 39,
   "id": "f2cf6e1a",
   "metadata": {},
   "outputs": [
    {
     "data": {
      "text/plain": [
       "[1, 1.2, 'List', True]"
      ]
     },
     "execution_count": 39,
     "metadata": {},
     "output_type": "execute_result"
    }
   ],
   "source": [
    "my_list[0:5]"
   ]
  },
  {
   "cell_type": "code",
   "execution_count": 40,
   "id": "8425fa59",
   "metadata": {},
   "outputs": [
    {
     "data": {
      "text/plain": [
       "[1.2, 'List', True]"
      ]
     },
     "execution_count": 40,
     "metadata": {},
     "output_type": "execute_result"
    }
   ],
   "source": [
    "my_list[1 : 4]"
   ]
  },
  {
   "cell_type": "code",
   "execution_count": 41,
   "id": "f0071646",
   "metadata": {},
   "outputs": [
    {
     "data": {
      "text/plain": [
       "['List', True]"
      ]
     },
     "execution_count": 41,
     "metadata": {},
     "output_type": "execute_result"
    }
   ],
   "source": [
    "my_list[ 2 : ]"
   ]
  },
  {
   "cell_type": "code",
   "execution_count": 42,
   "id": "3017d2f7",
   "metadata": {},
   "outputs": [
    {
     "data": {
      "text/plain": [
       "[1, 1.2, 'List']"
      ]
     },
     "execution_count": 42,
     "metadata": {},
     "output_type": "execute_result"
    }
   ],
   "source": [
    "my_list[ : 3]"
   ]
  },
  {
   "cell_type": "code",
   "execution_count": 43,
   "id": "304d896a",
   "metadata": {},
   "outputs": [
    {
     "data": {
      "text/plain": [
       "[1, 'List']"
      ]
     },
     "execution_count": 43,
     "metadata": {},
     "output_type": "execute_result"
    }
   ],
   "source": [
    "my_list[0 : 5: 2]"
   ]
  },
  {
   "cell_type": "code",
   "execution_count": 44,
   "id": "cfb87cd7",
   "metadata": {},
   "outputs": [
    {
     "data": {
      "text/plain": [
       "['List', True]"
      ]
     },
     "execution_count": 44,
     "metadata": {},
     "output_type": "execute_result"
    }
   ],
   "source": [
    "my_list[-2: ]"
   ]
  },
  {
   "cell_type": "code",
   "execution_count": 45,
   "id": "6be65e22",
   "metadata": {},
   "outputs": [
    {
     "data": {
      "text/plain": [
       "[1, 1.2, 'List', True]"
      ]
     },
     "execution_count": 45,
     "metadata": {},
     "output_type": "execute_result"
    }
   ],
   "source": [
    "my_list"
   ]
  },
  {
   "cell_type": "code",
   "execution_count": 46,
   "id": "8d54a878",
   "metadata": {},
   "outputs": [
    {
     "data": {
      "text/plain": [
       "True"
      ]
     },
     "execution_count": 46,
     "metadata": {},
     "output_type": "execute_result"
    }
   ],
   "source": [
    "1 in my_list"
   ]
  },
  {
   "cell_type": "code",
   "execution_count": 47,
   "id": "52a94bd6",
   "metadata": {},
   "outputs": [
    {
     "data": {
      "text/plain": [
       "False"
      ]
     },
     "execution_count": 47,
     "metadata": {},
     "output_type": "execute_result"
    }
   ],
   "source": [
    "1 not in my_list"
   ]
  },
  {
   "cell_type": "code",
   "execution_count": 48,
   "id": "fec92f2b",
   "metadata": {},
   "outputs": [
    {
     "data": {
      "text/plain": [
       "True"
      ]
     },
     "execution_count": 48,
     "metadata": {},
     "output_type": "execute_result"
    }
   ],
   "source": [
    "11 not in my_list"
   ]
  },
  {
   "cell_type": "code",
   "execution_count": 49,
   "id": "70ac9919",
   "metadata": {},
   "outputs": [
    {
     "data": {
      "text/plain": [
       "False"
      ]
     },
     "execution_count": 49,
     "metadata": {},
     "output_type": "execute_result"
    }
   ],
   "source": [
    "'list' in my_list"
   ]
  },
  {
   "cell_type": "code",
   "execution_count": 50,
   "id": "0784ced7",
   "metadata": {},
   "outputs": [
    {
     "data": {
      "text/plain": [
       "[1, 1.2, 'List', True]"
      ]
     },
     "execution_count": 50,
     "metadata": {},
     "output_type": "execute_result"
    }
   ],
   "source": [
    "my_list"
   ]
  },
  {
   "cell_type": "code",
   "execution_count": 51,
   "id": "4a252a4c",
   "metadata": {},
   "outputs": [
    {
     "name": "stdout",
     "output_type": "stream",
     "text": [
      "1\n",
      "1.2\n",
      "List\n",
      "True\n"
     ]
    }
   ],
   "source": [
    "for i in my_list:\n",
    "    print(i)"
   ]
  },
  {
   "cell_type": "code",
   "execution_count": 53,
   "id": "d381c16b",
   "metadata": {},
   "outputs": [
    {
     "name": "stdout",
     "output_type": "stream",
     "text": [
      "( 0 ) element------> 1\n",
      "( 1 ) element------> 1.2\n",
      "( 2 ) element------> List\n",
      "( 3 ) element------> True\n"
     ]
    }
   ],
   "source": [
    "for i in range(len(my_list)):\n",
    "    print(\"(\",i,\")\", \"element------>\",my_list[i])"
   ]
  },
  {
   "cell_type": "code",
   "execution_count": 54,
   "id": "e3dfb67a",
   "metadata": {},
   "outputs": [
    {
     "data": {
      "text/plain": [
       "[1, 2, 3, 4, 5, 1.5, True]"
      ]
     },
     "execution_count": 54,
     "metadata": {},
     "output_type": "execute_result"
    }
   ],
   "source": [
    "my_number_list = [1, 2, 3, 4, 5, 1.5, True]\n",
    "my_number_list"
   ]
  },
  {
   "cell_type": "code",
   "execution_count": 55,
   "id": "3febf7c0",
   "metadata": {},
   "outputs": [
    {
     "data": {
      "text/plain": [
       "17.5"
      ]
     },
     "execution_count": 55,
     "metadata": {},
     "output_type": "execute_result"
    }
   ],
   "source": [
    "sum(my_number_list)"
   ]
  },
  {
   "cell_type": "code",
   "execution_count": 56,
   "id": "e0a51e80",
   "metadata": {},
   "outputs": [
    {
     "data": {
      "text/plain": [
       "1"
      ]
     },
     "execution_count": 56,
     "metadata": {},
     "output_type": "execute_result"
    }
   ],
   "source": [
    "min(my_number_list)"
   ]
  },
  {
   "cell_type": "code",
   "execution_count": 57,
   "id": "bca5910b",
   "metadata": {},
   "outputs": [
    {
     "data": {
      "text/plain": [
       "5"
      ]
     },
     "execution_count": 57,
     "metadata": {},
     "output_type": "execute_result"
    }
   ],
   "source": [
    "max(my_number_list)"
   ]
  },
  {
   "cell_type": "code",
   "execution_count": 69,
   "id": "78ada73a",
   "metadata": {},
   "outputs": [
    {
     "name": "stdout",
     "output_type": "stream",
     "text": [
      "Original list\n",
      "List 1 --------> [1, 2, 3, 4, 5]\n"
     ]
    }
   ],
   "source": [
    "list1 = [1, 2, 3, 4, 5]\n",
    "print(\"Original list\")\n",
    "print(\"List 1 -------->\", list1)"
   ]
  },
  {
   "cell_type": "code",
   "execution_count": 70,
   "id": "daf09d98",
   "metadata": {},
   "outputs": [
    {
     "name": "stdout",
     "output_type": "stream",
     "text": [
      "List 2 is referring to list 1, both having same elements\n",
      "List 1 -------->    [1, 2, 3, 4, 5]\n",
      "List 2 -------->    [1, 2, 3, 4, 5]\n"
     ]
    }
   ],
   "source": [
    "list2 = list1\n",
    "print('List 2 is referring to list 1, both having same elements')\n",
    "print(\"List 1 -------->   \", list1)\n",
    "print(\"List 2 -------->   \", list2)"
   ]
  },
  {
   "cell_type": "code",
   "execution_count": 71,
   "id": "d76f8699",
   "metadata": {},
   "outputs": [
    {
     "name": "stdout",
     "output_type": "stream",
     "text": [
      "List 2 is referring to list 1, both having same elements\n",
      "List 1 -------->    [1, 2, 3, 4, 5]\n",
      "List 2 -------->    [1, 2, 3, 4, 5]\n"
     ]
    }
   ],
   "source": [
    "list2 = list1\n",
    "print('List 2 is referring to list 1, both having same elements')\n",
    "print('List 1 -------->   ', list1)\n",
    "print('List 2 -------->   ', list2)"
   ]
  },
  {
   "cell_type": "code",
   "execution_count": 72,
   "id": "b814a221",
   "metadata": {},
   "outputs": [
    {
     "name": "stdout",
     "output_type": "stream",
     "text": [
      "After aletring the first element of list1, list2 is also altered\n",
      "List 1 ------->    ['a', 2, 3, 4, 5]\n",
      "List 2 ------->    ['a', 2, 3, 4, 5]\n"
     ]
    }
   ],
   "source": [
    "list1[0] = 'a'\n",
    "print('After aletring the first element of list1, list2 is also altered')\n",
    "print('List 1 ------->   ', list1)\n",
    "print('List 2 ------->   ', list2)"
   ]
  },
  {
   "cell_type": "code",
   "execution_count": 1,
   "id": "9a2e1811",
   "metadata": {},
   "outputs": [
    {
     "name": "stdout",
     "output_type": "stream",
     "text": [
      "Enter an integer ------> 12\n",
      "Enter an integer ------> 13\n",
      "Enter an integer ------> 25\n",
      "Enter an integer ------> 36\n",
      "Enter an integer ------> 45\n",
      "[12, 13, 25, 36, 45]\n"
     ]
    }
   ],
   "source": [
    "count = 5\n",
    "number_list = []\n",
    "\n",
    "for i in range(count):\n",
    "    number = int(input(\"Enter an integer ------> \"))\n",
    "    number_list.append(number)\n",
    "print(number_list)"
   ]
  },
  {
   "cell_type": "code",
   "execution_count": 1,
   "id": "a50c9b63",
   "metadata": {},
   "outputs": [
    {
     "name": "stdout",
     "output_type": "stream",
     "text": [
      "[529, 2025, 4489, 7921, 121]\n"
     ]
    }
   ],
   "source": [
    "number_list = [23, 45, 67, 89, 11]\n",
    "#sum = 0 \n",
    "#product = 1\n",
    "sq_number_list = []\n",
    "\n",
    "for i in number_list:\n",
    "    #sum = sum + i\n",
    "    #product = product * i\n",
    "    square = i * i \n",
    "    sq_number_list.append(square)\n",
    "\n",
    "\n",
    "    \n",
    "print(sq_number_list) "
   ]
  },
  {
   "cell_type": "code",
   "execution_count": 4,
   "id": "bc5abb7c",
   "metadata": {},
   "outputs": [
    {
     "name": "stdout",
     "output_type": "stream",
     "text": [
      "Enter an integer --------> 6\n",
      "Enter an integer --------> 2\n",
      "Enter an integer --------> 5\n",
      "Enter an integer --------> 9\n",
      "Enter an integer --------> 4\n",
      "[6, 2, 5, 9, 4]\n"
     ]
    }
   ],
   "source": [
    "count= 5\n",
    "number_list = []\n",
    "\n",
    "for i in range(count):\n",
    "    number= int(input(\"Enter an integer --------> \"))\n",
    "    number_list.append(number)\n",
    "print(number_list)"
   ]
  },
  {
   "cell_type": "code",
   "execution_count": 5,
   "id": "3b79f76f",
   "metadata": {},
   "outputs": [
    {
     "name": "stdout",
     "output_type": "stream",
     "text": [
      "The sum of all number is ----->  5\n",
      "The product of all number is ----->  5040\n",
      "The square of  number is :  \n",
      "Number --->  6 Square --->  3\n",
      "Number --->  2 Square --->  5\n",
      "Number --->  5 Square --->  6\n",
      "Number --->  9 Square --->  7\n",
      "Number --->  4 Square --->  8\n",
      "[3, 5, 6, 7, 8]\n"
     ]
    }
   ],
   "source": [
    "number_list3 = [3,5,6,7,8]\n",
    "summ =0\n",
    "product = 1\n",
    "sq_number_list = []\n",
    "\n",
    "for  number in number_list3:\n",
    "    summ = summ +1\n",
    "    product = product * number\n",
    "    square = number * number\n",
    "    sq_number_list.append(number)\n",
    "    \n",
    "print(\"The sum of all number is -----> \",summ)\n",
    "print(\"The product of all number is -----> \",product)\n",
    "print(\"The square of  number is :  \")\n",
    "for i in range(len(number_list3)):\n",
    "    print(\"Number ---> \",number_list[i],  \"Square ---> \",sq_number_list[i])\n",
    "    \n",
    "print(sq_number_list)"
   ]
  },
  {
   "cell_type": "code",
   "execution_count": 7,
   "id": "8e182b2e",
   "metadata": {},
   "outputs": [
    {
     "name": "stdout",
     "output_type": "stream",
     "text": [
      "-1 e\n",
      "-2 d\n",
      "-3 c\n",
      "-4 b\n",
      "-5 a\n"
     ]
    }
   ],
   "source": [
    "original_list = ['a', 'b', 'c', 'd', 'e']\n",
    "\n",
    "length = len(original_list)\n",
    "length = length * (-1)\n",
    "\n",
    "for i in range(-1, length-1, -1):\n",
    "    print(i , original_list[i])"
   ]
  },
  {
   "cell_type": "code",
   "execution_count": 10,
   "id": "4d74b8c0",
   "metadata": {},
   "outputs": [
    {
     "name": "stdout",
     "output_type": "stream",
     "text": [
      "Original list ------>   [25, 21, 46, 78]\n",
      "\n",
      " (a) Set the second entry to 17-----> [25, 53, 46, 78]\n",
      "\n",
      " (b) Add 4,5, and 6 to the end of list---> [25, 53, 46, 78, 12, 16, 18]\n",
      "\n",
      " (c) Remove the first entry from the list---> [53, 46, 78, 12, 16, 18]\n",
      "\n",
      " (d) Double the list---> [53, 46, 78, 12, 16, 18, 53, 46, 78, 12, 16, 18]\n",
      "\n",
      " (d) Double the list---> [53, 46, 78, 25, 12, 16, 18, 53, 46, 78, 12, 16, 18]\n"
     ]
    }
   ],
   "source": [
    "L =  [25,21,46,78]\n",
    "print(\"Original list ------>  \", L)\n",
    "\n",
    "L[1] = 53\n",
    "print(\"\\n (a) Set the second entry to 17----->\", L)\n",
    "      \n",
    "L.extend([12,16,18])\n",
    "print(\"\\n (b) Add 4,5, and 6 to the end of list--->\", L)\n",
    "      \n",
    "L.remove(L[0])\n",
    "print(\"\\n (c) Remove the first entry from the list--->\", L)\n",
    "      \n",
    "L = L * 2\n",
    "print(\"\\n (d) Double the list--->\", L)\n",
    "      \n",
    "L.insert(3, 25)\n",
    "print(\"\\n (d) Double the list--->\", L)\n"
   ]
  },
  {
   "cell_type": "code",
   "execution_count": null,
   "id": "22d61188",
   "metadata": {},
   "outputs": [],
   "source": []
  }
 ],
 "metadata": {
  "kernelspec": {
   "display_name": "Python 3 (ipykernel)",
   "language": "python",
   "name": "python3"
  },
  "language_info": {
   "codemirror_mode": {
    "name": "ipython",
    "version": 3
   },
   "file_extension": ".py",
   "mimetype": "text/x-python",
   "name": "python",
   "nbconvert_exporter": "python",
   "pygments_lexer": "ipython3",
   "version": "3.11.4"
  }
 },
 "nbformat": 4,
 "nbformat_minor": 5
}
