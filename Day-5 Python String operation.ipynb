{
 "cells": [
  {
   "cell_type": "code",
   "execution_count": 1,
   "id": "59a40788",
   "metadata": {},
   "outputs": [
    {
     "data": {
      "text/plain": [
       "['__add__',\n",
       " '__class__',\n",
       " '__contains__',\n",
       " '__delattr__',\n",
       " '__dir__',\n",
       " '__doc__',\n",
       " '__eq__',\n",
       " '__format__',\n",
       " '__ge__',\n",
       " '__getattribute__',\n",
       " '__getitem__',\n",
       " '__getnewargs__',\n",
       " '__gt__',\n",
       " '__hash__',\n",
       " '__init__',\n",
       " '__init_subclass__',\n",
       " '__iter__',\n",
       " '__le__',\n",
       " '__len__',\n",
       " '__lt__',\n",
       " '__mod__',\n",
       " '__mul__',\n",
       " '__ne__',\n",
       " '__new__',\n",
       " '__reduce__',\n",
       " '__reduce_ex__',\n",
       " '__repr__',\n",
       " '__rmod__',\n",
       " '__rmul__',\n",
       " '__setattr__',\n",
       " '__sizeof__',\n",
       " '__str__',\n",
       " '__subclasshook__',\n",
       " 'capitalize',\n",
       " 'casefold',\n",
       " 'center',\n",
       " 'count',\n",
       " 'encode',\n",
       " 'endswith',\n",
       " 'expandtabs',\n",
       " 'find',\n",
       " 'format',\n",
       " 'format_map',\n",
       " 'index',\n",
       " 'isalnum',\n",
       " 'isalpha',\n",
       " 'isascii',\n",
       " 'isdecimal',\n",
       " 'isdigit',\n",
       " 'isidentifier',\n",
       " 'islower',\n",
       " 'isnumeric',\n",
       " 'isprintable',\n",
       " 'isspace',\n",
       " 'istitle',\n",
       " 'isupper',\n",
       " 'join',\n",
       " 'ljust',\n",
       " 'lower',\n",
       " 'lstrip',\n",
       " 'maketrans',\n",
       " 'partition',\n",
       " 'removeprefix',\n",
       " 'removesuffix',\n",
       " 'replace',\n",
       " 'rfind',\n",
       " 'rindex',\n",
       " 'rjust',\n",
       " 'rpartition',\n",
       " 'rsplit',\n",
       " 'rstrip',\n",
       " 'split',\n",
       " 'splitlines',\n",
       " 'startswith',\n",
       " 'strip',\n",
       " 'swapcase',\n",
       " 'title',\n",
       " 'translate',\n",
       " 'upper',\n",
       " 'zfill']"
      ]
     },
     "execution_count": 1,
     "metadata": {},
     "output_type": "execute_result"
    }
   ],
   "source": [
    "dir(str)  #list the methods of string "
   ]
  },
  {
   "cell_type": "code",
   "execution_count": 2,
   "id": "042b29c8",
   "metadata": {},
   "outputs": [],
   "source": [
    "my_string = \"Python is beautiful!\""
   ]
  },
  {
   "cell_type": "code",
   "execution_count": 3,
   "id": "89b95d07",
   "metadata": {},
   "outputs": [
    {
     "data": {
      "text/plain": [
       "'python is beautiful!'"
      ]
     },
     "execution_count": 3,
     "metadata": {},
     "output_type": "execute_result"
    }
   ],
   "source": [
    "my_string.lower()  #converts to lowercase"
   ]
  },
  {
   "cell_type": "code",
   "execution_count": 4,
   "id": "adc31f13",
   "metadata": {},
   "outputs": [
    {
     "data": {
      "text/plain": [
       "'PYTHON IS BEAUTIFUL!'"
      ]
     },
     "execution_count": 4,
     "metadata": {},
     "output_type": "execute_result"
    }
   ],
   "source": [
    "my_string.upper()"
   ]
  },
  {
   "cell_type": "code",
   "execution_count": 5,
   "id": "cc4e9e95",
   "metadata": {},
   "outputs": [
    {
     "name": "stdout",
     "output_type": "stream",
     "text": [
      "Original stmt :  Chennai Super Kings are going to win IPL this time.\n",
      "Modified stmt :  CHENNAI SUPER KINGS ARE GOING TO WIN IPL THIS TIME.\n",
      "Modified stmt again :  chennai super kings are going to win ipl this time.\n"
     ]
    }
   ],
   "source": [
    "stmt = \"Chennai Super Kings are going to win IPL this time.\"\n",
    "print(\"Original stmt : \", stmt)\n",
    "\n",
    "mod_stmt = stmt.upper()\n",
    "print(\"Modified stmt : \",mod_stmt)\n",
    "\n",
    "mod_stmt = stmt.lower()\n",
    "print(\"Modified stmt again : \",mod_stmt)"
   ]
  },
  {
   "cell_type": "code",
   "execution_count": 6,
   "id": "b109359c",
   "metadata": {},
   "outputs": [
    {
     "data": {
      "text/plain": [
       "False"
      ]
     },
     "execution_count": 6,
     "metadata": {},
     "output_type": "execute_result"
    }
   ],
   "source": [
    "my_string.islower()"
   ]
  },
  {
   "cell_type": "code",
   "execution_count": 7,
   "id": "39f6fcaf",
   "metadata": {},
   "outputs": [
    {
     "data": {
      "text/plain": [
       "'Python is beautiful!'"
      ]
     },
     "execution_count": 7,
     "metadata": {},
     "output_type": "execute_result"
    }
   ],
   "source": [
    "my_string"
   ]
  },
  {
   "cell_type": "code",
   "execution_count": 8,
   "id": "2fa91f73",
   "metadata": {},
   "outputs": [
    {
     "data": {
      "text/plain": [
       "False"
      ]
     },
     "execution_count": 8,
     "metadata": {},
     "output_type": "execute_result"
    }
   ],
   "source": [
    "my_string.isupper()"
   ]
  },
  {
   "cell_type": "code",
   "execution_count": 9,
   "id": "b997c88d",
   "metadata": {},
   "outputs": [
    {
     "data": {
      "text/plain": [
       "2"
      ]
     },
     "execution_count": 9,
     "metadata": {},
     "output_type": "execute_result"
    }
   ],
   "source": [
    "my_string.count('t')"
   ]
  },
  {
   "cell_type": "code",
   "execution_count": 12,
   "id": "de9e16f9",
   "metadata": {},
   "outputs": [
    {
     "data": {
      "text/plain": [
       "0"
      ]
     },
     "execution_count": 12,
     "metadata": {},
     "output_type": "execute_result"
    }
   ],
   "source": [
    "my_string.index('P')"
   ]
  },
  {
   "cell_type": "code",
   "execution_count": 13,
   "id": "f0586e76",
   "metadata": {},
   "outputs": [
    {
     "data": {
      "text/plain": [
       "16"
      ]
     },
     "execution_count": 13,
     "metadata": {},
     "output_type": "execute_result"
    }
   ],
   "source": [
    "my_string.index('fu')"
   ]
  },
  {
   "cell_type": "code",
   "execution_count": 14,
   "id": "226a516a",
   "metadata": {},
   "outputs": [
    {
     "data": {
      "text/plain": [
       "True"
      ]
     },
     "execution_count": 14,
     "metadata": {},
     "output_type": "execute_result"
    }
   ],
   "source": [
    "my_string[0].isalpha()"
   ]
  },
  {
   "cell_type": "code",
   "execution_count": 15,
   "id": "aff48a47",
   "metadata": {},
   "outputs": [
    {
     "data": {
      "text/plain": [
       "False"
      ]
     },
     "execution_count": 15,
     "metadata": {},
     "output_type": "execute_result"
    }
   ],
   "source": [
    "my_string.isalnum()"
   ]
  },
  {
   "cell_type": "code",
   "execution_count": 16,
   "id": "117c25f8",
   "metadata": {},
   "outputs": [
    {
     "data": {
      "text/plain": [
       "False"
      ]
     },
     "execution_count": 16,
     "metadata": {},
     "output_type": "execute_result"
    }
   ],
   "source": [
    "my_string[0].isdigit()"
   ]
  },
  {
   "cell_type": "code",
   "execution_count": 17,
   "id": "37a42a83",
   "metadata": {},
   "outputs": [
    {
     "data": {
      "text/plain": [
       "False"
      ]
     },
     "execution_count": 17,
     "metadata": {},
     "output_type": "execute_result"
    }
   ],
   "source": [
    "my_string.isnumeric()"
   ]
  },
  {
   "cell_type": "code",
   "execution_count": 18,
   "id": "d0f1ce00",
   "metadata": {},
   "outputs": [
    {
     "data": {
      "text/plain": [
       "True"
      ]
     },
     "execution_count": 18,
     "metadata": {},
     "output_type": "execute_result"
    }
   ],
   "source": [
    "num_string = \"123\"\n",
    "num_string.isnumeric()"
   ]
  },
  {
   "cell_type": "code",
   "execution_count": 19,
   "id": "48844fd3",
   "metadata": {},
   "outputs": [
    {
     "name": "stdout",
     "output_type": "stream",
     "text": [
      "Chennai Super Kings are going to win IPL this time.    \n",
      "Chennai Super Kings are going to win IPL this time.\n"
     ]
    }
   ],
   "source": [
    "stmt = \"Chennai Super Kings are going to win IPL this time.    \"\n",
    "print(stmt)\n",
    "print(stmt.rstrip())  #remove the empty spaces at right side"
   ]
  },
  {
   "cell_type": "code",
   "execution_count": 20,
   "id": "e2cb9a85",
   "metadata": {},
   "outputs": [
    {
     "name": "stdout",
     "output_type": "stream",
     "text": [
      "     Chennai Super Kings are going to win IPL this time.\n",
      "Chennai Super Kings are going to win IPL this time.\n"
     ]
    }
   ],
   "source": [
    "stmt = \"     Chennai Super Kings are going to win IPL this time.\"\n",
    "print(stmt)\n",
    "print(stmt.lstrip())  #remove the empty spaces at left side"
   ]
  },
  {
   "cell_type": "code",
   "execution_count": 21,
   "id": "45173c8b",
   "metadata": {},
   "outputs": [
    {
     "name": "stdout",
     "output_type": "stream",
     "text": [
      "     Chennai Super Kings are going to win IPL this time.   \n",
      "Chennai Super Kings are going to win IPL this time.\n"
     ]
    }
   ],
   "source": [
    "stmt = \"     Chennai Super Kings are going to win IPL this time.   \"\n",
    "print(stmt)\n",
    "print(stmt.strip())  #remove the empty spaces from both side"
   ]
  },
  {
   "cell_type": "code",
   "execution_count": 22,
   "id": "244202e5",
   "metadata": {},
   "outputs": [],
   "source": [
    "stmt = \"     Chennai Super Kings are going to win IPL this time.\""
   ]
  },
  {
   "cell_type": "code",
   "execution_count": 24,
   "id": "6f8acf61",
   "metadata": {},
   "outputs": [
    {
     "data": {
      "text/plain": [
       "'Chennai Super Kings are going to win IPL this time.'"
      ]
     },
     "execution_count": 24,
     "metadata": {},
     "output_type": "execute_result"
    }
   ],
   "source": [
    "stmt.strip()"
   ]
  },
  {
   "cell_type": "code",
   "execution_count": 25,
   "id": "633715a6",
   "metadata": {},
   "outputs": [
    {
     "name": "stdout",
     "output_type": "stream",
     "text": [
      "$$$$Chennai Super Kings are going to win IPL this time.\n",
      "Chennai Super Kings are going to win IPL this time.\n"
     ]
    }
   ],
   "source": [
    "stmt = \"$$$$Chennai Super Kings are going to win IPL this time.\"\n",
    "print(stmt)\n",
    "print(stmt.lstrip(\"$\"))  #Splitting character can also be specified"
   ]
  },
  {
   "cell_type": "code",
   "execution_count": 29,
   "id": "e8201072",
   "metadata": {},
   "outputs": [],
   "source": [
    "my_string = 'python is beautiful'"
   ]
  },
  {
   "cell_type": "code",
   "execution_count": 30,
   "id": "550b5fdd",
   "metadata": {},
   "outputs": [
    {
     "data": {
      "text/plain": [
       "7"
      ]
     },
     "execution_count": 30,
     "metadata": {},
     "output_type": "execute_result"
    }
   ],
   "source": [
    "my_string.find('is')"
   ]
  },
  {
   "cell_type": "code",
   "execution_count": 31,
   "id": "4984d324",
   "metadata": {},
   "outputs": [
    {
     "data": {
      "text/plain": [
       "10"
      ]
     },
     "execution_count": 31,
     "metadata": {},
     "output_type": "execute_result"
    }
   ],
   "source": [
    "my_string.find('be')"
   ]
  },
  {
   "cell_type": "code",
   "execution_count": 32,
   "id": "63115b17",
   "metadata": {},
   "outputs": [
    {
     "data": {
      "text/plain": [
       "-1"
      ]
     },
     "execution_count": 32,
     "metadata": {},
     "output_type": "execute_result"
    }
   ],
   "source": [
    "my_string.find('are')"
   ]
  },
  {
   "cell_type": "code",
   "execution_count": 33,
   "id": "e413b6e4",
   "metadata": {},
   "outputs": [
    {
     "data": {
      "text/plain": [
       "-1"
      ]
     },
     "execution_count": 33,
     "metadata": {},
     "output_type": "execute_result"
    }
   ],
   "source": [
    "my_string.find('too')"
   ]
  },
  {
   "cell_type": "code",
   "execution_count": 34,
   "id": "0f9cfb0c",
   "metadata": {},
   "outputs": [
    {
     "data": {
      "text/plain": [
       "True"
      ]
     },
     "execution_count": 34,
     "metadata": {},
     "output_type": "execute_result"
    }
   ],
   "source": [
    "my_string.startswith('python')"
   ]
  },
  {
   "cell_type": "code",
   "execution_count": 35,
   "id": "42525bc4",
   "metadata": {},
   "outputs": [
    {
     "data": {
      "text/plain": [
       "False"
      ]
     },
     "execution_count": 35,
     "metadata": {},
     "output_type": "execute_result"
    }
   ],
   "source": [
    "my_string.startswith('Python')"
   ]
  },
  {
   "cell_type": "code",
   "execution_count": 36,
   "id": "58e4a145",
   "metadata": {},
   "outputs": [
    {
     "data": {
      "text/plain": [
       "True"
      ]
     },
     "execution_count": 36,
     "metadata": {},
     "output_type": "execute_result"
    }
   ],
   "source": [
    "my_string.endswith('beautiful')"
   ]
  },
  {
   "cell_type": "code",
   "execution_count": 37,
   "id": "f780f891",
   "metadata": {},
   "outputs": [
    {
     "data": {
      "text/plain": [
       "False"
      ]
     },
     "execution_count": 37,
     "metadata": {},
     "output_type": "execute_result"
    }
   ],
   "source": [
    "my_string.endswith('beAutiful')"
   ]
  },
  {
   "cell_type": "code",
   "execution_count": 38,
   "id": "0a2e76eb",
   "metadata": {},
   "outputs": [
    {
     "data": {
      "text/plain": [
       "'py#hon is beau#iful'"
      ]
     },
     "execution_count": 38,
     "metadata": {},
     "output_type": "execute_result"
    }
   ],
   "source": [
    "my_string.replace('t', '#') #very important"
   ]
  },
  {
   "cell_type": "code",
   "execution_count": 39,
   "id": "c413bead",
   "metadata": {},
   "outputs": [
    {
     "name": "stdout",
     "output_type": "stream",
     "text": [
      "Help on method_descriptor:\n",
      "\n",
      "split(self, /, sep=None, maxsplit=-1)\n",
      "    Return a list of the substrings in the string, using sep as the separator string.\n",
      "    \n",
      "      sep\n",
      "        The separator used to split the string.\n",
      "    \n",
      "        When set to None (the default value), will split on any whitespace\n",
      "        character (including \\\\n \\\\r \\\\t \\\\f and spaces) and will discard\n",
      "        empty strings from the result.\n",
      "      maxsplit\n",
      "        Maximum number of splits (starting from the left).\n",
      "        -1 (the default value) means no limit.\n",
      "    \n",
      "    Note, str.split() is mainly useful for data that has been intentionally\n",
      "    delimited.  With natural text that includes punctuation, consider using\n",
      "    the regular expression module.\n",
      "\n"
     ]
    }
   ],
   "source": [
    "help(str.split)"
   ]
  },
  {
   "cell_type": "code",
   "execution_count": 40,
   "id": "6ee5d992",
   "metadata": {},
   "outputs": [],
   "source": [
    "my_string = \"Python is beautiful!\""
   ]
  },
  {
   "cell_type": "code",
   "execution_count": 41,
   "id": "fa7fa9cc",
   "metadata": {},
   "outputs": [
    {
     "data": {
      "text/plain": [
       "['Python', 'is', 'beautiful!']"
      ]
     },
     "execution_count": 41,
     "metadata": {},
     "output_type": "execute_result"
    }
   ],
   "source": [
    "my_string.split()   #split using default delimiter i.e. white space"
   ]
  },
  {
   "cell_type": "code",
   "execution_count": 42,
   "id": "2bae46bc",
   "metadata": {},
   "outputs": [],
   "source": [
    "splitted_string = my_string.split()   #split using default delimiter i.e. white space"
   ]
  },
  {
   "cell_type": "code",
   "execution_count": 43,
   "id": "250f7106",
   "metadata": {},
   "outputs": [
    {
     "data": {
      "text/plain": [
       "list"
      ]
     },
     "execution_count": 43,
     "metadata": {},
     "output_type": "execute_result"
    }
   ],
   "source": [
    "type(splitted_string)  # is list of values \n"
   ]
  },
  {
   "cell_type": "code",
   "execution_count": 45,
   "id": "e1d75925",
   "metadata": {},
   "outputs": [
    {
     "data": {
      "text/plain": [
       "'is'"
      ]
     },
     "execution_count": 45,
     "metadata": {},
     "output_type": "execute_result"
    }
   ],
   "source": [
    "splitted_string[1]  # aceess first part of splitted string"
   ]
  },
  {
   "cell_type": "code",
   "execution_count": 46,
   "id": "5d5616dd",
   "metadata": {},
   "outputs": [
    {
     "data": {
      "text/plain": [
       "['Python', 'beautiful!']"
      ]
     },
     "execution_count": 46,
     "metadata": {},
     "output_type": "execute_result"
    }
   ],
   "source": [
    "my_string.split(' is ')   #split using user defined delimiter i.e. ' is '"
   ]
  },
  {
   "cell_type": "code",
   "execution_count": 47,
   "id": "aac8291a",
   "metadata": {},
   "outputs": [
    {
     "data": {
      "text/plain": [
       "('Python ', 'is', ' beautiful!')"
      ]
     },
     "execution_count": 47,
     "metadata": {},
     "output_type": "execute_result"
    }
   ],
   "source": [
    "part_string = my_string.partition('is')\n",
    "part_string\n"
   ]
  },
  {
   "cell_type": "code",
   "execution_count": 48,
   "id": "55fe53d0",
   "metadata": {},
   "outputs": [
    {
     "data": {
      "text/plain": [
       "tuple"
      ]
     },
     "execution_count": 48,
     "metadata": {},
     "output_type": "execute_result"
    }
   ],
   "source": [
    "type(part_string)"
   ]
  },
  {
   "cell_type": "code",
   "execution_count": 49,
   "id": "e4a75323",
   "metadata": {},
   "outputs": [
    {
     "name": "stdout",
     "output_type": "stream",
     "text": [
      "Enter statement \n",
      "Data analyst is most demanding role\n",
      "Enter the string to be looked upon in statement \n",
      "data analysis is part of data science\n",
      "Second string is present at  -1  location in first string\n",
      "Note : -1 indicates that string is not present\n"
     ]
    }
   ],
   "source": [
    "first_string = input(\"Enter statement \\n\")\n",
    "second_string = input(\"Enter the string to be looked upon in statement \\n\")\n",
    "\n",
    "is_present = first_string.find(second_string)\n",
    "\n",
    "print(\"Second string is present at \", is_present, \" location in first string\")\n",
    "print(\"Note : -1 indicates that string is not present\")"
   ]
  },
  {
   "cell_type": "code",
   "execution_count": 50,
   "id": "d8d3816e",
   "metadata": {},
   "outputs": [
    {
     "name": "stdout",
     "output_type": "stream",
     "text": [
      "Enter the string \n",
      "Data analyst is most demanding role\n",
      "You entered :  Data analyst is most demanding role\n",
      "The lower case string :  data analyst is most demanding role\n",
      "The upper case string :  DATA ANALYST IS MOST DEMANDING ROLE\n",
      "The reversed string :  elor gnidnamed tsom si tsylana ataD\n"
     ]
    }
   ],
   "source": [
    "user_string = input(\"Enter the string \\n\")\n",
    "print('You entered : ', user_string)\n",
    "\n",
    "print(\"The lower case string : \", user_string.lower())\n",
    "print(\"The upper case string : \", user_string.upper())\n",
    "print(\"The reversed string : \", user_string[ : : -1])"
   ]
  },
  {
   "cell_type": "code",
   "execution_count": 64,
   "id": "fc9baa16",
   "metadata": {
    "scrolled": true
   },
   "outputs": [
    {
     "name": "stdout",
     "output_type": "stream",
     "text": [
      "Enter the string \n",
      "DATA Analysis\n",
      "You entered :  DATA Analysis\n",
      "-> 0 \n",
      "-> 1 D\n",
      "-> 2 DA\n",
      "-> 3 DAT\n",
      "-> 4 DATA\n",
      "-> 5 DATA \n",
      "-> 6 DATA A\n",
      "-> 7 DATA An\n",
      "-> 8 DATA Ana\n",
      "-> 9 DATA Anal\n",
      "-> 10 DATA Analy\n",
      "-> 11 DATA Analys\n",
      "-> 12 DATA Analysi\n"
     ]
    }
   ],
   "source": [
    "user_string = input(\"Enter the string \\n\")\n",
    "print('You entered : ', user_string)\n",
    "\n",
    "for i in range(len(user_string)):\n",
    "    print(\"->\", i, user_string[: i])"
   ]
  },
  {
   "cell_type": "code",
   "execution_count": null,
   "id": "5a8b9f24",
   "metadata": {},
   "outputs": [],
   "source": []
  }
 ],
 "metadata": {
  "kernelspec": {
   "display_name": "Python 3 (ipykernel)",
   "language": "python",
   "name": "python3"
  },
  "language_info": {
   "codemirror_mode": {
    "name": "ipython",
    "version": 3
   },
   "file_extension": ".py",
   "mimetype": "text/x-python",
   "name": "python",
   "nbconvert_exporter": "python",
   "pygments_lexer": "ipython3",
   "version": "3.10.10"
  }
 },
 "nbformat": 4,
 "nbformat_minor": 5
}
