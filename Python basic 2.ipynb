{
 "cells": [
  {
   "cell_type": "code",
   "execution_count": 1,
   "id": "abeeaf31",
   "metadata": {},
   "outputs": [
    {
     "name": "stdout",
     "output_type": "stream",
     "text": [
      "Enter a integer25\n"
     ]
    }
   ],
   "source": [
    "a = input(\"Enter a integer\")"
   ]
  },
  {
   "cell_type": "code",
   "execution_count": 2,
   "id": "f9cf5131",
   "metadata": {},
   "outputs": [
    {
     "data": {
      "text/plain": [
       "str"
      ]
     },
     "execution_count": 2,
     "metadata": {},
     "output_type": "execute_result"
    }
   ],
   "source": [
    "type(a)"
   ]
  },
  {
   "cell_type": "code",
   "execution_count": 3,
   "id": "135751d9",
   "metadata": {},
   "outputs": [
    {
     "data": {
      "text/plain": [
       "method"
      ]
     },
     "execution_count": 3,
     "metadata": {},
     "output_type": "execute_result"
    }
   ],
   "source": [
    "type(input)"
   ]
  },
  {
   "cell_type": "code",
   "execution_count": 2,
   "id": "2ba3239b",
   "metadata": {},
   "outputs": [
    {
     "name": "stdout",
     "output_type": "stream",
     "text": [
      "This is my variable a  13\n",
      "This is my variable b  15\n",
      "This is my variable c  17\n"
     ]
    }
   ],
   "source": [
    "a = int(input(\"This is my variable a  \"))\n",
    "b = int(input(\"This is my variable b  \"))\n",
    "c = int(input(\"This is my variable c  \"))"
   ]
  },
  {
   "cell_type": "code",
   "execution_count": 3,
   "id": "1ac9372d",
   "metadata": {},
   "outputs": [
    {
     "name": "stdout",
     "output_type": "stream",
     "text": [
      "13.882352941176471\n"
     ]
    }
   ],
   "source": [
    "A = a+b/c\n",
    "print(A)"
   ]
  },
  {
   "cell_type": "code",
   "execution_count": 4,
   "id": "959ec3ab",
   "metadata": {},
   "outputs": [
    {
     "name": "stdout",
     "output_type": "stream",
     "text": [
      "(91.88235294117646+6j)\n"
     ]
    }
   ],
   "source": [
    "B = A+ 78 +6j\n",
    "print(B)"
   ]
  },
  {
   "cell_type": "code",
   "execution_count": 5,
   "id": "3576e206",
   "metadata": {},
   "outputs": [
    {
     "data": {
      "text/plain": [
       "'(91.88235294117646+6j)Sudh'"
      ]
     },
     "execution_count": 5,
     "metadata": {},
     "output_type": "execute_result"
    }
   ],
   "source": [
    "str(B) + \"Sudh\""
   ]
  },
  {
   "cell_type": "code",
   "execution_count": 6,
   "id": "239eddff",
   "metadata": {},
   "outputs": [
    {
     "name": "stdout",
     "output_type": "stream",
     "text": [
      "Enter first number   8\n",
      "Enter second number  9\n"
     ]
    }
   ],
   "source": [
    "num1 = int(input(\"Enter first number   \"))\n",
    "num2 = int(input(\"Enter second number  \"))"
   ]
  },
  {
   "cell_type": "code",
   "execution_count": 7,
   "id": "aec29817",
   "metadata": {},
   "outputs": [],
   "source": [
    "sum_num = num1 + num2\n",
    "diff_num = num1 - num2\n",
    "mult_num = num1 * num2\n",
    "div_num = num1 / num2\n",
    "mod_num = num1 % num2\n",
    "quot_num = num1 // num2"
   ]
  },
  {
   "cell_type": "code",
   "execution_count": 9,
   "id": "7d071d53",
   "metadata": {},
   "outputs": [
    {
     "name": "stdout",
     "output_type": "stream",
     "text": [
      "Sum of two numbers 8 and 9 is 17\n",
      "Diff of two numbers 8 and 9 is -1\n",
      "Multi of two numbers 8 and 9 is 72\n",
      "Div of two numbers 8 and 9 is 0.8888888888888888\n",
      "Mod of two numbers 8 and 9 is 8\n",
      "Quot of two numbers 8 and 9 is 0\n"
     ]
    }
   ],
   "source": [
    "print(\"Sum of two numbers\",num1,\"and\",num2,\"is\",sum_num)\n",
    "print(\"Diff of two numbers\",num1,\"and\",num2,\"is\",diff_num)\n",
    "print(\"Multi of two numbers\",num1,\"and\",num2,\"is\",mult_num)\n",
    "print(\"Div of two numbers\",num1,\"and\",num2,\"is\",div_num)\n",
    "print(\"Mod of two numbers\",num1,\"and\",num2,\"is\",mod_num)\n",
    "print(\"Quot of two numbers\",num1,\"and\",num2,\"is\",quot_num)"
   ]
  },
  {
   "cell_type": "markdown",
   "id": "c72eece4",
   "metadata": {},
   "source": [
    "# Range Function"
   ]
  },
  {
   "cell_type": "code",
   "execution_count": 10,
   "id": "5b24c512",
   "metadata": {},
   "outputs": [
    {
     "data": {
      "text/plain": [
       "range(0, 10)"
      ]
     },
     "execution_count": 10,
     "metadata": {},
     "output_type": "execute_result"
    }
   ],
   "source": [
    "range(10)"
   ]
  },
  {
   "cell_type": "code",
   "execution_count": 11,
   "id": "4eafe66b",
   "metadata": {},
   "outputs": [
    {
     "name": "stdout",
     "output_type": "stream",
     "text": [
      "range(0, 10)\n"
     ]
    }
   ],
   "source": [
    "print(range(10))"
   ]
  },
  {
   "cell_type": "code",
   "execution_count": 12,
   "id": "54121d27",
   "metadata": {},
   "outputs": [
    {
     "data": {
      "text/plain": [
       "[0, 1, 2, 3, 4, 5, 6, 7, 8, 9]"
      ]
     },
     "execution_count": 12,
     "metadata": {},
     "output_type": "execute_result"
    }
   ],
   "source": [
    "list(range(10))"
   ]
  },
  {
   "cell_type": "code",
   "execution_count": 13,
   "id": "f4c60043",
   "metadata": {},
   "outputs": [
    {
     "data": {
      "text/plain": [
       "[0, 1, 2, 3, 4, 5, 6, 7, 8, 9, 10, 11]"
      ]
     },
     "execution_count": 13,
     "metadata": {},
     "output_type": "execute_result"
    }
   ],
   "source": [
    "list(range(12))"
   ]
  },
  {
   "cell_type": "code",
   "execution_count": 14,
   "id": "b5e7aef2",
   "metadata": {},
   "outputs": [
    {
     "data": {
      "text/plain": [
       "[3, 4, 5, 6, 7, 8, 9, 10, 11]"
      ]
     },
     "execution_count": 14,
     "metadata": {},
     "output_type": "execute_result"
    }
   ],
   "source": [
    "list(range(3,12))"
   ]
  },
  {
   "cell_type": "code",
   "execution_count": 16,
   "id": "e8e5c520",
   "metadata": {},
   "outputs": [
    {
     "data": {
      "text/plain": [
       "[3, 5, 7, 9, 11, 13, 15, 17, 19]"
      ]
     },
     "execution_count": 16,
     "metadata": {},
     "output_type": "execute_result"
    }
   ],
   "source": [
    "list(range(3,20,2))"
   ]
  },
  {
   "cell_type": "code",
   "execution_count": 17,
   "id": "dc4e685d",
   "metadata": {},
   "outputs": [
    {
     "data": {
      "text/plain": [
       "[3, 6, 9, 12, 15, 18]"
      ]
     },
     "execution_count": 17,
     "metadata": {},
     "output_type": "execute_result"
    }
   ],
   "source": [
    "list(range(3,20,3))"
   ]
  },
  {
   "cell_type": "code",
   "execution_count": 18,
   "id": "5a7abfdf",
   "metadata": {},
   "outputs": [
    {
     "ename": "TypeError",
     "evalue": "'float' object cannot be interpreted as an integer",
     "output_type": "error",
     "traceback": [
      "\u001b[1;31m---------------------------------------------------------------------------\u001b[0m",
      "\u001b[1;31mTypeError\u001b[0m                                 Traceback (most recent call last)",
      "Cell \u001b[1;32mIn[18], line 1\u001b[0m\n\u001b[1;32m----> 1\u001b[0m \u001b[38;5;28mlist\u001b[39m(\u001b[38;5;28mrange\u001b[39m(\u001b[38;5;241m3\u001b[39m,\u001b[38;5;241m20.5\u001b[39m))\n",
      "\u001b[1;31mTypeError\u001b[0m: 'float' object cannot be interpreted as an integer"
     ]
    }
   ],
   "source": [
    "list(range(3,20.5))"
   ]
  },
  {
   "cell_type": "code",
   "execution_count": 20,
   "id": "12e08154",
   "metadata": {},
   "outputs": [
    {
     "data": {
      "text/plain": [
       "[3, 6, 9, 12, 15, 18]"
      ]
     },
     "execution_count": 20,
     "metadata": {},
     "output_type": "execute_result"
    }
   ],
   "source": [
    "list(range(int(3.25),int(20.25),3))"
   ]
  },
  {
   "cell_type": "code",
   "execution_count": 21,
   "id": "d1442e01",
   "metadata": {},
   "outputs": [
    {
     "data": {
      "text/plain": [
       "[]"
      ]
     },
     "execution_count": 21,
     "metadata": {},
     "output_type": "execute_result"
    }
   ],
   "source": [
    "list(range(3,45,-3))"
   ]
  },
  {
   "cell_type": "code",
   "execution_count": 23,
   "id": "3f36302d",
   "metadata": {},
   "outputs": [
    {
     "data": {
      "text/plain": [
       "[45, 42, 39, 36, 33, 30, 27, 24, 21, 18, 15, 12, 9, 6, 3]"
      ]
     },
     "execution_count": 23,
     "metadata": {},
     "output_type": "execute_result"
    }
   ],
   "source": [
    "list(range(45,1,-3))"
   ]
  },
  {
   "cell_type": "code",
   "execution_count": 24,
   "id": "c98ffbb0",
   "metadata": {},
   "outputs": [
    {
     "data": {
      "text/plain": [
       "[]"
      ]
     },
     "execution_count": 24,
     "metadata": {},
     "output_type": "execute_result"
    }
   ],
   "source": [
    "list(range(45,1,3))"
   ]
  },
  {
   "cell_type": "code",
   "execution_count": 25,
   "id": "1e410a8d",
   "metadata": {},
   "outputs": [
    {
     "data": {
      "text/plain": [
       "[]"
      ]
     },
     "execution_count": 25,
     "metadata": {},
     "output_type": "execute_result"
    }
   ],
   "source": [
    "list(range(-45,-1,-3))"
   ]
  },
  {
   "cell_type": "code",
   "execution_count": 26,
   "id": "5004495a",
   "metadata": {},
   "outputs": [
    {
     "data": {
      "text/plain": [
       "[]"
      ]
     },
     "execution_count": 26,
     "metadata": {},
     "output_type": "execute_result"
    }
   ],
   "source": [
    "list(range(-3,-45,3))"
   ]
  },
  {
   "cell_type": "code",
   "execution_count": 27,
   "id": "3fbe2f16",
   "metadata": {},
   "outputs": [
    {
     "data": {
      "text/plain": [
       "[-45, -40, -35, -30, -25, -20, -15, -10, -5]"
      ]
     },
     "execution_count": 27,
     "metadata": {},
     "output_type": "execute_result"
    }
   ],
   "source": [
    "list(range(-45,-3, 5))"
   ]
  },
  {
   "cell_type": "code",
   "execution_count": 28,
   "id": "5d9d56ca",
   "metadata": {},
   "outputs": [],
   "source": [
    "name=\"India\""
   ]
  },
  {
   "cell_type": "code",
   "execution_count": 29,
   "id": "b6de9007",
   "metadata": {},
   "outputs": [
    {
     "data": {
      "text/plain": [
       "str"
      ]
     },
     "execution_count": 29,
     "metadata": {},
     "output_type": "execute_result"
    }
   ],
   "source": [
    "type(name)"
   ]
  },
  {
   "cell_type": "code",
   "execution_count": 30,
   "id": "72df4c2b",
   "metadata": {},
   "outputs": [
    {
     "name": "stdout",
     "output_type": "stream",
     "text": [
      "5\n"
     ]
    }
   ],
   "source": [
    "len_name = len(name)\n",
    "print(len_name)"
   ]
  },
  {
   "cell_type": "code",
   "execution_count": 31,
   "id": "f3e01b7e",
   "metadata": {},
   "outputs": [
    {
     "data": {
      "text/plain": [
       "[0, 1, 2, 3, 4]"
      ]
     },
     "execution_count": 31,
     "metadata": {},
     "output_type": "execute_result"
    }
   ],
   "source": [
    "list(range(len_name))"
   ]
  },
  {
   "cell_type": "code",
   "execution_count": 37,
   "id": "e080b00a",
   "metadata": {},
   "outputs": [
    {
     "name": "stdout",
     "output_type": "stream",
     "text": [
      "['hello', 55, 67.53, 'a', 45, 'Nikita', 'India', 34.56, 98, True, False, (56+6j)]\n"
     ]
    }
   ],
   "source": [
    "list_items = [\"hello\",55,67.53,\"a\",45,\"Nikita\",\"India\",34.56,98,True,False, 56+6j]\n",
    "print(list_items)"
   ]
  },
  {
   "cell_type": "code",
   "execution_count": 42,
   "id": "60ab12cc",
   "metadata": {},
   "outputs": [
    {
     "data": {
      "text/plain": [
       "12"
      ]
     },
     "execution_count": 42,
     "metadata": {},
     "output_type": "execute_result"
    }
   ],
   "source": [
    "len(list_items)"
   ]
  },
  {
   "cell_type": "code",
   "execution_count": 43,
   "id": "459771a8",
   "metadata": {},
   "outputs": [
    {
     "data": {
      "text/plain": [
       "'India'"
      ]
     },
     "execution_count": 43,
     "metadata": {},
     "output_type": "execute_result"
    }
   ],
   "source": [
    "list_items[6]"
   ]
  },
  {
   "cell_type": "code",
   "execution_count": 44,
   "id": "4bf6cc18",
   "metadata": {},
   "outputs": [
    {
     "data": {
      "text/plain": [
       "['India', 34.56, 98, True, False, (56+6j)]"
      ]
     },
     "execution_count": 44,
     "metadata": {},
     "output_type": "execute_result"
    }
   ],
   "source": [
    "list_items[6 : ]"
   ]
  },
  {
   "cell_type": "code",
   "execution_count": 45,
   "id": "8b5ad6fa",
   "metadata": {},
   "outputs": [
    {
     "data": {
      "text/plain": [
       "['hello',\n",
       " 55,\n",
       " 67.53,\n",
       " 'a',\n",
       " 45,\n",
       " 'Nikita',\n",
       " 'India',\n",
       " 34.56,\n",
       " 98,\n",
       " True,\n",
       " False,\n",
       " (56+6j)]"
      ]
     },
     "execution_count": 45,
     "metadata": {},
     "output_type": "execute_result"
    }
   ],
   "source": [
    "list_items[ : ]"
   ]
  },
  {
   "cell_type": "code",
   "execution_count": 46,
   "id": "341032b2",
   "metadata": {},
   "outputs": [
    {
     "data": {
      "text/plain": [
       "['hello', 55, 67.53, 'a']"
      ]
     },
     "execution_count": 46,
     "metadata": {},
     "output_type": "execute_result"
    }
   ],
   "source": [
    "list_items[ :4] "
   ]
  },
  {
   "cell_type": "code",
   "execution_count": 47,
   "id": "3a2e2517",
   "metadata": {},
   "outputs": [
    {
     "data": {
      "text/plain": [
       "['a', 45, 'Nikita', 'India']"
      ]
     },
     "execution_count": 47,
     "metadata": {},
     "output_type": "execute_result"
    }
   ],
   "source": [
    "list_items[3:7]"
   ]
  },
  {
   "cell_type": "code",
   "execution_count": 48,
   "id": "4b630f0e",
   "metadata": {},
   "outputs": [
    {
     "data": {
      "text/plain": [
       "['a', 45, 'Nikita', 'India', 34.56, 98, True, False, (56+6j)]"
      ]
     },
     "execution_count": 48,
     "metadata": {},
     "output_type": "execute_result"
    }
   ],
   "source": [
    "list_items[3:23]"
   ]
  },
  {
   "cell_type": "code",
   "execution_count": 49,
   "id": "418036ea",
   "metadata": {},
   "outputs": [
    {
     "ename": "IndexError",
     "evalue": "list index out of range",
     "output_type": "error",
     "traceback": [
      "\u001b[1;31m---------------------------------------------------------------------------\u001b[0m",
      "\u001b[1;31mIndexError\u001b[0m                                Traceback (most recent call last)",
      "Cell \u001b[1;32mIn[49], line 1\u001b[0m\n\u001b[1;32m----> 1\u001b[0m list_items[\u001b[38;5;241m23\u001b[39m]\n",
      "\u001b[1;31mIndexError\u001b[0m: list index out of range"
     ]
    }
   ],
   "source": [
    "list_items[23]"
   ]
  },
  {
   "cell_type": "code",
   "execution_count": 50,
   "id": "65bfb7af",
   "metadata": {},
   "outputs": [
    {
     "data": {
      "text/plain": [
       "[(56+6j),\n",
       " False,\n",
       " True,\n",
       " 98,\n",
       " 34.56,\n",
       " 'India',\n",
       " 'Nikita',\n",
       " 45,\n",
       " 'a',\n",
       " 67.53,\n",
       " 55,\n",
       " 'hello']"
      ]
     },
     "execution_count": 50,
     "metadata": {},
     "output_type": "execute_result"
    }
   ],
   "source": [
    "list_items[ :  :-1]"
   ]
  },
  {
   "cell_type": "code",
   "execution_count": 51,
   "id": "a2ef1be7",
   "metadata": {},
   "outputs": [
    {
     "data": {
      "text/plain": [
       "[67.53, 45, 'India', 98]"
      ]
     },
     "execution_count": 51,
     "metadata": {},
     "output_type": "execute_result"
    }
   ],
   "source": [
    "list_items[2:9:2]"
   ]
  },
  {
   "cell_type": "code",
   "execution_count": 52,
   "id": "a3230269",
   "metadata": {},
   "outputs": [
    {
     "ename": "TypeError",
     "evalue": "can only concatenate list (not \"str\") to list",
     "output_type": "error",
     "traceback": [
      "\u001b[1;31m---------------------------------------------------------------------------\u001b[0m",
      "\u001b[1;31mTypeError\u001b[0m                                 Traceback (most recent call last)",
      "Cell \u001b[1;32mIn[52], line 1\u001b[0m\n\u001b[1;32m----> 1\u001b[0m [\u001b[38;5;241m1\u001b[39m,\u001b[38;5;241m2\u001b[39m,\u001b[38;5;241m36.45\u001b[39m,\u001b[38;5;124m\"\u001b[39m\u001b[38;5;124mFSDS\u001b[39m\u001b[38;5;124m\"\u001b[39m] \u001b[38;5;241m+\u001b[39m \u001b[38;5;124m\"\u001b[39m\u001b[38;5;124mNikta\u001b[39m\u001b[38;5;124m\"\u001b[39m\n",
      "\u001b[1;31mTypeError\u001b[0m: can only concatenate list (not \"str\") to list"
     ]
    }
   ],
   "source": [
    "[1,2,36.45,\"FSDS\"] + \"Nikta\""
   ]
  },
  {
   "cell_type": "code",
   "execution_count": 53,
   "id": "1fc3bbb7",
   "metadata": {},
   "outputs": [
    {
     "data": {
      "text/plain": [
       "[1, 2, 36.45, 'FSDS', 'Nikita']"
      ]
     },
     "execution_count": 53,
     "metadata": {},
     "output_type": "execute_result"
    }
   ],
   "source": [
    "[1,2,36.45,\"FSDS\"] + [\"Nikita\"]"
   ]
  },
  {
   "cell_type": "code",
   "execution_count": null,
   "id": "a4ef759d",
   "metadata": {},
   "outputs": [],
   "source": []
  },
  {
   "cell_type": "markdown",
   "id": "5f5c60f5",
   "metadata": {},
   "source": [
    "# Append Function "
   ]
  },
  {
   "cell_type": "code",
   "execution_count": 54,
   "id": "ca75acd8",
   "metadata": {},
   "outputs": [
    {
     "name": "stdout",
     "output_type": "stream",
     "text": [
      "['hello', 55, 67.53, 'a', 45, 'Nikita', 'India', 34.56, 98, True, False, (56+6j)]\n"
     ]
    }
   ],
   "source": [
    "print(list_items)"
   ]
  },
  {
   "cell_type": "code",
   "execution_count": 55,
   "id": "1bbc74ae",
   "metadata": {},
   "outputs": [],
   "source": [
    "list_items.append(\"Alia Bhatt\")"
   ]
  },
  {
   "cell_type": "code",
   "execution_count": 56,
   "id": "58ea9ad2",
   "metadata": {},
   "outputs": [
    {
     "data": {
      "text/plain": [
       "['hello',\n",
       " 55,\n",
       " 67.53,\n",
       " 'a',\n",
       " 45,\n",
       " 'Nikita',\n",
       " 'India',\n",
       " 34.56,\n",
       " 98,\n",
       " True,\n",
       " False,\n",
       " (56+6j),\n",
       " 'Alia Bhatt']"
      ]
     },
     "execution_count": 56,
     "metadata": {},
     "output_type": "execute_result"
    }
   ],
   "source": [
    "list_items"
   ]
  },
  {
   "cell_type": "code",
   "execution_count": 61,
   "id": "c5c5530c",
   "metadata": {},
   "outputs": [
    {
     "ename": "TypeError",
     "evalue": "list.append() takes exactly one argument (3 given)",
     "output_type": "error",
     "traceback": [
      "\u001b[1;31m---------------------------------------------------------------------------\u001b[0m",
      "\u001b[1;31mTypeError\u001b[0m                                 Traceback (most recent call last)",
      "Cell \u001b[1;32mIn[61], line 1\u001b[0m\n\u001b[1;32m----> 1\u001b[0m list_items\u001b[38;5;241m.\u001b[39mappend(\u001b[38;5;124m\"\u001b[39m\u001b[38;5;124mAbhishek\u001b[39m\u001b[38;5;124m\"\u001b[39m,\u001b[38;5;241m23\u001b[39m,\u001b[38;5;241m85\u001b[39m)\n",
      "\u001b[1;31mTypeError\u001b[0m: list.append() takes exactly one argument (3 given)"
     ]
    }
   ],
   "source": [
    "list_items.append(\"Abhishek\",23,85)"
   ]
  },
  {
   "cell_type": "code",
   "execution_count": 60,
   "id": "b1624072",
   "metadata": {},
   "outputs": [],
   "source": [
    "list_items.append([\"Abhishek\",23,85,56])"
   ]
  },
  {
   "cell_type": "code",
   "execution_count": 62,
   "id": "0dec83f6",
   "metadata": {},
   "outputs": [
    {
     "data": {
      "text/plain": [
       "['hello',\n",
       " 55,\n",
       " 67.53,\n",
       " 'a',\n",
       " 45,\n",
       " 'Nikita',\n",
       " 'India',\n",
       " 34.56,\n",
       " 98,\n",
       " True,\n",
       " False,\n",
       " (56+6j),\n",
       " 'Alia Bhatt',\n",
       " ['Abhishek', 23, 85, 56]]"
      ]
     },
     "execution_count": 62,
     "metadata": {},
     "output_type": "execute_result"
    }
   ],
   "source": [
    "list_items"
   ]
  },
  {
   "cell_type": "code",
   "execution_count": 63,
   "id": "6d61ac4a",
   "metadata": {},
   "outputs": [
    {
     "data": {
      "text/plain": [
       "'l'"
      ]
     },
     "execution_count": 63,
     "metadata": {},
     "output_type": "execute_result"
    }
   ],
   "source": [
    "list_items[12][1]"
   ]
  },
  {
   "cell_type": "code",
   "execution_count": 64,
   "id": "8affe201",
   "metadata": {},
   "outputs": [
    {
     "data": {
      "text/plain": [
       "'Alia Bhatt'"
      ]
     },
     "execution_count": 64,
     "metadata": {},
     "output_type": "execute_result"
    }
   ],
   "source": [
    "list_items[12]"
   ]
  },
  {
   "cell_type": "code",
   "execution_count": 65,
   "id": "483737f6",
   "metadata": {},
   "outputs": [
    {
     "data": {
      "text/plain": [
       "'B'"
      ]
     },
     "execution_count": 65,
     "metadata": {},
     "output_type": "execute_result"
    }
   ],
   "source": [
    "list_items[12][5]"
   ]
  },
  {
   "cell_type": "code",
   "execution_count": 68,
   "id": "1a80d52f",
   "metadata": {},
   "outputs": [
    {
     "data": {
      "text/plain": [
       "['Abhishek', 23, 85, 56]"
      ]
     },
     "execution_count": 68,
     "metadata": {},
     "output_type": "execute_result"
    }
   ],
   "source": [
    "list_items[13]"
   ]
  },
  {
   "cell_type": "code",
   "execution_count": 69,
   "id": "1fcb9525",
   "metadata": {},
   "outputs": [
    {
     "data": {
      "text/plain": [
       "'Abhishek'"
      ]
     },
     "execution_count": 69,
     "metadata": {},
     "output_type": "execute_result"
    }
   ],
   "source": [
    "list_items[13][0]"
   ]
  },
  {
   "cell_type": "code",
   "execution_count": 70,
   "id": "86e7067b",
   "metadata": {},
   "outputs": [
    {
     "data": {
      "text/plain": [
       "'h'"
      ]
     },
     "execution_count": 70,
     "metadata": {},
     "output_type": "execute_result"
    }
   ],
   "source": [
    "list_items[13][0][5]"
   ]
  },
  {
   "cell_type": "code",
   "execution_count": 73,
   "id": "bece940e",
   "metadata": {},
   "outputs": [],
   "source": [
    "list_items.append([\"Abhi\",[2,5],45,85])"
   ]
  },
  {
   "cell_type": "code",
   "execution_count": 74,
   "id": "38b82a85",
   "metadata": {},
   "outputs": [
    {
     "data": {
      "text/plain": [
       "['hello',\n",
       " 55,\n",
       " 67.53,\n",
       " 'a',\n",
       " 45,\n",
       " 'Nikita',\n",
       " 'India',\n",
       " 34.56,\n",
       " 98,\n",
       " True,\n",
       " False,\n",
       " (56+6j),\n",
       " 'Alia Bhatt',\n",
       " ['Abhishek', 23, 85, 56],\n",
       " ['Abhi', [2, 5], 45, 85],\n",
       " ['Abhi', [2, 5], 45, 85]]"
      ]
     },
     "execution_count": 74,
     "metadata": {},
     "output_type": "execute_result"
    }
   ],
   "source": [
    "list_items"
   ]
  },
  {
   "cell_type": "code",
   "execution_count": null,
   "id": "bc90c529",
   "metadata": {},
   "outputs": [],
   "source": []
  },
  {
   "cell_type": "markdown",
   "id": "b08fa22d",
   "metadata": {},
   "source": [
    "# Insert Function "
   ]
  },
  {
   "cell_type": "code",
   "execution_count": 75,
   "id": "f4102a3a",
   "metadata": {},
   "outputs": [],
   "source": [
    "list_items.insert(3,\"Data Science\")"
   ]
  },
  {
   "cell_type": "code",
   "execution_count": 76,
   "id": "64ac719f",
   "metadata": {},
   "outputs": [
    {
     "name": "stdout",
     "output_type": "stream",
     "text": [
      "['hello', 55, 67.53, 'Data Science', 'a', 45, 'Nikita', 'India', 34.56, 98, True, False, (56+6j), 'Alia Bhatt', ['Abhishek', 23, 85, 56], ['Abhi', [2, 5], 45, 85], ['Abhi', [2, 5], 45, 85]]\n"
     ]
    }
   ],
   "source": [
    "print(list_items)"
   ]
  },
  {
   "cell_type": "code",
   "execution_count": 77,
   "id": "1067a215",
   "metadata": {},
   "outputs": [],
   "source": [
    "list_items.insert(1,[\"Raj\",\"Yash\",45,89])"
   ]
  },
  {
   "cell_type": "code",
   "execution_count": 78,
   "id": "f3fb5f6d",
   "metadata": {},
   "outputs": [
    {
     "data": {
      "text/plain": [
       "['hello',\n",
       " ['Raj', 'Yash', 45, 89],\n",
       " 55,\n",
       " 67.53,\n",
       " 'Data Science',\n",
       " 'a',\n",
       " 45,\n",
       " 'Nikita',\n",
       " 'India',\n",
       " 34.56,\n",
       " 98,\n",
       " True,\n",
       " False,\n",
       " (56+6j),\n",
       " 'Alia Bhatt',\n",
       " ['Abhishek', 23, 85, 56],\n",
       " ['Abhi', [2, 5], 45, 85],\n",
       " ['Abhi', [2, 5], 45, 85]]"
      ]
     },
     "execution_count": 78,
     "metadata": {},
     "output_type": "execute_result"
    }
   ],
   "source": [
    "list_items"
   ]
  },
  {
   "cell_type": "code",
   "execution_count": 79,
   "id": "1b8beb56",
   "metadata": {},
   "outputs": [
    {
     "data": {
      "text/plain": [
       "'Yash'"
      ]
     },
     "execution_count": 79,
     "metadata": {},
     "output_type": "execute_result"
    }
   ],
   "source": [
    "list_items[1][1]"
   ]
  },
  {
   "cell_type": "code",
   "execution_count": null,
   "id": "77c3ff19",
   "metadata": {},
   "outputs": [],
   "source": []
  }
 ],
 "metadata": {
  "kernelspec": {
   "display_name": "Python 3 (ipykernel)",
   "language": "python",
   "name": "python3"
  },
  "language_info": {
   "codemirror_mode": {
    "name": "ipython",
    "version": 3
   },
   "file_extension": ".py",
   "mimetype": "text/x-python",
   "name": "python",
   "nbconvert_exporter": "python",
   "pygments_lexer": "ipython3",
   "version": "3.11.4"
  }
 },
 "nbformat": 4,
 "nbformat_minor": 5
}
