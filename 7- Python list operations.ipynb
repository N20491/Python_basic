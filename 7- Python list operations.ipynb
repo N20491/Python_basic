{
 "cells": [
  {
   "cell_type": "code",
   "execution_count": 1,
   "id": "b90f0896",
   "metadata": {},
   "outputs": [
    {
     "data": {
      "text/plain": [
       "[2, 4, 6, 7, 3]"
      ]
     },
     "execution_count": 1,
     "metadata": {},
     "output_type": "execute_result"
    }
   ],
   "source": [
    "my_list= [2,4,6,7,3]\n",
    "my_list"
   ]
  },
  {
   "cell_type": "code",
   "execution_count": 2,
   "id": "8443aac0",
   "metadata": {},
   "outputs": [
    {
     "data": {
      "text/plain": [
       "[2, 4, 6, 7, 3, 9]"
      ]
     },
     "execution_count": 2,
     "metadata": {},
     "output_type": "execute_result"
    }
   ],
   "source": [
    "my_list.append(9)\n",
    "my_list"
   ]
  },
  {
   "cell_type": "code",
   "execution_count": 3,
   "id": "11a3f9c7",
   "metadata": {},
   "outputs": [
    {
     "data": {
      "text/plain": [
       "[2, 4, 6, 7, 3, 9, [11, 12]]"
      ]
     },
     "execution_count": 3,
     "metadata": {},
     "output_type": "execute_result"
    }
   ],
   "source": [
    "my_list.append([11,12])\n",
    "my_list"
   ]
  },
  {
   "cell_type": "code",
   "execution_count": 4,
   "id": "7a5f143a",
   "metadata": {},
   "outputs": [
    {
     "data": {
      "text/plain": [
       "[2, 4, 6, 7, 3, 9, [11, 12], 15]"
      ]
     },
     "execution_count": 4,
     "metadata": {},
     "output_type": "execute_result"
    }
   ],
   "source": [
    "my_list.extend([15])\n",
    "my_list"
   ]
  },
  {
   "cell_type": "code",
   "execution_count": 5,
   "id": "929091dc",
   "metadata": {},
   "outputs": [
    {
     "data": {
      "text/plain": [
       "[2, 4, 6, 7, 3, 9, [11, 12], 15, 1, 2, 3]"
      ]
     },
     "execution_count": 5,
     "metadata": {},
     "output_type": "execute_result"
    }
   ],
   "source": [
    "my_list.extend([1,2,3])\n",
    "my_list"
   ]
  },
  {
   "cell_type": "code",
   "execution_count": 7,
   "id": "8b150e36",
   "metadata": {},
   "outputs": [
    {
     "data": {
      "text/plain": [
       "[2, 4, 6, 'a', 7, 3, 9, [11, 12], 15, 1, 2, 3]"
      ]
     },
     "execution_count": 7,
     "metadata": {},
     "output_type": "execute_result"
    }
   ],
   "source": [
    "my_list.insert(3,'a')\n",
    "my_list"
   ]
  },
  {
   "cell_type": "code",
   "execution_count": 9,
   "id": "937787f0",
   "metadata": {},
   "outputs": [
    {
     "data": {
      "text/plain": [
       "[2, 4, 6, 'a', 7, 3, 9, [11, 12], 15, 1, 2, 3, '*****']"
      ]
     },
     "execution_count": 9,
     "metadata": {},
     "output_type": "execute_result"
    }
   ],
   "source": [
    "my_list.insert(len(my_list), '*****')\n",
    "my_list"
   ]
  },
  {
   "cell_type": "code",
   "execution_count": 10,
   "id": "feac1e11",
   "metadata": {},
   "outputs": [
    {
     "data": {
      "text/plain": [
       "[1, 2, 3, 4, 5, 3, 8, 3]"
      ]
     },
     "execution_count": 10,
     "metadata": {},
     "output_type": "execute_result"
    }
   ],
   "source": [
    "my_list = [1 , 2, 3, 4, 5,3,8,3]\n",
    "my_list"
   ]
  },
  {
   "cell_type": "code",
   "execution_count": 11,
   "id": "b6e3d469",
   "metadata": {},
   "outputs": [
    {
     "data": {
      "text/plain": [
       "[1, 2, 4, 5, 3, 8, 3]"
      ]
     },
     "execution_count": 11,
     "metadata": {},
     "output_type": "execute_result"
    }
   ],
   "source": [
    "my_list.remove(3)\n",
    "my_list"
   ]
  },
  {
   "cell_type": "code",
   "execution_count": 12,
   "id": "9dda5c95",
   "metadata": {},
   "outputs": [
    {
     "name": "stdout",
     "output_type": "stream",
     "text": [
      "List ------>  [1, 2, 4, 5, 8, 3]\n",
      "Popped element ------ 3\n"
     ]
    }
   ],
   "source": [
    "popped_element = my_list.pop(4)\n",
    "print(\"List ------> \",my_list)\n",
    "print(\"Popped element ------\",popped_element)"
   ]
  },
  {
   "cell_type": "code",
   "execution_count": 13,
   "id": "e96879f6",
   "metadata": {},
   "outputs": [
    {
     "name": "stdout",
     "output_type": "stream",
     "text": [
      "Popped element---- 1\n",
      "List---->  [2, 4, 5, 8, 3]\n"
     ]
    }
   ],
   "source": [
    "popped_element = my_list.pop(0)\n",
    "print(\"Popped element----\", popped_element)\n",
    "print(\"List----> \",my_list)"
   ]
  },
  {
   "cell_type": "code",
   "execution_count": 14,
   "id": "ac190110",
   "metadata": {},
   "outputs": [
    {
     "data": {
      "text/plain": [
       "[1, 2, 3, 4, 5]"
      ]
     },
     "execution_count": 14,
     "metadata": {},
     "output_type": "execute_result"
    }
   ],
   "source": [
    "my_list = [1 , 2, 3, 4, 5]\n",
    "my_list"
   ]
  },
  {
   "cell_type": "code",
   "execution_count": 15,
   "id": "79576bd8",
   "metadata": {},
   "outputs": [
    {
     "data": {
      "text/plain": [
       "[1, 3, 4, 5]"
      ]
     },
     "execution_count": 15,
     "metadata": {},
     "output_type": "execute_result"
    }
   ],
   "source": [
    "del(my_list[1])\n",
    "my_list"
   ]
  },
  {
   "cell_type": "code",
   "execution_count": 16,
   "id": "d503e543",
   "metadata": {},
   "outputs": [
    {
     "data": {
      "text/plain": [
       "[1, 2, 3, 4, 5]"
      ]
     },
     "execution_count": 16,
     "metadata": {},
     "output_type": "execute_result"
    }
   ],
   "source": [
    "my_list = [1 , 2, 3, 4, 5]\n",
    "my_list"
   ]
  },
  {
   "cell_type": "code",
   "execution_count": 17,
   "id": "f0d655f9",
   "metadata": {},
   "outputs": [
    {
     "data": {
      "text/plain": [
       "[1212, 2, 3, 4, 5]"
      ]
     },
     "execution_count": 17,
     "metadata": {},
     "output_type": "execute_result"
    }
   ],
   "source": [
    "my_list[0]=1212\n",
    "my_list"
   ]
  },
  {
   "cell_type": "code",
   "execution_count": 18,
   "id": "a5dabc42",
   "metadata": {},
   "outputs": [
    {
     "data": {
      "text/plain": [
       "[1212, 2, 'abcd', 4, 5]"
      ]
     },
     "execution_count": 18,
     "metadata": {},
     "output_type": "execute_result"
    }
   ],
   "source": [
    "my_list[2]= 'abcd'\n",
    "my_list"
   ]
  },
  {
   "cell_type": "code",
   "execution_count": 19,
   "id": "064e5341",
   "metadata": {},
   "outputs": [
    {
     "name": "stdout",
     "output_type": "stream",
     "text": [
      "List before sorting ------>  [12, 27, 63, 89, 75]\n",
      "List after sorting ------->  [12, 27, 63, 75, 89]\n"
     ]
    }
   ],
   "source": [
    "my_list = [12,27,63,89,75]\n",
    "print(\"List before sorting ------> \",my_list)\n",
    "\n",
    "my_list.sort()\n",
    "print(\"List after sorting -------> \",my_list)"
   ]
  },
  {
   "cell_type": "code",
   "execution_count": 20,
   "id": "7e054379",
   "metadata": {},
   "outputs": [
    {
     "name": "stdout",
     "output_type": "stream",
     "text": [
      "List before sorting ------>  [12, 27, 63, 89, 75]\n",
      "list after sorting---> [89, 75, 63, 27, 12]\n"
     ]
    }
   ],
   "source": [
    "my_list = [12,27,63,89,75]\n",
    "print(\"List before sorting ------> \",my_list)\n",
    "\n",
    "my_list.sort(reverse=True)\n",
    "print(\"list after sorting--->\", my_list)"
   ]
  },
  {
   "cell_type": "code",
   "execution_count": 21,
   "id": "2dfc71ab",
   "metadata": {},
   "outputs": [],
   "source": [
    "a = [1,'a',\"Hello\",3.4]"
   ]
  },
  {
   "cell_type": "code",
   "execution_count": 22,
   "id": "98567fea",
   "metadata": {},
   "outputs": [
    {
     "data": {
      "text/plain": [
       "[3.4, 'Hello', 'a', 1]"
      ]
     },
     "execution_count": 22,
     "metadata": {},
     "output_type": "execute_result"
    }
   ],
   "source": [
    "a[ : :-1]"
   ]
  },
  {
   "cell_type": "code",
   "execution_count": 23,
   "id": "de7d8024",
   "metadata": {},
   "outputs": [
    {
     "name": "stdout",
     "output_type": "stream",
     "text": [
      "list before reversing the order---> [12, 27, 63, 89, 75]\n",
      "list after reversing the order---> [75, 89, 63, 27, 12]\n"
     ]
    }
   ],
   "source": [
    "my_list = [12,27,63,89,75]\n",
    "print(\"list before reversing the order--->\", my_list)\n",
    "\n",
    "my_list.reverse()\n",
    "print(\"list after reversing the order--->\", my_list)"
   ]
  },
  {
   "cell_type": "code",
   "execution_count": 24,
   "id": "36701530",
   "metadata": {},
   "outputs": [
    {
     "name": "stdout",
     "output_type": "stream",
     "text": [
      "list before reversing the order---> [12, 27, 63, 89, 75]\n",
      "list after reversing the order---> [12, 27, 63, 89, 75]\n"
     ]
    }
   ],
   "source": [
    "my_list = [12,27,63,89,75]\n",
    "print(\"list before reversing the order--->\", my_list)\n",
    "\n",
    "my_list.reverse()\n",
    "print(\"list after reversing the order--->\", list(reversed(my_list)))"
   ]
  },
  {
   "cell_type": "code",
   "execution_count": 25,
   "id": "52153879",
   "metadata": {},
   "outputs": [
    {
     "data": {
      "text/plain": [
       "2"
      ]
     },
     "execution_count": 25,
     "metadata": {},
     "output_type": "execute_result"
    }
   ],
   "source": [
    "my_list = [11 , 2, 39, 4, 57, 39]\n",
    "my_list.index(39)  "
   ]
  },
  {
   "cell_type": "code",
   "execution_count": 26,
   "id": "70e8ecdd",
   "metadata": {},
   "outputs": [
    {
     "data": {
      "text/plain": [
       "3"
      ]
     },
     "execution_count": 26,
     "metadata": {},
     "output_type": "execute_result"
    }
   ],
   "source": [
    "my_list = [11, 2, 39, 4, 57, 39, 34, 39]\n",
    "my_list.count(39)"
   ]
  },
  {
   "cell_type": "code",
   "execution_count": 27,
   "id": "7f214864",
   "metadata": {},
   "outputs": [
    {
     "data": {
      "text/plain": [
       "0"
      ]
     },
     "execution_count": 27,
     "metadata": {},
     "output_type": "execute_result"
    }
   ],
   "source": [
    "my_list = [11, 2, 39, 4, 57, 39, 34, 39 ]\n",
    "my_list.count(9)"
   ]
  },
  {
   "cell_type": "code",
   "execution_count": 28,
   "id": "37bd7f43",
   "metadata": {},
   "outputs": [
    {
     "name": "stdout",
     "output_type": "stream",
     "text": [
      "Original list --->  [11, 2, 39, 4, 57, 39, 34, 39]\n",
      "List after clearning the elements--->  []\n"
     ]
    }
   ],
   "source": [
    "my_list = [11 , 2, 39, 4, 57, 39, 34, 39 ]\n",
    "print(\"Original list ---> \", my_list)\n",
    "\n",
    "my_list.clear()\n",
    "print(\"List after clearning the elements---> \", my_list)"
   ]
  },
  {
   "cell_type": "code",
   "execution_count": 29,
   "id": "ebd4d86e",
   "metadata": {},
   "outputs": [
    {
     "data": {
      "text/plain": [
       "[0, 1, 2]"
      ]
     },
     "execution_count": 29,
     "metadata": {},
     "output_type": "execute_result"
    }
   ],
   "source": [
    "list1= [i for i in range(3)]\n",
    "list1"
   ]
  },
  {
   "cell_type": "code",
   "execution_count": 31,
   "id": "53338e92",
   "metadata": {},
   "outputs": [
    {
     "data": {
      "text/plain": [
       "[0, 1, 4, 9, 16]"
      ]
     },
     "execution_count": 31,
     "metadata": {},
     "output_type": "execute_result"
    }
   ],
   "source": [
    "list2= [i*i for i in range(5)]\n",
    "list2"
   ]
  },
  {
   "cell_type": "code",
   "execution_count": 32,
   "id": "c6f89770",
   "metadata": {},
   "outputs": [
    {
     "data": {
      "text/plain": [
       "[1, 8, 27]"
      ]
     },
     "execution_count": 32,
     "metadata": {},
     "output_type": "execute_result"
    }
   ],
   "source": [
    "list3= [pow(i,3) for i in range(1,4)]\n",
    "list3"
   ]
  },
  {
   "cell_type": "code",
   "execution_count": 33,
   "id": "eb4eea36",
   "metadata": {},
   "outputs": [
    {
     "data": {
      "text/plain": [
       "[10, 20, 30]"
      ]
     },
     "execution_count": 33,
     "metadata": {},
     "output_type": "execute_result"
    }
   ],
   "source": [
    "L = [ 1, 2, 3]\n",
    "list4 = [i*10 for i in L]\n",
    "list4"
   ]
  },
  {
   "cell_type": "code",
   "execution_count": 34,
   "id": "4a4d8404",
   "metadata": {},
   "outputs": [
    {
     "name": "stdout",
     "output_type": "stream",
     "text": [
      "Please enter a sentense having more than three words\n",
      "Hello sir, How are you\n"
     ]
    }
   ],
   "source": [
    "sentence = input(\"Please enter a sentense having more than three words\\n\")\n"
   ]
  },
  {
   "cell_type": "code",
   "execution_count": 35,
   "id": "20079383",
   "metadata": {},
   "outputs": [
    {
     "data": {
      "text/plain": [
       "['Hello', 'sir,', 'How', 'are', 'you']"
      ]
     },
     "execution_count": 35,
     "metadata": {},
     "output_type": "execute_result"
    }
   ],
   "source": [
    "list_of_word = sentence.split()\n",
    "list_of_word"
   ]
  },
  {
   "cell_type": "code",
   "execution_count": 36,
   "id": "c94c91ba",
   "metadata": {},
   "outputs": [
    {
     "data": {
      "text/plain": [
       "['How']"
      ]
     },
     "execution_count": 36,
     "metadata": {},
     "output_type": "execute_result"
    }
   ],
   "source": [
    "list_of_word[2 : : 3]"
   ]
  },
  {
   "cell_type": "code",
   "execution_count": 37,
   "id": "536823d6",
   "metadata": {},
   "outputs": [
    {
     "name": "stdout",
     "output_type": "stream",
     "text": [
      "Please enter a sentense having more than three words\n",
      "please practice a lot for clearing you python concept\n",
      "Third word of sentence :  a\n",
      "please\n",
      "lot\n",
      "you\n"
     ]
    }
   ],
   "source": [
    "sentence = input(\"Please enter a sentense having more than three words\\n\")\n",
    "\n",
    "list_of_word = sentence.split()\n",
    "\n",
    "print('Third word of sentence : ', list_of_word[2])\n",
    "\n",
    "new_list = list_of_word[0: : 3]\n",
    "for i in new_list:\n",
    "        print(i)"
   ]
  },
  {
   "cell_type": "code",
   "execution_count": 38,
   "id": "37469ccd",
   "metadata": {},
   "outputs": [
    {
     "data": {
      "text/plain": [
       "['please', 'lot', 'you']"
      ]
     },
     "execution_count": 38,
     "metadata": {},
     "output_type": "execute_result"
    }
   ],
   "source": [
    "new_list"
   ]
  },
  {
   "cell_type": "code",
   "execution_count": 40,
   "id": "3aa07b33",
   "metadata": {},
   "outputs": [
    {
     "data": {
      "text/plain": [
       "['please', 'lot', 'you']"
      ]
     },
     "execution_count": 40,
     "metadata": {},
     "output_type": "execute_result"
    }
   ],
   "source": [
    "new_l1 = [i for i in new_list]\n",
    "new_l1"
   ]
  },
  {
   "cell_type": "code",
   "execution_count": 41,
   "id": "3cf19ab6",
   "metadata": {},
   "outputs": [
    {
     "name": "stdout",
     "output_type": "stream",
     "text": [
      "please\n",
      "lot\n",
      "you\n"
     ]
    }
   ],
   "source": [
    "for i in new_list:\n",
    "    print(i)"
   ]
  },
  {
   "cell_type": "code",
   "execution_count": 43,
   "id": "2c7fee99",
   "metadata": {},
   "outputs": [
    {
     "name": "stdout",
     "output_type": "stream",
     "text": [
      "\n",
      " A list consisting of the integers 0 through 49\n",
      "[0, 1, 2, 3, 4, 5, 6, 7, 8, 9, 10, 11, 12, 13, 14, 15, 16, 17, 18, 19, 20, 21, 22, 23, 24, 25, 26, 27, 28, 29, 30, 31, 32, 33, 34, 35, 36, 37, 38, 39, 40, 41, 42, 43, 44, 45, 46, 47, 48, 49]\n",
      "\n",
      " A list containing the squares of integers 1 through 50 \n",
      "[25, 49, 81, 121, 169, 225, 289, 361, 441, 529, 625, 729, 841, 961, 1089, 1225, 1369, 1521, 1681, 1849, 2025, 2209, 2401]\n",
      "\n",
      " The list  \n",
      "['aa', 'bb', 'cc', 'dd', 'ee', 'ff', 'gg', 'hh', 'ii', 'jj', 'kk', 'll', 'mm', 'nn', 'oo', 'pp', 'qq', 'rr', 'ss', 'tt', 'uu', 'vv', 'ww', 'xx', 'yy', 'zz']\n"
     ]
    }
   ],
   "source": [
    "print(\"\\n A list consisting of the integers 0 through 49\")\n",
    "L = [i for i in range(50)]\n",
    "print(L)\n",
    "\n",
    "print(\"\\n A list containing the squares of integers 1 through 50 \")\n",
    "L = [i*i for i in range(5,51,2)]\n",
    "print(L)\n",
    "\n",
    "string = 'abcdefghijklmnopqrstuvwxyz'\n",
    "print('\\n The list  ')\n",
    "L = [i * 2 for i in string ]\n",
    "print(L)\n"
   ]
  },
  {
   "cell_type": "code",
   "execution_count": null,
   "id": "62919efd",
   "metadata": {},
   "outputs": [],
   "source": []
  }
 ],
 "metadata": {
  "kernelspec": {
   "display_name": "Python 3 (ipykernel)",
   "language": "python",
   "name": "python3"
  },
  "language_info": {
   "codemirror_mode": {
    "name": "ipython",
    "version": 3
   },
   "file_extension": ".py",
   "mimetype": "text/x-python",
   "name": "python",
   "nbconvert_exporter": "python",
   "pygments_lexer": "ipython3",
   "version": "3.11.4"
  }
 },
 "nbformat": 4,
 "nbformat_minor": 5
}
