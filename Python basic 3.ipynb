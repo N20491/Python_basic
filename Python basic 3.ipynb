{
 "cells": [
  {
   "cell_type": "code",
   "execution_count": 1,
   "id": "f4e2df12",
   "metadata": {},
   "outputs": [],
   "source": [
    "list_items = [\"hello\",55,67.53,'a',45,\"anand\",\"India\",34.567,98,True,False] "
   ]
  },
  {
   "cell_type": "code",
   "execution_count": 2,
   "id": "5f617dcb",
   "metadata": {},
   "outputs": [
    {
     "data": {
      "text/plain": [
       "['hello', 55, 67.53, 'a', 45, 'anand', 'India', 34.567, 98, True, False]"
      ]
     },
     "execution_count": 2,
     "metadata": {},
     "output_type": "execute_result"
    }
   ],
   "source": [
    "list_items"
   ]
  },
  {
   "cell_type": "code",
   "execution_count": 3,
   "id": "5d801fab",
   "metadata": {},
   "outputs": [
    {
     "data": {
      "text/plain": [
       "['hello', 55, 'Data', 'a', 45, 'anand', 'India', 34.567, 98, True, False]"
      ]
     },
     "execution_count": 3,
     "metadata": {},
     "output_type": "execute_result"
    }
   ],
   "source": [
    "list_items[2] = \"Data\"\n",
    "list_items"
   ]
  },
  {
   "cell_type": "code",
   "execution_count": 4,
   "id": "b4ae6729",
   "metadata": {},
   "outputs": [
    {
     "data": {
      "text/plain": [
       "['hello', 55, 'Data', 'a', 45, 'anand', 'Full stack', 34.567, 98, True, False]"
      ]
     },
     "execution_count": 4,
     "metadata": {},
     "output_type": "execute_result"
    }
   ],
   "source": [
    "list_items[6] = \"Full stack\"\n",
    "list_items"
   ]
  },
  {
   "cell_type": "code",
   "execution_count": null,
   "id": "ea26dcd4",
   "metadata": {},
   "outputs": [],
   "source": []
  },
  {
   "cell_type": "markdown",
   "id": "701f0796",
   "metadata": {},
   "source": [
    "# Extend Function"
   ]
  },
  {
   "cell_type": "code",
   "execution_count": 5,
   "id": "38862581",
   "metadata": {},
   "outputs": [],
   "source": [
    "s = [1,2,3,4,5,6]"
   ]
  },
  {
   "cell_type": "code",
   "execution_count": 6,
   "id": "1ef1ffa5",
   "metadata": {},
   "outputs": [
    {
     "data": {
      "text/plain": [
       "[1, 2, 3, 4, 5, 6, [8, 6, 'a', 'b']]"
      ]
     },
     "execution_count": 6,
     "metadata": {},
     "output_type": "execute_result"
    }
   ],
   "source": [
    "s.append([8,6,\"a\",\"b\"])\n",
    "s"
   ]
  },
  {
   "cell_type": "code",
   "execution_count": 7,
   "id": "89702883",
   "metadata": {},
   "outputs": [],
   "source": [
    "s = [1,2,3,4,5,6]"
   ]
  },
  {
   "cell_type": "code",
   "execution_count": 8,
   "id": "6d9726d7",
   "metadata": {},
   "outputs": [
    {
     "data": {
      "text/plain": [
       "[1, 2, 3, 4, 5, 6, 8, 6, 'a', 'b']"
      ]
     },
     "execution_count": 8,
     "metadata": {},
     "output_type": "execute_result"
    }
   ],
   "source": [
    "s.extend([8,6,\"a\",\"b\"])\n",
    "s"
   ]
  },
  {
   "cell_type": "code",
   "execution_count": 11,
   "id": "09f49bfc",
   "metadata": {},
   "outputs": [
    {
     "ename": "TypeError",
     "evalue": "'int' object is not iterable",
     "output_type": "error",
     "traceback": [
      "\u001b[1;31m---------------------------------------------------------------------------\u001b[0m",
      "\u001b[1;31mTypeError\u001b[0m                                 Traceback (most recent call last)",
      "Cell \u001b[1;32mIn[11], line 1\u001b[0m\n\u001b[1;32m----> 1\u001b[0m s\u001b[38;5;241m.\u001b[39mextend(\u001b[38;5;241m100\u001b[39m)\n",
      "\u001b[1;31mTypeError\u001b[0m: 'int' object is not iterable"
     ]
    }
   ],
   "source": [
    "s.extend(100)"
   ]
  },
  {
   "cell_type": "code",
   "execution_count": 12,
   "id": "b24ac030",
   "metadata": {},
   "outputs": [
    {
     "data": {
      "text/plain": [
       "[1, 2, 3, 4, 5, 6, 8, 6, 'a', 'b']"
      ]
     },
     "execution_count": 12,
     "metadata": {},
     "output_type": "execute_result"
    }
   ],
   "source": [
    "s"
   ]
  },
  {
   "cell_type": "code",
   "execution_count": 13,
   "id": "fd822d10",
   "metadata": {},
   "outputs": [],
   "source": [
    "s.extend([100])"
   ]
  },
  {
   "cell_type": "code",
   "execution_count": 14,
   "id": "a16e9c22",
   "metadata": {},
   "outputs": [
    {
     "data": {
      "text/plain": [
       "[1, 2, 3, 4, 5, 6, 8, 6, 'a', 'b', 100]"
      ]
     },
     "execution_count": 14,
     "metadata": {},
     "output_type": "execute_result"
    }
   ],
   "source": [
    "s"
   ]
  },
  {
   "cell_type": "markdown",
   "id": "5b27d227",
   "metadata": {},
   "source": [
    "# Index Function"
   ]
  },
  {
   "cell_type": "code",
   "execution_count": 16,
   "id": "e8d46570",
   "metadata": {},
   "outputs": [
    {
     "data": {
      "text/plain": [
       "[1, 2, 3, 4, 5, 6, 8, 6, 'a', 'b', 100]"
      ]
     },
     "execution_count": 16,
     "metadata": {},
     "output_type": "execute_result"
    }
   ],
   "source": [
    "s"
   ]
  },
  {
   "cell_type": "code",
   "execution_count": 18,
   "id": "c41649b3",
   "metadata": {},
   "outputs": [
    {
     "data": {
      "text/plain": [
       "4"
      ]
     },
     "execution_count": 18,
     "metadata": {},
     "output_type": "execute_result"
    }
   ],
   "source": [
    "s.index(5)"
   ]
  },
  {
   "cell_type": "code",
   "execution_count": 19,
   "id": "f8565599",
   "metadata": {},
   "outputs": [
    {
     "data": {
      "text/plain": [
       "6"
      ]
     },
     "execution_count": 19,
     "metadata": {},
     "output_type": "execute_result"
    }
   ],
   "source": [
    "s.index(8)"
   ]
  },
  {
   "cell_type": "code",
   "execution_count": 20,
   "id": "f0541ac2",
   "metadata": {},
   "outputs": [
    {
     "data": {
      "text/plain": [
       "10"
      ]
     },
     "execution_count": 20,
     "metadata": {},
     "output_type": "execute_result"
    }
   ],
   "source": [
    "s.index(100)"
   ]
  },
  {
   "cell_type": "code",
   "execution_count": 21,
   "id": "e70077d4",
   "metadata": {},
   "outputs": [
    {
     "data": {
      "text/plain": [
       "8"
      ]
     },
     "execution_count": 21,
     "metadata": {},
     "output_type": "execute_result"
    }
   ],
   "source": [
    "s.index('a')"
   ]
  },
  {
   "cell_type": "markdown",
   "id": "41fbc7f4",
   "metadata": {},
   "source": [
    "# Reverse Function"
   ]
  },
  {
   "cell_type": "code",
   "execution_count": 22,
   "id": "b9c98dda",
   "metadata": {},
   "outputs": [
    {
     "data": {
      "text/plain": [
       "['hello', 55, 'Data', 'a', 45, 'anand', 'Full stack', 34.567, 98, True, False]"
      ]
     },
     "execution_count": 22,
     "metadata": {},
     "output_type": "execute_result"
    }
   ],
   "source": [
    "list_items"
   ]
  },
  {
   "cell_type": "code",
   "execution_count": 24,
   "id": "609afd5e",
   "metadata": {},
   "outputs": [
    {
     "data": {
      "text/plain": [
       "[False, True, 98, 34.567, 'Full stack', 'anand', 45, 'a', 'Data', 55, 'hello']"
      ]
     },
     "execution_count": 24,
     "metadata": {},
     "output_type": "execute_result"
    }
   ],
   "source": [
    "list_items_rev = list_items[ : :-1]\n",
    "list_items_rev"
   ]
  },
  {
   "cell_type": "code",
   "execution_count": 26,
   "id": "e7dc6389",
   "metadata": {},
   "outputs": [
    {
     "data": {
      "text/plain": [
       "['hello', 55, 'Data', 'a', 45, 'anand', 'Full stack', 34.567, 98, True, False]"
      ]
     },
     "execution_count": 26,
     "metadata": {},
     "output_type": "execute_result"
    }
   ],
   "source": [
    "list_items.reverse()\n",
    "list_items"
   ]
  },
  {
   "cell_type": "markdown",
   "id": "78bd42a6",
   "metadata": {},
   "source": [
    "# Sort Function"
   ]
  },
  {
   "cell_type": "code",
   "execution_count": 1,
   "id": "e9fbcf31",
   "metadata": {},
   "outputs": [],
   "source": [
    "list_items2 = [\"anand\",\"anil\",\"yash\",\"Anushka\"]"
   ]
  },
  {
   "cell_type": "code",
   "execution_count": 2,
   "id": "7f44ff17",
   "metadata": {},
   "outputs": [
    {
     "data": {
      "text/plain": [
       "['Anushka', 'anand', 'anil', 'yash']"
      ]
     },
     "execution_count": 2,
     "metadata": {},
     "output_type": "execute_result"
    }
   ],
   "source": [
    "list_items2.sort()\n",
    "list_items2"
   ]
  },
  {
   "cell_type": "code",
   "execution_count": 3,
   "id": "cf26e3fd",
   "metadata": {},
   "outputs": [],
   "source": [
    "list3 = [\"mayuri\", \"jasmine\", \"aarti\", \"nikita\"]"
   ]
  },
  {
   "cell_type": "code",
   "execution_count": 4,
   "id": "677225de",
   "metadata": {},
   "outputs": [
    {
     "data": {
      "text/plain": [
       "['aarti', 'jasmine', 'mayuri', 'nikita']"
      ]
     },
     "execution_count": 4,
     "metadata": {},
     "output_type": "execute_result"
    }
   ],
   "source": [
    "list3.sort()\n",
    "list3"
   ]
  },
  {
   "cell_type": "code",
   "execution_count": 5,
   "id": "13bc19ef",
   "metadata": {},
   "outputs": [
    {
     "name": "stdout",
     "output_type": "stream",
     "text": [
      "None\n"
     ]
    }
   ],
   "source": [
    "sorted_items_dsc = list3.sort(reverse = True)\n",
    "print(sorted_items_dsc)"
   ]
  },
  {
   "cell_type": "code",
   "execution_count": 6,
   "id": "1c869a3d",
   "metadata": {},
   "outputs": [
    {
     "name": "stdout",
     "output_type": "stream",
     "text": [
      "['nikita', 'mayuri', 'jasmine', 'aarti']\n"
     ]
    }
   ],
   "source": [
    "list3.sort(reverse = True)\n",
    "print(list3)"
   ]
  },
  {
   "cell_type": "code",
   "execution_count": 8,
   "id": "fea570a8",
   "metadata": {},
   "outputs": [
    {
     "data": {
      "text/plain": [
       "['nikita', 'mayuri', 'jasmine', 'aarti']"
      ]
     },
     "execution_count": 8,
     "metadata": {},
     "output_type": "execute_result"
    }
   ],
   "source": [
    "list3.copy()"
   ]
  },
  {
   "cell_type": "code",
   "execution_count": 9,
   "id": "53525bc2",
   "metadata": {},
   "outputs": [],
   "source": [
    "list_items_numbers = [34,5,2,87,12,11,98,22]"
   ]
  },
  {
   "cell_type": "code",
   "execution_count": 10,
   "id": "1e9c688d",
   "metadata": {},
   "outputs": [
    {
     "data": {
      "text/plain": [
       "[2, 5, 11, 12, 22, 34, 87, 98]"
      ]
     },
     "execution_count": 10,
     "metadata": {},
     "output_type": "execute_result"
    }
   ],
   "source": [
    "sorted(list_items_numbers)"
   ]
  },
  {
   "cell_type": "code",
   "execution_count": 11,
   "id": "e0c95cbb",
   "metadata": {},
   "outputs": [
    {
     "data": {
      "text/plain": [
       "[98, 87, 34, 22, 12, 11, 5, 2]"
      ]
     },
     "execution_count": 11,
     "metadata": {},
     "output_type": "execute_result"
    }
   ],
   "source": [
    "sorted(list_items_numbers, reverse = True)"
   ]
  },
  {
   "cell_type": "code",
   "execution_count": 14,
   "id": "8022a16e",
   "metadata": {},
   "outputs": [],
   "source": [
    "list4 = [2,3,5,7,9,11,13,17,19,21]"
   ]
  },
  {
   "cell_type": "code",
   "execution_count": 15,
   "id": "c1384284",
   "metadata": {},
   "outputs": [
    {
     "data": {
      "text/plain": [
       "9"
      ]
     },
     "execution_count": 15,
     "metadata": {},
     "output_type": "execute_result"
    }
   ],
   "source": [
    "list4.pop(4)"
   ]
  },
  {
   "cell_type": "code",
   "execution_count": 16,
   "id": "91609504",
   "metadata": {},
   "outputs": [
    {
     "name": "stdout",
     "output_type": "stream",
     "text": [
      "[2, 3, 5, 7, 11, 13, 17, 19, 21]\n"
     ]
    }
   ],
   "source": [
    "print(list4)"
   ]
  },
  {
   "cell_type": "code",
   "execution_count": null,
   "id": "e7c9479f",
   "metadata": {},
   "outputs": [],
   "source": []
  },
  {
   "cell_type": "code",
   "execution_count": 17,
   "id": "7df053d5",
   "metadata": {},
   "outputs": [
    {
     "name": "stdout",
     "output_type": "stream",
     "text": [
      "What is your name?  Nikita\n"
     ]
    }
   ],
   "source": [
    "a = input(\"What is your name?  \")"
   ]
  },
  {
   "cell_type": "code",
   "execution_count": 18,
   "id": "ef93964f",
   "metadata": {},
   "outputs": [
    {
     "name": "stdout",
     "output_type": "stream",
     "text": [
      "Enter First number  56\n",
      "Enter Second number  86\n"
     ]
    }
   ],
   "source": [
    "num1= int(input(\"Enter First number  \"))\n",
    "num2 = int(input(\"Enter Second number  \"))"
   ]
  },
  {
   "cell_type": "code",
   "execution_count": 19,
   "id": "fb5e72f4",
   "metadata": {},
   "outputs": [
    {
     "name": "stdout",
     "output_type": "stream",
     "text": [
      "Enter your name  Nikita\n",
      "Welcome Nikita\n"
     ]
    }
   ],
   "source": [
    "Name = input(\"Enter your name  \")\n",
    "print(\"Welcome\", Name)"
   ]
  },
  {
   "cell_type": "code",
   "execution_count": 21,
   "id": "ad197311",
   "metadata": {},
   "outputs": [
    {
     "name": "stdout",
     "output_type": "stream",
     "text": [
      "What is your age? 25\n",
      "You have entered age as  25\n",
      "Type :  <class 'str'>\n"
     ]
    }
   ],
   "source": [
    "age = input(\"What is your age? \")\n",
    "print(\"You have entered age as \", age)\n",
    "print(\"Type : \", type(age))"
   ]
  },
  {
   "cell_type": "code",
   "execution_count": 24,
   "id": "6f3e4d04",
   "metadata": {},
   "outputs": [
    {
     "name": "stdout",
     "output_type": "stream",
     "text": [
      "What is your salary?25000\n",
      "You have entered salary as 25000.0\n",
      "Type :  <class 'float'>\n"
     ]
    }
   ],
   "source": [
    "salary = input(\"What is your salary?\")\n",
    "modified_salary = float(salary)\n",
    "print(\"You have entered salary as\", modified_salary)\n",
    "print(\"Type : \", type(modified_salary))"
   ]
  },
  {
   "cell_type": "code",
   "execution_count": 25,
   "id": "18679e38",
   "metadata": {},
   "outputs": [
    {
     "name": "stdout",
     "output_type": "stream",
     "text": [
      "What is your age? \n",
      "25\n",
      "You have entered age as \n",
      " 25\n",
      "Type : <class 'int'>\n"
     ]
    }
   ],
   "source": [
    "my_age = eval(input(\"What is your age? \\n\"))\n",
    "print(\"You have entered age as \\n\", my_age)\n",
    "print(\"Type :\",  type(my_age))"
   ]
  },
  {
   "cell_type": "code",
   "execution_count": 2,
   "id": "aa0d07a5",
   "metadata": {},
   "outputs": [
    {
     "name": "stdout",
     "output_type": "stream",
     "text": [
      "What is your salary?\n",
      "\"salary\"\n",
      "You have entered salary as \n",
      " salary\n",
      "Type :  <class 'str'>\n"
     ]
    }
   ],
   "source": [
    "my_salary = eval(input('What is your salary?\\n'))\n",
    "print(\"You have entered salary as \\n\", my_salary)\n",
    "print(\"Type : \" , type(my_salary))"
   ]
  },
  {
   "cell_type": "code",
   "execution_count": 6,
   "id": "933dc791",
   "metadata": {},
   "outputs": [
    {
     "name": "stdout",
     "output_type": "stream",
     "text": [
      "Enter your marks \n",
      "55+56+75+86+68\n",
      "You have entered total marrks as  340\n"
     ]
    }
   ],
   "source": [
    "my_total_marks = eval(input(\"Enter your marks \\n\"))\n",
    "print(\"You have entered total marrks as \", my_total_marks)"
   ]
  },
  {
   "cell_type": "code",
   "execution_count": 7,
   "id": "c8e4f0cb",
   "metadata": {},
   "outputs": [
    {
     "name": "stdout",
     "output_type": "stream",
     "text": [
      "Enter the number : 20\n",
      "Square of  20  is :  400\n",
      "Cube of 20 is :  8000\n"
     ]
    }
   ],
   "source": [
    "ask_num = eval(input(\"Enter the number : \"))\n",
    "sq_num = ask_num * ask_num\n",
    "cub_num = pow(ask_num, 3)\n",
    "\n",
    "print('Square of ', str(ask_num) , ' is : ' , str(sq_num))\n",
    "print('Cube of ' + str(ask_num) + ' is : ' , str(cub_num))\n"
   ]
  },
  {
   "cell_type": "code",
   "execution_count": 9,
   "id": "2f2d1a24",
   "metadata": {},
   "outputs": [
    {
     "name": "stdout",
     "output_type": "stream",
     "text": [
      "Enter first number :  10\n",
      "enter second number :  20\n",
      "Enter third number:  30\n",
      "Numbers entered are : 10 20 30 and their totals are : 60 and avg is : 20.0 and their multiplication : 6000\n"
     ]
    }
   ],
   "source": [
    "num1= eval(input(\"Enter first number :  \"))\n",
    "num2= eval(input(\"enter second number :  \"))\n",
    "num3= eval(input(\"Enter third number:  \"))\n",
    "multi= num1 * num2 * num3\n",
    "total= num1 + num2 + num3\n",
    "avg= total/3\n",
    "\n",
    "print(\"Numbers entered are : \" + str(num1) + \" \" +str(num2) + \" \" + str(num3) + \n",
    "      \" and their totals are : \" + str(total) + \" and avg is : \" + str(avg) +\n",
    "     \" and their multiplication : \" + str(multi))"
   ]
  },
  {
   "cell_type": "code",
   "execution_count": 11,
   "id": "4a001155",
   "metadata": {},
   "outputs": [
    {
     "name": "stdout",
     "output_type": "stream",
     "text": [
      "Enter basic salary :  10000\n",
      "HRA component  :   1000.0\n",
      "Conveyance allowance  :  3500\n",
      "Total salary  :  14500.0\n"
     ]
    }
   ],
   "source": [
    "basic_salary= eval(input(\"Enter basic salary :  \"))\n",
    "\n",
    "hra= 0.1 * basic_salary\n",
    "\n",
    "conv_allowance= 3500\n",
    "\n",
    "total_salary= basic_salary + hra + conv_allowance\n",
    "\n",
    "print(\"HRA component  :  \", str(hra))\n",
    "print(\"Conveyance allowance  : \", str(conv_allowance))\n",
    "print(\"Total salary  : \", str(total_salary))"
   ]
  },
  {
   "cell_type": "code",
   "execution_count": null,
   "id": "9417ac1f",
   "metadata": {},
   "outputs": [],
   "source": []
  }
 ],
 "metadata": {
  "kernelspec": {
   "display_name": "Python 3 (ipykernel)",
   "language": "python",
   "name": "python3"
  },
  "language_info": {
   "codemirror_mode": {
    "name": "ipython",
    "version": 3
   },
   "file_extension": ".py",
   "mimetype": "text/x-python",
   "name": "python",
   "nbconvert_exporter": "python",
   "pygments_lexer": "ipython3",
   "version": "3.11.4"
  }
 },
 "nbformat": 4,
 "nbformat_minor": 5
}
