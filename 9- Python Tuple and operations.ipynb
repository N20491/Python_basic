{
 "cells": [
  {
   "cell_type": "code",
   "execution_count": 47,
   "id": "247b1a2e",
   "metadata": {},
   "outputs": [
    {
     "name": "stdout",
     "output_type": "stream",
     "text": [
      "\n",
      " my_tuple 1---- ()                                 Type----- <class 'tuple'>\n",
      "\n",
      " my_tuple 2---- (1, 2, 3)                          Type----- <class 'tuple'>\n",
      "\n",
      " my_tuple 3---- (1, 'Hello', 3.4)                   Type----- <class 'tuple'>\n",
      "\n",
      " my_tuple 4---- ('mouse', [8, 4, 6], (1, 2, 3))      Type----- <class 'tuple'>\n",
      "\n",
      " my_tuple 5---- (1, 'Hello', 3.4)                   Type----- <class 'tuple'>\n",
      "\n",
      " my_tuple 6---- Hello                            Type----- <class 'str'>\n",
      "\n",
      " my_tuple 7---- ('Hello',)                       Type----- <class 'tuple'>\n"
     ]
    }
   ],
   "source": [
    "# Different types of tuples\n",
    "\n",
    "my_tuple = ()   # Empty tuple\n",
    "print(\"\\n my_tuple 1----\",my_tuple, \"                               \",\"Type-----\",type(my_tuple))\n",
    "\n",
    "\n",
    "my_tuple = (1, 2, 3)  # Tuple having integers \n",
    "print(\"\\n my_tuple 2----\",my_tuple, \"                        \",\"Type-----\",type(my_tuple))\n",
    "\n",
    "\n",
    "my_tuple = (1, \"Hello\", 3.4)    # tuple with mixed datatypes\n",
    "print(\"\\n my_tuple 3----\",my_tuple, \"                 \",\"Type-----\",type(my_tuple))\n",
    "\n",
    "\n",
    "my_tuple = (\"mouse\", [8, 4, 6], (1, 2, 3))   # nested tuple\n",
    "print(\"\\n my_tuple 4----\",my_tuple, \"    \",\"Type-----\",type(my_tuple))\n",
    "\n",
    "\n",
    "my_tuple = 1, \"Hello\", 3.4\n",
    "print(\"\\n my_tuple 5----\",my_tuple, \"                 \",\"Type-----\",type(my_tuple))\n",
    "\n",
    "\n",
    "my_tuple = (\"Hello\")\n",
    "print(\"\\n my_tuple 6----\",my_tuple, \"                          \",\"Type-----\",type(my_tuple))\n",
    " \n",
    "\n",
    "my_tuple = (\"Hello\",)\n",
    "print(\"\\n my_tuple 7----\",my_tuple, \"                     \",\"Type-----\",type(my_tuple))\n"
   ]
  },
  {
   "cell_type": "code",
   "execution_count": 26,
   "id": "2293fa45",
   "metadata": {},
   "outputs": [
    {
     "data": {
      "text/plain": [
       "('a', 1, 1.1, True)"
      ]
     },
     "execution_count": 26,
     "metadata": {},
     "output_type": "execute_result"
    }
   ],
   "source": [
    "my_mixed_tuple = ('a', 1, 1.1, True)\n",
    "my_mixed_tuple"
   ]
  },
  {
   "cell_type": "code",
   "execution_count": 27,
   "id": "ddec7dcd",
   "metadata": {},
   "outputs": [
    {
     "data": {
      "text/plain": [
       "4"
      ]
     },
     "execution_count": 27,
     "metadata": {},
     "output_type": "execute_result"
    }
   ],
   "source": [
    "len(my_mixed_tuple)"
   ]
  },
  {
   "cell_type": "code",
   "execution_count": 28,
   "id": "3535178c",
   "metadata": {},
   "outputs": [
    {
     "data": {
      "text/plain": [
       "str"
      ]
     },
     "execution_count": 28,
     "metadata": {},
     "output_type": "execute_result"
    }
   ],
   "source": [
    "type(my_mixed_tuple[0])"
   ]
  },
  {
   "cell_type": "code",
   "execution_count": 29,
   "id": "c9a5555e",
   "metadata": {},
   "outputs": [
    {
     "data": {
      "text/plain": [
       "bool"
      ]
     },
     "execution_count": 29,
     "metadata": {},
     "output_type": "execute_result"
    }
   ],
   "source": [
    "type(my_mixed_tuple[3])"
   ]
  },
  {
   "cell_type": "code",
   "execution_count": 31,
   "id": "88d5ca89",
   "metadata": {},
   "outputs": [
    {
     "name": "stdout",
     "output_type": "stream",
     "text": [
      "\n",
      "First Element---- a                Type of Element----- <class 'str'>\n",
      "\n",
      "Second Element--- 1                Type of Element----- <class 'int'>\n",
      "\n",
      "Third Element---- 1.1                Type of Element----- <class 'float'>\n",
      "\n",
      "Fourth Element---- True               Type of Element----- <class 'bool'>\n"
     ]
    }
   ],
   "source": [
    "print(\"\\nFirst Element----\",my_mixed_tuple[0],\"              \",\"Type of Element-----\",type(my_mixed_tuple[0]))\n",
    "\n",
    "print(\"\\nSecond Element---\",my_mixed_tuple[1],\"              \",\"Type of Element-----\",type(my_mixed_tuple[1]))\n",
    "\n",
    "print(\"\\nThird Element----\",my_mixed_tuple[2],\"              \",\"Type of Element-----\",type(my_mixed_tuple[2]))\n",
    "\n",
    "print(\"\\nFourth Element----\",my_mixed_tuple[3],\"             \",\"Type of Element-----\",type(my_mixed_tuple[3]))"
   ]
  },
  {
   "cell_type": "code",
   "execution_count": 32,
   "id": "39eefd0f",
   "metadata": {},
   "outputs": [
    {
     "name": "stdout",
     "output_type": "stream",
     "text": [
      "\n",
      " Last Element---- True\n",
      "\n",
      " Second last element----- 1.1\n",
      "\n",
      " Third last Element------ 1\n",
      "\n",
      " Fourth last element----- a\n"
     ]
    }
   ],
   "source": [
    "print(\"\\n Last Element----\", my_mixed_tuple[-1])\n",
    "\n",
    "print(\"\\n Second last element-----\",my_mixed_tuple[-2])\n",
    "\n",
    "print(\"\\n Third last Element------\",my_mixed_tuple[-3])\n",
    "\n",
    "print(\"\\n Fourth last element-----\",my_mixed_tuple[-4])"
   ]
  },
  {
   "cell_type": "code",
   "execution_count": 33,
   "id": "d399c1e2",
   "metadata": {},
   "outputs": [
    {
     "data": {
      "text/plain": [
       "('a', 1)"
      ]
     },
     "execution_count": 33,
     "metadata": {},
     "output_type": "execute_result"
    }
   ],
   "source": [
    "my_mixed_tuple[0:2]"
   ]
  },
  {
   "cell_type": "code",
   "execution_count": 34,
   "id": "4ba22185",
   "metadata": {},
   "outputs": [
    {
     "data": {
      "text/plain": [
       "(1, 1.1)"
      ]
     },
     "execution_count": 34,
     "metadata": {},
     "output_type": "execute_result"
    }
   ],
   "source": [
    "my_mixed_tuple[1:3]"
   ]
  },
  {
   "cell_type": "code",
   "execution_count": 35,
   "id": "fccb40bb",
   "metadata": {},
   "outputs": [
    {
     "data": {
      "text/plain": [
       "('a', 1, 1.1)"
      ]
     },
     "execution_count": 35,
     "metadata": {},
     "output_type": "execute_result"
    }
   ],
   "source": [
    "my_mixed_tuple[ :3]"
   ]
  },
  {
   "cell_type": "code",
   "execution_count": 36,
   "id": "8730af25",
   "metadata": {},
   "outputs": [
    {
     "data": {
      "text/plain": [
       "(1, 1.1, True)"
      ]
     },
     "execution_count": 36,
     "metadata": {},
     "output_type": "execute_result"
    }
   ],
   "source": [
    "my_mixed_tuple[1:]"
   ]
  },
  {
   "cell_type": "code",
   "execution_count": 38,
   "id": "3d3becc9",
   "metadata": {},
   "outputs": [
    {
     "data": {
      "text/plain": [
       "('a', 1.1)"
      ]
     },
     "execution_count": 38,
     "metadata": {},
     "output_type": "execute_result"
    }
   ],
   "source": [
    "my_mixed_tuple[ : :2]"
   ]
  },
  {
   "cell_type": "code",
   "execution_count": 39,
   "id": "9335c013",
   "metadata": {},
   "outputs": [
    {
     "data": {
      "text/plain": [
       "('a', True)"
      ]
     },
     "execution_count": 39,
     "metadata": {},
     "output_type": "execute_result"
    }
   ],
   "source": [
    "my_mixed_tuple[ : :3]"
   ]
  },
  {
   "cell_type": "code",
   "execution_count": 40,
   "id": "8c0b0bf5",
   "metadata": {},
   "outputs": [
    {
     "data": {
      "text/plain": [
       "('a', 1, 1.1)"
      ]
     },
     "execution_count": 40,
     "metadata": {},
     "output_type": "execute_result"
    }
   ],
   "source": [
    "my_mixed_tuple[ : -1]"
   ]
  },
  {
   "cell_type": "code",
   "execution_count": 41,
   "id": "d01eced2",
   "metadata": {},
   "outputs": [
    {
     "data": {
      "text/plain": [
       "(True, 1.1, 1, 'a')"
      ]
     },
     "execution_count": 41,
     "metadata": {},
     "output_type": "execute_result"
    }
   ],
   "source": [
    "my_mixed_tuple[  : :-1]"
   ]
  },
  {
   "cell_type": "code",
   "execution_count": 42,
   "id": "0dbab49f",
   "metadata": {},
   "outputs": [
    {
     "data": {
      "text/plain": [
       "(True, 1)"
      ]
     },
     "execution_count": 42,
     "metadata": {},
     "output_type": "execute_result"
    }
   ],
   "source": [
    "my_mixed_tuple[  :  :-2]"
   ]
  },
  {
   "cell_type": "code",
   "execution_count": 43,
   "id": "b7ced1c2",
   "metadata": {},
   "outputs": [
    {
     "data": {
      "text/plain": [
       "('1', '2', '3', '4', '5', '6')"
      ]
     },
     "execution_count": 43,
     "metadata": {},
     "output_type": "execute_result"
    }
   ],
   "source": [
    "tuple1 = ('1', '2', '3', '4')\n",
    "tuple2 = ('5', '6')\n",
    "new_tuple = tuple1 + tuple2  # concat two tuples using + \n",
    "new_tuple"
   ]
  },
  {
   "cell_type": "code",
   "execution_count": 44,
   "id": "90d0b04b",
   "metadata": {},
   "outputs": [
    {
     "data": {
      "text/plain": [
       "('1', '2', '3', '4', 'a', 'b')"
      ]
     },
     "execution_count": 44,
     "metadata": {},
     "output_type": "execute_result"
    }
   ],
   "source": [
    "tuple1 = ('1', '2', '3', '4')\n",
    "tuple2 = ('a', 'b')\n",
    "new_tuple = tuple1 + tuple2  # concat two tuples using + \n",
    "new_tuple"
   ]
  },
  {
   "cell_type": "code",
   "execution_count": 45,
   "id": "ed4cc8f3",
   "metadata": {},
   "outputs": [
    {
     "data": {
      "text/plain": [
       "('1', '2', '3', '4', '5', '6')"
      ]
     },
     "execution_count": 45,
     "metadata": {},
     "output_type": "execute_result"
    }
   ],
   "source": [
    "tuple1 = ('1', '2', '3', '4')\n",
    "new_tuple = tuple1 + ('5', '6')  # concat two tuples using + \n",
    "new_tuple"
   ]
  },
  {
   "cell_type": "code",
   "execution_count": 48,
   "id": "fb847e0b",
   "metadata": {},
   "outputs": [
    {
     "data": {
      "text/plain": [
       "(1, 2, 3, 1, 2, 3, 1, 2, 3)"
      ]
     },
     "execution_count": 48,
     "metadata": {},
     "output_type": "execute_result"
    }
   ],
   "source": [
    "(1,2,3 )* 3"
   ]
  },
  {
   "cell_type": "code",
   "execution_count": 49,
   "id": "5f5ff9d7",
   "metadata": {},
   "outputs": [],
   "source": [
    "my_tuple = ('a', 'b', 'c', 'd', 'e')"
   ]
  },
  {
   "cell_type": "code",
   "execution_count": 50,
   "id": "31ffd31e",
   "metadata": {},
   "outputs": [
    {
     "ename": "TypeError",
     "evalue": "'tuple' object does not support item assignment",
     "output_type": "error",
     "traceback": [
      "\u001b[1;31m---------------------------------------------------------------------------\u001b[0m",
      "\u001b[1;31mTypeError\u001b[0m                                 Traceback (most recent call last)",
      "Cell \u001b[1;32mIn[50], line 1\u001b[0m\n\u001b[1;32m----> 1\u001b[0m my_tuple[\u001b[38;5;241m0\u001b[39m] \u001b[38;5;241m=\u001b[39m \u001b[38;5;124m'\u001b[39m\u001b[38;5;124mp\u001b[39m\u001b[38;5;124m'\u001b[39m\n",
      "\u001b[1;31mTypeError\u001b[0m: 'tuple' object does not support item assignment"
     ]
    }
   ],
   "source": [
    "my_tuple[0] = 'p'"
   ]
  },
  {
   "cell_type": "code",
   "execution_count": 51,
   "id": "9f9de90c",
   "metadata": {},
   "outputs": [
    {
     "ename": "AttributeError",
     "evalue": "'tuple' object has no attribute 'append'",
     "output_type": "error",
     "traceback": [
      "\u001b[1;31m---------------------------------------------------------------------------\u001b[0m",
      "\u001b[1;31mAttributeError\u001b[0m                            Traceback (most recent call last)",
      "Cell \u001b[1;32mIn[51], line 1\u001b[0m\n\u001b[1;32m----> 1\u001b[0m my_tuple\u001b[38;5;241m.\u001b[39mappend(\u001b[38;5;124m'\u001b[39m\u001b[38;5;124mg\u001b[39m\u001b[38;5;124m'\u001b[39m)\n",
      "\u001b[1;31mAttributeError\u001b[0m: 'tuple' object has no attribute 'append'"
     ]
    }
   ],
   "source": [
    "my_tuple.append('g')"
   ]
  },
  {
   "cell_type": "code",
   "execution_count": 52,
   "id": "1c6a270f",
   "metadata": {},
   "outputs": [],
   "source": [
    "my_tuple = ('a', 'b', 'c', 'c', 'e')"
   ]
  },
  {
   "cell_type": "code",
   "execution_count": 54,
   "id": "bc3562f5",
   "metadata": {},
   "outputs": [
    {
     "data": {
      "text/plain": [
       "2"
      ]
     },
     "execution_count": 54,
     "metadata": {},
     "output_type": "execute_result"
    }
   ],
   "source": [
    "my_tuple.index('c')"
   ]
  },
  {
   "cell_type": "code",
   "execution_count": 55,
   "id": "87350f36",
   "metadata": {},
   "outputs": [
    {
     "data": {
      "text/plain": [
       "4"
      ]
     },
     "execution_count": 55,
     "metadata": {},
     "output_type": "execute_result"
    }
   ],
   "source": [
    "my_tuple.index('e')"
   ]
  },
  {
   "cell_type": "code",
   "execution_count": 56,
   "id": "6293f2af",
   "metadata": {},
   "outputs": [
    {
     "data": {
      "text/plain": [
       "1"
      ]
     },
     "execution_count": 56,
     "metadata": {},
     "output_type": "execute_result"
    }
   ],
   "source": [
    "my_tuple.index('b')"
   ]
  },
  {
   "cell_type": "code",
   "execution_count": 57,
   "id": "1e2e970c",
   "metadata": {},
   "outputs": [
    {
     "ename": "ValueError",
     "evalue": "tuple.index(x): x not in tuple",
     "output_type": "error",
     "traceback": [
      "\u001b[1;31m---------------------------------------------------------------------------\u001b[0m",
      "\u001b[1;31mValueError\u001b[0m                                Traceback (most recent call last)",
      "Cell \u001b[1;32mIn[57], line 1\u001b[0m\n\u001b[1;32m----> 1\u001b[0m my_tuple\u001b[38;5;241m.\u001b[39mindex(\u001b[38;5;124m'\u001b[39m\u001b[38;5;124mv\u001b[39m\u001b[38;5;124m'\u001b[39m)\n",
      "\u001b[1;31mValueError\u001b[0m: tuple.index(x): x not in tuple"
     ]
    }
   ],
   "source": [
    "my_tuple.index('v')"
   ]
  },
  {
   "cell_type": "code",
   "execution_count": 58,
   "id": "53152638",
   "metadata": {},
   "outputs": [
    {
     "data": {
      "text/plain": [
       "2"
      ]
     },
     "execution_count": 58,
     "metadata": {},
     "output_type": "execute_result"
    }
   ],
   "source": [
    "my_tuple.count('c')"
   ]
  },
  {
   "cell_type": "code",
   "execution_count": 59,
   "id": "77221d61",
   "metadata": {},
   "outputs": [
    {
     "data": {
      "text/plain": [
       "1"
      ]
     },
     "execution_count": 59,
     "metadata": {},
     "output_type": "execute_result"
    }
   ],
   "source": [
    "my_tuple.count('a')"
   ]
  },
  {
   "cell_type": "code",
   "execution_count": 60,
   "id": "4a5a4983",
   "metadata": {},
   "outputs": [
    {
     "data": {
      "text/plain": [
       "1"
      ]
     },
     "execution_count": 60,
     "metadata": {},
     "output_type": "execute_result"
    }
   ],
   "source": [
    "my_tuple.count('e')"
   ]
  },
  {
   "cell_type": "code",
   "execution_count": 61,
   "id": "cd4cb371",
   "metadata": {},
   "outputs": [
    {
     "data": {
      "text/plain": [
       "0"
      ]
     },
     "execution_count": 61,
     "metadata": {},
     "output_type": "execute_result"
    }
   ],
   "source": [
    "my_tuple.count('n')"
   ]
  },
  {
   "cell_type": "code",
   "execution_count": 62,
   "id": "ff9213c3",
   "metadata": {},
   "outputs": [
    {
     "data": {
      "text/plain": [
       "('Nikita', 'Aarti', 'Jasmin', 'Mayuri')"
      ]
     },
     "execution_count": 62,
     "metadata": {},
     "output_type": "execute_result"
    }
   ],
   "source": [
    "my_new_tuple = ('Nikita', 'Aarti','Jasmin','Mayuri')\n",
    "my_new_tuple"
   ]
  },
  {
   "cell_type": "code",
   "execution_count": 64,
   "id": "5680f943",
   "metadata": {},
   "outputs": [
    {
     "name": "stdout",
     "output_type": "stream",
     "text": [
      "( 0 ) Nikita\n",
      "( 1 ) Aarti\n",
      "( 2 ) Jasmin\n",
      "( 3 ) Mayuri\n"
     ]
    }
   ],
   "source": [
    "for i in range(len(my_new_tuple)):\n",
    "    print(\"(\" , i, \")\", my_new_tuple[i])"
   ]
  },
  {
   "cell_type": "code",
   "execution_count": 65,
   "id": "ccec416a",
   "metadata": {},
   "outputs": [
    {
     "data": {
      "text/plain": [
       "(10, 8, 3, 2, 4, 0, 0, 3)"
      ]
     },
     "execution_count": 65,
     "metadata": {},
     "output_type": "execute_result"
    }
   ],
   "source": [
    "Scores = (10, 8 , 3, 2 , 4, 0 , 0, 3)\n",
    "Scores"
   ]
  },
  {
   "cell_type": "code",
   "execution_count": 67,
   "id": "6b0b14f6",
   "metadata": {},
   "outputs": [
    {
     "data": {
      "text/plain": [
       "[0, 0, 2, 3, 3, 4, 8, 10]"
      ]
     },
     "execution_count": 67,
     "metadata": {},
     "output_type": "execute_result"
    }
   ],
   "source": [
    "sorted(Scores)"
   ]
  },
  {
   "cell_type": "code",
   "execution_count": 70,
   "id": "69a47642",
   "metadata": {},
   "outputs": [
    {
     "data": {
      "text/plain": [
       "[10, 8, 4, 3, 3, 2, 0, 0]"
      ]
     },
     "execution_count": 70,
     "metadata": {},
     "output_type": "execute_result"
    }
   ],
   "source": [
    "sorted(Scores, reverse = True)"
   ]
  },
  {
   "cell_type": "code",
   "execution_count": 71,
   "id": "4e80ef23",
   "metadata": {},
   "outputs": [
    {
     "data": {
      "text/plain": [
       "('a', 'c', 'd', 'e', 'b')"
      ]
     },
     "execution_count": 71,
     "metadata": {},
     "output_type": "execute_result"
    }
   ],
   "source": [
    "grades = ('a', 'c', 'd', 'e', 'b')\n",
    "grades"
   ]
  },
  {
   "cell_type": "code",
   "execution_count": 72,
   "id": "1e0bcbab",
   "metadata": {},
   "outputs": [
    {
     "data": {
      "text/plain": [
       "['e', 'd', 'c', 'b', 'a']"
      ]
     },
     "execution_count": 72,
     "metadata": {},
     "output_type": "execute_result"
    }
   ],
   "source": [
    "sorted(grades, reverse = True)"
   ]
  },
  {
   "cell_type": "code",
   "execution_count": 73,
   "id": "116f810f",
   "metadata": {},
   "outputs": [
    {
     "data": {
      "text/plain": [
       "(10, 8, 3, 2, 4, 0, 0, 3)"
      ]
     },
     "execution_count": 73,
     "metadata": {},
     "output_type": "execute_result"
    }
   ],
   "source": [
    "Scores"
   ]
  },
  {
   "cell_type": "code",
   "execution_count": 74,
   "id": "404873d1",
   "metadata": {},
   "outputs": [
    {
     "data": {
      "text/plain": [
       "10"
      ]
     },
     "execution_count": 74,
     "metadata": {},
     "output_type": "execute_result"
    }
   ],
   "source": [
    "max(Scores)"
   ]
  },
  {
   "cell_type": "code",
   "execution_count": 75,
   "id": "9a0945d2",
   "metadata": {},
   "outputs": [
    {
     "data": {
      "text/plain": [
       "0"
      ]
     },
     "execution_count": 75,
     "metadata": {},
     "output_type": "execute_result"
    }
   ],
   "source": [
    "min(Scores)"
   ]
  },
  {
   "cell_type": "code",
   "execution_count": 76,
   "id": "efe55ff9",
   "metadata": {},
   "outputs": [
    {
     "data": {
      "text/plain": [
       "30"
      ]
     },
     "execution_count": 76,
     "metadata": {},
     "output_type": "execute_result"
    }
   ],
   "source": [
    "sum(Scores)"
   ]
  },
  {
   "cell_type": "code",
   "execution_count": 77,
   "id": "570589a3",
   "metadata": {},
   "outputs": [
    {
     "data": {
      "text/plain": [
       "('mouse', [8, 4, 6], (1, 2, 3))"
      ]
     },
     "execution_count": 77,
     "metadata": {},
     "output_type": "execute_result"
    }
   ],
   "source": [
    "my_tuple = (\"mouse\", [8, 4, 6], (1, 2, 3))  \n",
    "my_tuple"
   ]
  },
  {
   "cell_type": "code",
   "execution_count": 78,
   "id": "5e664079",
   "metadata": {},
   "outputs": [
    {
     "data": {
      "text/plain": [
       "[8, 4, 6]"
      ]
     },
     "execution_count": 78,
     "metadata": {},
     "output_type": "execute_result"
    }
   ],
   "source": [
    "my_tuple[1]"
   ]
  },
  {
   "cell_type": "code",
   "execution_count": 79,
   "id": "73fb17c1",
   "metadata": {},
   "outputs": [
    {
     "data": {
      "text/plain": [
       "list"
      ]
     },
     "execution_count": 79,
     "metadata": {},
     "output_type": "execute_result"
    }
   ],
   "source": [
    "type(my_tuple[1])"
   ]
  },
  {
   "cell_type": "code",
   "execution_count": 80,
   "id": "c5757e5a",
   "metadata": {},
   "outputs": [
    {
     "data": {
      "text/plain": [
       "tuple"
      ]
     },
     "execution_count": 80,
     "metadata": {},
     "output_type": "execute_result"
    }
   ],
   "source": [
    "type(my_tuple[2])"
   ]
  },
  {
   "cell_type": "code",
   "execution_count": 81,
   "id": "f4701617",
   "metadata": {},
   "outputs": [
    {
     "data": {
      "text/plain": [
       "str"
      ]
     },
     "execution_count": 81,
     "metadata": {},
     "output_type": "execute_result"
    }
   ],
   "source": [
    "type(my_tuple[0])"
   ]
  },
  {
   "cell_type": "code",
   "execution_count": 83,
   "id": "30df2fde",
   "metadata": {},
   "outputs": [
    {
     "data": {
      "text/plain": [
       "('mouse', [8, 4, 6])"
      ]
     },
     "execution_count": 83,
     "metadata": {},
     "output_type": "execute_result"
    }
   ],
   "source": [
    "my_tuple[ :2]"
   ]
  },
  {
   "cell_type": "code",
   "execution_count": 84,
   "id": "54bb57c1",
   "metadata": {},
   "outputs": [
    {
     "data": {
      "text/plain": [
       "('mouse', [8, 4, 6], (1, 2, 3))"
      ]
     },
     "execution_count": 84,
     "metadata": {},
     "output_type": "execute_result"
    }
   ],
   "source": [
    "my_tuple[ : ]"
   ]
  },
  {
   "cell_type": "code",
   "execution_count": 85,
   "id": "af59ca76",
   "metadata": {},
   "outputs": [
    {
     "data": {
      "text/plain": [
       "('mouse', (1, 2, 3))"
      ]
     },
     "execution_count": 85,
     "metadata": {},
     "output_type": "execute_result"
    }
   ],
   "source": [
    "my_tuple[ : :2]"
   ]
  },
  {
   "cell_type": "code",
   "execution_count": 86,
   "id": "cc79f283",
   "metadata": {},
   "outputs": [
    {
     "data": {
      "text/plain": [
       "((1, 2, 3), [8, 4, 6], 'mouse')"
      ]
     },
     "execution_count": 86,
     "metadata": {},
     "output_type": "execute_result"
    }
   ],
   "source": [
    "my_tuple[ : :-1]"
   ]
  },
  {
   "cell_type": "code",
   "execution_count": 87,
   "id": "2063ef0f",
   "metadata": {},
   "outputs": [
    {
     "data": {
      "text/plain": [
       "((1, 2, 3), 'mouse')"
      ]
     },
     "execution_count": 87,
     "metadata": {},
     "output_type": "execute_result"
    }
   ],
   "source": [
    "my_tuple[ : :-2]"
   ]
  },
  {
   "cell_type": "code",
   "execution_count": 88,
   "id": "00960878",
   "metadata": {},
   "outputs": [
    {
     "data": {
      "text/plain": [
       "('mouse', [8, 4, 6], (1, 2, 3))"
      ]
     },
     "execution_count": 88,
     "metadata": {},
     "output_type": "execute_result"
    }
   ],
   "source": [
    "my_tuple"
   ]
  },
  {
   "cell_type": "code",
   "execution_count": 89,
   "id": "1ae8f532",
   "metadata": {},
   "outputs": [
    {
     "name": "stdout",
     "output_type": "stream",
     "text": [
      "( 0 ) mouse\n",
      "( 1 ) [8, 4, 6]\n",
      "( 2 ) (1, 2, 3)\n"
     ]
    }
   ],
   "source": [
    "for i in range(len(my_tuple)):\n",
    "    print(\"(\" , i , \")\", my_tuple[i])"
   ]
  },
  {
   "cell_type": "code",
   "execution_count": 92,
   "id": "633bcec3",
   "metadata": {},
   "outputs": [
    {
     "data": {
      "text/plain": [
       "('mouse', [8, 4, 6], (1, 2, 3))"
      ]
     },
     "execution_count": 92,
     "metadata": {},
     "output_type": "execute_result"
    }
   ],
   "source": [
    "my_tuple"
   ]
  },
  {
   "cell_type": "raw",
   "id": "796deedf",
   "metadata": {},
   "source": []
  },
  {
   "cell_type": "code",
   "execution_count": 94,
   "id": "d42b26a8",
   "metadata": {},
   "outputs": [
    {
     "data": {
      "text/plain": [
       "[4, 6, 8]"
      ]
     },
     "execution_count": 94,
     "metadata": {},
     "output_type": "execute_result"
    }
   ],
   "source": [
    "sorted(my_tuple[1])"
   ]
  },
  {
   "cell_type": "code",
   "execution_count": 95,
   "id": "ecc4cbd4",
   "metadata": {},
   "outputs": [
    {
     "data": {
      "text/plain": [
       "[1, 2, 3]"
      ]
     },
     "execution_count": 95,
     "metadata": {},
     "output_type": "execute_result"
    }
   ],
   "source": [
    "sorted(my_tuple[2])"
   ]
  },
  {
   "cell_type": "code",
   "execution_count": 96,
   "id": "bab69aeb",
   "metadata": {},
   "outputs": [
    {
     "data": {
      "text/plain": [
       "['e', 'm', 'o', 's', 'u']"
      ]
     },
     "execution_count": 96,
     "metadata": {},
     "output_type": "execute_result"
    }
   ],
   "source": [
    "sorted(my_tuple[0])"
   ]
  },
  {
   "cell_type": "code",
   "execution_count": 105,
   "id": "8126e975",
   "metadata": {},
   "outputs": [
    {
     "data": {
      "text/plain": [
       "('mouse', [8, 4, 6], (1, 2, 3))"
      ]
     },
     "execution_count": 105,
     "metadata": {},
     "output_type": "execute_result"
    }
   ],
   "source": [
    "my_tuple"
   ]
  },
  {
   "cell_type": "code",
   "execution_count": 108,
   "id": "9d6c2770",
   "metadata": {},
   "outputs": [
    {
     "ename": "TypeError",
     "evalue": "'builtin_function_or_method' object is not subscriptable",
     "output_type": "error",
     "traceback": [
      "\u001b[1;31m---------------------------------------------------------------------------\u001b[0m",
      "\u001b[1;31mTypeError\u001b[0m                                 Traceback (most recent call last)",
      "Cell \u001b[1;32mIn[108], line 1\u001b[0m\n\u001b[1;32m----> 1\u001b[0m my_tuple\u001b[38;5;241m.\u001b[39mindex[(\u001b[38;5;241m1\u001b[39m,\u001b[38;5;241m2\u001b[39m,\u001b[38;5;241m3\u001b[39m)]\n",
      "\u001b[1;31mTypeError\u001b[0m: 'builtin_function_or_method' object is not subscriptable"
     ]
    }
   ],
   "source": [
    "my_tuple.index[(1,2,3)]"
   ]
  },
  {
   "cell_type": "code",
   "execution_count": null,
   "id": "88039e06",
   "metadata": {},
   "outputs": [],
   "source": []
  }
 ],
 "metadata": {
  "kernelspec": {
   "display_name": "Python 3 (ipykernel)",
   "language": "python",
   "name": "python3"
  },
  "language_info": {
   "codemirror_mode": {
    "name": "ipython",
    "version": 3
   },
   "file_extension": ".py",
   "mimetype": "text/x-python",
   "name": "python",
   "nbconvert_exporter": "python",
   "pygments_lexer": "ipython3",
   "version": "3.11.4"
  }
 },
 "nbformat": 4,
 "nbformat_minor": 5
}
