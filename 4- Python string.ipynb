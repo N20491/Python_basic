{
 "cells": [
  {
   "cell_type": "code",
   "execution_count": 1,
   "id": "68a5e7b8",
   "metadata": {},
   "outputs": [
    {
     "data": {
      "text/plain": [
       "'This is my string'"
      ]
     },
     "execution_count": 1,
     "metadata": {},
     "output_type": "execute_result"
    }
   ],
   "source": [
    "'This is my string'"
   ]
  },
  {
   "cell_type": "code",
   "execution_count": 2,
   "id": "b92e6e44",
   "metadata": {},
   "outputs": [],
   "source": [
    "my_str = 'My string in single quote.'"
   ]
  },
  {
   "cell_type": "code",
   "execution_count": 3,
   "id": "d681059b",
   "metadata": {},
   "outputs": [
    {
     "data": {
      "text/plain": [
       "'My string in single quote.'"
      ]
     },
     "execution_count": 3,
     "metadata": {},
     "output_type": "execute_result"
    }
   ],
   "source": [
    "my_str"
   ]
  },
  {
   "cell_type": "code",
   "execution_count": 4,
   "id": "8aebd2ac",
   "metadata": {},
   "outputs": [
    {
     "data": {
      "text/plain": [
       "'My string in double quotes.'"
      ]
     },
     "execution_count": 4,
     "metadata": {},
     "output_type": "execute_result"
    }
   ],
   "source": [
    "my_str2 = \"My string in double quotes.\"\n",
    "my_str2"
   ]
  },
  {
   "cell_type": "code",
   "execution_count": 5,
   "id": "11695dfd",
   "metadata": {},
   "outputs": [
    {
     "data": {
      "text/plain": [
       "' String is spread across\\nmultiple lines.'"
      ]
     },
     "execution_count": 5,
     "metadata": {},
     "output_type": "execute_result"
    }
   ],
   "source": [
    "my_str3 = \"\"\" String is spread across\n",
    "multiple lines.\"\"\"\n",
    "my_str3"
   ]
  },
  {
   "cell_type": "code",
   "execution_count": 6,
   "id": "f64460a5",
   "metadata": {},
   "outputs": [
    {
     "data": {
      "text/plain": [
       "str"
      ]
     },
     "execution_count": 6,
     "metadata": {},
     "output_type": "execute_result"
    }
   ],
   "source": [
    "type(my_str)"
   ]
  },
  {
   "cell_type": "code",
   "execution_count": 7,
   "id": "90cc2bd4",
   "metadata": {},
   "outputs": [
    {
     "data": {
      "text/plain": [
       "str"
      ]
     },
     "execution_count": 7,
     "metadata": {},
     "output_type": "execute_result"
    }
   ],
   "source": [
    "type(my_str2)"
   ]
  },
  {
   "cell_type": "code",
   "execution_count": 8,
   "id": "d44050c5",
   "metadata": {},
   "outputs": [
    {
     "data": {
      "text/plain": [
       "str"
      ]
     },
     "execution_count": 8,
     "metadata": {},
     "output_type": "execute_result"
    }
   ],
   "source": [
    "type(my_str3)"
   ]
  },
  {
   "cell_type": "code",
   "execution_count": 9,
   "id": "22d2ea38",
   "metadata": {},
   "outputs": [
    {
     "data": {
      "text/plain": [
       "'x y 1 2 3'"
      ]
     },
     "execution_count": 9,
     "metadata": {},
     "output_type": "execute_result"
    }
   ],
   "source": [
    "string_with_spaces= 'x y 1 2 3'\n",
    "string_with_spaces"
   ]
  },
  {
   "cell_type": "code",
   "execution_count": 10,
   "id": "3aaae4a7",
   "metadata": {},
   "outputs": [
    {
     "data": {
      "text/plain": [
       "'@#$%&*^!'"
      ]
     },
     "execution_count": 10,
     "metadata": {},
     "output_type": "execute_result"
    }
   ],
   "source": [
    "string_with_special_character = \"@#$%&*^!\"\n",
    "string_with_special_character"
   ]
  },
  {
   "cell_type": "code",
   "execution_count": 11,
   "id": "31b5a08e",
   "metadata": {},
   "outputs": [
    {
     "data": {
      "text/plain": [
       "'      '"
      ]
     },
     "execution_count": 11,
     "metadata": {},
     "output_type": "execute_result"
    }
   ],
   "source": [
    "empty_str = \"      \"\n",
    "empty_str"
   ]
  },
  {
   "cell_type": "code",
   "execution_count": 12,
   "id": "e9a8fc75",
   "metadata": {},
   "outputs": [
    {
     "data": {
      "text/plain": [
       "6"
      ]
     },
     "execution_count": 12,
     "metadata": {},
     "output_type": "execute_result"
    }
   ],
   "source": [
    "len(empty_str)"
   ]
  },
  {
   "cell_type": "code",
   "execution_count": 13,
   "id": "a406f3ce",
   "metadata": {},
   "outputs": [
    {
     "data": {
      "text/plain": [
       "17"
      ]
     },
     "execution_count": 13,
     "metadata": {},
     "output_type": "execute_result"
    }
   ],
   "source": [
    "len('This is my string')"
   ]
  },
  {
   "cell_type": "code",
   "execution_count": 16,
   "id": "6b5b0642",
   "metadata": {},
   "outputs": [
    {
     "data": {
      "text/plain": [
       "'My string in single quote.Strings are useful'"
      ]
     },
     "execution_count": 16,
     "metadata": {},
     "output_type": "execute_result"
    }
   ],
   "source": [
    "my_str + 'Strings are useful'"
   ]
  },
  {
   "cell_type": "code",
   "execution_count": 17,
   "id": "27255aa0",
   "metadata": {},
   "outputs": [
    {
     "data": {
      "text/plain": [
       "'My string in single quote.  My string in double quotes.'"
      ]
     },
     "execution_count": 17,
     "metadata": {},
     "output_type": "execute_result"
    }
   ],
   "source": [
    "my_str +\"  \"+ my_str2"
   ]
  },
  {
   "cell_type": "code",
   "execution_count": 18,
   "id": "1905ccd0",
   "metadata": {},
   "outputs": [
    {
     "data": {
      "text/plain": [
       "'My string in single quote.  My string in single quote.  My string in single quote.  '"
      ]
     },
     "execution_count": 18,
     "metadata": {},
     "output_type": "execute_result"
    }
   ],
   "source": [
    "(my_str +\"  \") * 3"
   ]
  },
  {
   "cell_type": "code",
   "execution_count": 19,
   "id": "def4dd53",
   "metadata": {},
   "outputs": [
    {
     "data": {
      "text/plain": [
       "'#########################'"
      ]
     },
     "execution_count": 19,
     "metadata": {},
     "output_type": "execute_result"
    }
   ],
   "source": [
    "'#'*25"
   ]
  },
  {
   "cell_type": "code",
   "execution_count": 20,
   "id": "fc32ad76",
   "metadata": {},
   "outputs": [],
   "source": [
    "my_string = \"This is my string.\""
   ]
  },
  {
   "cell_type": "code",
   "execution_count": 21,
   "id": "3c94b444",
   "metadata": {},
   "outputs": [
    {
     "data": {
      "text/plain": [
       "'T'"
      ]
     },
     "execution_count": 21,
     "metadata": {},
     "output_type": "execute_result"
    }
   ],
   "source": [
    "my_string[0]"
   ]
  },
  {
   "cell_type": "code",
   "execution_count": 22,
   "id": "d022f447",
   "metadata": {},
   "outputs": [
    {
     "data": {
      "text/plain": [
       "' '"
      ]
     },
     "execution_count": 22,
     "metadata": {},
     "output_type": "execute_result"
    }
   ],
   "source": [
    "my_string[4]"
   ]
  },
  {
   "cell_type": "code",
   "execution_count": 23,
   "id": "ee6bd786",
   "metadata": {},
   "outputs": [
    {
     "ename": "IndexError",
     "evalue": "string index out of range",
     "output_type": "error",
     "traceback": [
      "\u001b[1;31m---------------------------------------------------------------------------\u001b[0m",
      "\u001b[1;31mIndexError\u001b[0m                                Traceback (most recent call last)",
      "Cell \u001b[1;32mIn[23], line 2\u001b[0m\n\u001b[0;32m      1\u001b[0m lenght \u001b[38;5;241m=\u001b[39m \u001b[38;5;28mlen\u001b[39m(my_string)\n\u001b[1;32m----> 2\u001b[0m my_string[lenght]\n",
      "\u001b[1;31mIndexError\u001b[0m: string index out of range"
     ]
    }
   ],
   "source": [
    "lenght = len(my_string)\n",
    "my_string[lenght]"
   ]
  },
  {
   "cell_type": "code",
   "execution_count": 24,
   "id": "bccc7778",
   "metadata": {},
   "outputs": [
    {
     "data": {
      "text/plain": [
       "'.'"
      ]
     },
     "execution_count": 24,
     "metadata": {},
     "output_type": "execute_result"
    }
   ],
   "source": [
    "lenght = len(my_string)\n",
    "my_string[lenght-1]"
   ]
  },
  {
   "cell_type": "code",
   "execution_count": 25,
   "id": "3d468698",
   "metadata": {},
   "outputs": [
    {
     "data": {
      "text/plain": [
       "'.'"
      ]
     },
     "execution_count": 25,
     "metadata": {},
     "output_type": "execute_result"
    }
   ],
   "source": [
    "my_string[-1]"
   ]
  },
  {
   "cell_type": "markdown",
   "id": "c2ecc75c",
   "metadata": {},
   "source": [
    "# Slicing Operation"
   ]
  },
  {
   "cell_type": "code",
   "execution_count": 26,
   "id": "2b7ce204",
   "metadata": {},
   "outputs": [],
   "source": [
    "my_string = \"This is my string\""
   ]
  },
  {
   "cell_type": "code",
   "execution_count": 27,
   "id": "19c9c358",
   "metadata": {},
   "outputs": [
    {
     "data": {
      "text/plain": [
       "'This is my string'"
      ]
     },
     "execution_count": 27,
     "metadata": {},
     "output_type": "execute_result"
    }
   ],
   "source": [
    "my_string[ : ]"
   ]
  },
  {
   "cell_type": "code",
   "execution_count": 28,
   "id": "49ed2ed5",
   "metadata": {},
   "outputs": [
    {
     "data": {
      "text/plain": [
       "'This'"
      ]
     },
     "execution_count": 28,
     "metadata": {},
     "output_type": "execute_result"
    }
   ],
   "source": [
    "my_string[ 0 : 4 ]"
   ]
  },
  {
   "cell_type": "code",
   "execution_count": 29,
   "id": "b9993af2",
   "metadata": {},
   "outputs": [
    {
     "data": {
      "text/plain": [
       "'is my'"
      ]
     },
     "execution_count": 29,
     "metadata": {},
     "output_type": "execute_result"
    }
   ],
   "source": [
    "my_string[ 5 : 10 ]"
   ]
  },
  {
   "cell_type": "code",
   "execution_count": 30,
   "id": "318e3811",
   "metadata": {},
   "outputs": [
    {
     "data": {
      "text/plain": [
       "'s is my string'"
      ]
     },
     "execution_count": 30,
     "metadata": {},
     "output_type": "execute_result"
    }
   ],
   "source": [
    "my_string[ 3 : ]"
   ]
  },
  {
   "cell_type": "code",
   "execution_count": 31,
   "id": "cb32e7f7",
   "metadata": {},
   "outputs": [
    {
     "data": {
      "text/plain": [
       "'This is'"
      ]
     },
     "execution_count": 31,
     "metadata": {},
     "output_type": "execute_result"
    }
   ],
   "source": [
    "my_string[ : 7]"
   ]
  },
  {
   "cell_type": "code",
   "execution_count": 32,
   "id": "f590dc30",
   "metadata": {},
   "outputs": [
    {
     "data": {
      "text/plain": [
       "'Ti sm'"
      ]
     },
     "execution_count": 32,
     "metadata": {},
     "output_type": "execute_result"
    }
   ],
   "source": [
    "my_string[ 0 :10 :2 ]"
   ]
  },
  {
   "cell_type": "code",
   "execution_count": 33,
   "id": "47339e77",
   "metadata": {},
   "outputs": [
    {
     "data": {
      "text/plain": [
       "'tring'"
      ]
     },
     "execution_count": 33,
     "metadata": {},
     "output_type": "execute_result"
    }
   ],
   "source": [
    "my_string[ -5 : ]"
   ]
  },
  {
   "cell_type": "code",
   "execution_count": 34,
   "id": "1c31f2a3",
   "metadata": {},
   "outputs": [
    {
     "data": {
      "text/plain": [
       "'This is my stri'"
      ]
     },
     "execution_count": 34,
     "metadata": {},
     "output_type": "execute_result"
    }
   ],
   "source": [
    "my_string[ : -2]"
   ]
  },
  {
   "cell_type": "code",
   "execution_count": 35,
   "id": "f7d2a6a7",
   "metadata": {},
   "outputs": [
    {
     "data": {
      "text/plain": [
       "'tri'"
      ]
     },
     "execution_count": 35,
     "metadata": {},
     "output_type": "execute_result"
    }
   ],
   "source": [
    "my_string[ -5 :-2 ]"
   ]
  },
  {
   "cell_type": "markdown",
   "id": "3a8c94b3",
   "metadata": {},
   "source": [
    "# Escape Sequence"
   ]
  },
  {
   "cell_type": "code",
   "execution_count": 38,
   "id": "f12390dd",
   "metadata": {},
   "outputs": [
    {
     "name": "stdout",
     "output_type": "stream",
     "text": [
      " Python is beautiful. \n",
      " I love Python.\n"
     ]
    }
   ],
   "source": [
    "print(\" Python is beautiful. \\n I love Python.\")"
   ]
  },
  {
   "cell_type": "code",
   "execution_count": 40,
   "id": "a761774d",
   "metadata": {},
   "outputs": [
    {
     "name": "stdout",
     "output_type": "stream",
     "text": [
      " Python is beautiful.\t I love Python.\n"
     ]
    }
   ],
   "source": [
    "print(\" Python is beautiful.\\t I love Python.\")"
   ]
  },
  {
   "cell_type": "code",
   "execution_count": 41,
   "id": "9bb264f8",
   "metadata": {},
   "outputs": [
    {
     "name": "stdout",
     "output_type": "stream",
     "text": [
      " Python is beautiful. \\ I love Python.\n"
     ]
    }
   ],
   "source": [
    "print(\" Python is beautiful. \\\\ I love Python.\")"
   ]
  },
  {
   "cell_type": "markdown",
   "id": "3261b077",
   "metadata": {},
   "source": [
    "# The in operator"
   ]
  },
  {
   "cell_type": "code",
   "execution_count": 42,
   "id": "3f969389",
   "metadata": {},
   "outputs": [],
   "source": [
    "my_string = \"This is my string.\""
   ]
  },
  {
   "cell_type": "code",
   "execution_count": 43,
   "id": "5dfae74a",
   "metadata": {},
   "outputs": [
    {
     "data": {
      "text/plain": [
       "True"
      ]
     },
     "execution_count": 43,
     "metadata": {},
     "output_type": "execute_result"
    }
   ],
   "source": [
    "'i' in my_string"
   ]
  },
  {
   "cell_type": "code",
   "execution_count": 44,
   "id": "c54fc37a",
   "metadata": {},
   "outputs": [
    {
     "data": {
      "text/plain": [
       "False"
      ]
     },
     "execution_count": 44,
     "metadata": {},
     "output_type": "execute_result"
    }
   ],
   "source": [
    "'w' in my_string"
   ]
  },
  {
   "cell_type": "code",
   "execution_count": 45,
   "id": "3a875676",
   "metadata": {},
   "outputs": [
    {
     "data": {
      "text/plain": [
       "False"
      ]
     },
     "execution_count": 45,
     "metadata": {},
     "output_type": "execute_result"
    }
   ],
   "source": [
    "'i'not in my_string"
   ]
  },
  {
   "cell_type": "code",
   "execution_count": 46,
   "id": "4e296b46",
   "metadata": {},
   "outputs": [
    {
     "data": {
      "text/plain": [
       "True"
      ]
     },
     "execution_count": 46,
     "metadata": {},
     "output_type": "execute_result"
    }
   ],
   "source": [
    "'w' not in my_string"
   ]
  },
  {
   "cell_type": "code",
   "execution_count": 47,
   "id": "17b52b2f",
   "metadata": {},
   "outputs": [
    {
     "data": {
      "text/plain": [
       "True"
      ]
     },
     "execution_count": 47,
     "metadata": {},
     "output_type": "execute_result"
    }
   ],
   "source": [
    "'my' in my_string"
   ]
  },
  {
   "cell_type": "code",
   "execution_count": 48,
   "id": "5f41c89d",
   "metadata": {},
   "outputs": [
    {
     "data": {
      "text/plain": [
       "False"
      ]
     },
     "execution_count": 48,
     "metadata": {},
     "output_type": "execute_result"
    }
   ],
   "source": [
    "'my' not in my_string"
   ]
  },
  {
   "cell_type": "markdown",
   "id": "c5620237",
   "metadata": {},
   "source": [
    "# Immutability"
   ]
  },
  {
   "cell_type": "code",
   "execution_count": 4,
   "id": "68580813",
   "metadata": {},
   "outputs": [],
   "source": [
    "my_string = \"This is my string.\""
   ]
  },
  {
   "cell_type": "code",
   "execution_count": 5,
   "id": "6a862eb2",
   "metadata": {},
   "outputs": [
    {
     "ename": "TypeError",
     "evalue": "'str' object does not support item assignment",
     "output_type": "error",
     "traceback": [
      "\u001b[1;31m---------------------------------------------------------------------------\u001b[0m",
      "\u001b[1;31mTypeError\u001b[0m                                 Traceback (most recent call last)",
      "Cell \u001b[1;32mIn[5], line 1\u001b[0m\n\u001b[1;32m----> 1\u001b[0m my_string[\u001b[38;5;241m0\u001b[39m] \u001b[38;5;241m=\u001b[39m \u001b[38;5;124m'\u001b[39m\u001b[38;5;124mP\u001b[39m\u001b[38;5;124m'\u001b[39m\n",
      "\u001b[1;31mTypeError\u001b[0m: 'str' object does not support item assignment"
     ]
    }
   ],
   "source": [
    "my_string[0] = 'P'"
   ]
  },
  {
   "cell_type": "code",
   "execution_count": 6,
   "id": "2edb822c",
   "metadata": {},
   "outputs": [
    {
     "name": "stdout",
     "output_type": "stream",
     "text": [
      "Original string         This is my string\n",
      "Modified string         Phis is my stri\n"
     ]
    }
   ],
   "source": [
    "my_string= 'This is my string'\n",
    "\n",
    "first_char = 'P'\n",
    "\n",
    "my_new_string = first_char + my_string[ 1 : 15]\n",
    "\n",
    "print(\"Original string        \", my_string)\n",
    "\n",
    "print(\"Modified string        \", my_new_string)"
   ]
  },
  {
   "cell_type": "markdown",
   "id": "7440e127",
   "metadata": {},
   "source": [
    "# Looping\n"
   ]
  },
  {
   "cell_type": "code",
   "execution_count": 7,
   "id": "e556e887",
   "metadata": {},
   "outputs": [],
   "source": [
    "my_string = \"Python is beautiful.\""
   ]
  },
  {
   "cell_type": "code",
   "execution_count": 8,
   "id": "ce92d2f4",
   "metadata": {},
   "outputs": [
    {
     "name": "stdout",
     "output_type": "stream",
     "text": [
      "P\n",
      "y\n",
      "t\n",
      "h\n",
      "o\n",
      "n\n",
      " \n",
      "i\n",
      "s\n",
      " \n",
      "b\n",
      "e\n",
      "a\n",
      "u\n",
      "t\n",
      "i\n",
      "f\n",
      "u\n",
      "l\n",
      ".\n"
     ]
    }
   ],
   "source": [
    "for i in my_string:\n",
    "    print(i)"
   ]
  },
  {
   "cell_type": "code",
   "execution_count": 9,
   "id": "87db2d46",
   "metadata": {},
   "outputs": [
    {
     "name": "stdout",
     "output_type": "stream",
     "text": [
      "0\n",
      "1\n",
      "2\n",
      "3\n",
      "4\n",
      "5\n",
      "6\n",
      "7\n",
      "8\n",
      "9\n",
      "10\n",
      "11\n",
      "12\n",
      "13\n",
      "14\n",
      "15\n",
      "16\n",
      "17\n",
      "18\n",
      "19\n"
     ]
    }
   ],
   "source": [
    "for i in range(len(my_string)):\n",
    "    print(i)\n"
   ]
  },
  {
   "cell_type": "code",
   "execution_count": 10,
   "id": "ab52df2d",
   "metadata": {},
   "outputs": [
    {
     "name": "stdout",
     "output_type": "stream",
     "text": [
      "0\n",
      "1\n",
      "4\n",
      "9\n",
      "16\n",
      "25\n",
      "36\n",
      "49\n",
      "64\n",
      "81\n",
      "100\n",
      "121\n",
      "144\n",
      "169\n",
      "196\n",
      "225\n",
      "256\n",
      "289\n",
      "324\n",
      "361\n"
     ]
    }
   ],
   "source": [
    "for i in range(len(my_string)):\n",
    "    print(i**2)"
   ]
  },
  {
   "cell_type": "code",
   "execution_count": 11,
   "id": "8e365c35",
   "metadata": {},
   "outputs": [
    {
     "name": "stdout",
     "output_type": "stream",
     "text": [
      "0\n",
      "1\n",
      "8\n",
      "27\n",
      "64\n",
      "125\n",
      "216\n",
      "343\n",
      "512\n",
      "729\n",
      "1000\n",
      "1331\n",
      "1728\n",
      "2197\n",
      "2744\n",
      "3375\n",
      "4096\n",
      "4913\n",
      "5832\n",
      "6859\n"
     ]
    }
   ],
   "source": [
    "for i in range(len(my_string)):\n",
    "    print(i**3) "
   ]
  },
  {
   "cell_type": "code",
   "execution_count": 12,
   "id": "ac7edabf",
   "metadata": {},
   "outputs": [
    {
     "name": "stdout",
     "output_type": "stream",
     "text": [
      "0     0     0\n",
      "1     1     1\n",
      "2     4     8\n",
      "3     9     27\n",
      "4     16     64\n",
      "5     25     125\n",
      "6     36     216\n",
      "7     49     343\n",
      "8     64     512\n",
      "9     81     729\n",
      "10     100     1000\n",
      "11     121     1331\n",
      "12     144     1728\n",
      "13     169     2197\n",
      "14     196     2744\n",
      "15     225     3375\n",
      "16     256     4096\n",
      "17     289     4913\n",
      "18     324     5832\n",
      "19     361     6859\n"
     ]
    }
   ],
   "source": [
    "for i in range(len(my_string)):\n",
    "    print(i ,\"   \", i**2 ,\"   \", i**3) "
   ]
  },
  {
   "cell_type": "code",
   "execution_count": 13,
   "id": "cb52d591",
   "metadata": {},
   "outputs": [
    {
     "data": {
      "text/plain": [
       "range(0, 20)"
      ]
     },
     "execution_count": 13,
     "metadata": {},
     "output_type": "execute_result"
    }
   ],
   "source": [
    "range(len(my_string))"
   ]
  },
  {
   "cell_type": "code",
   "execution_count": 14,
   "id": "23eb0f9c",
   "metadata": {},
   "outputs": [
    {
     "name": "stdout",
     "output_type": "stream",
     "text": [
      "---> 0  =  P\n",
      "---> 1  =  y\n",
      "---> 2  =  t\n",
      "---> 3  =  h\n",
      "---> 4  =  o\n",
      "---> 5  =  n\n",
      "---> 6  =   \n",
      "---> 7  =  i\n",
      "---> 8  =  s\n",
      "---> 9  =   \n",
      "---> 10  =  b\n",
      "---> 11  =  e\n",
      "---> 12  =  a\n",
      "---> 13  =  u\n",
      "---> 14  =  t\n",
      "---> 15  =  i\n",
      "---> 16  =  f\n",
      "---> 17  =  u\n",
      "---> 18  =  l\n",
      "---> 19  =  .\n"
     ]
    }
   ],
   "source": [
    "for i in range(len(my_string)):\n",
    "    print(\"--->\", i , \" = \", my_string[i])"
   ]
  },
  {
   "cell_type": "code",
   "execution_count": 15,
   "id": "60734158",
   "metadata": {},
   "outputs": [
    {
     "name": "stdout",
     "output_type": "stream",
     "text": [
      "Please enter the string --------> Nikita\n",
      "Length of string -------->  6\n"
     ]
    }
   ],
   "source": [
    "user_string = input(\"Please enter the string --------> \")\n",
    "\n",
    "print(\"Length of string --------> \", len(user_string))"
   ]
  },
  {
   "cell_type": "code",
   "execution_count": 17,
   "id": "82774877",
   "metadata": {},
   "outputs": [
    {
     "name": "stdout",
     "output_type": "stream",
     "text": [
      "String repeated 5 times ---------> Nikita   Nikita   Nikita   Nikita   Nikita   \n"
     ]
    }
   ],
   "source": [
    "print(\"String repeated 5 times --------->\", (user_string + \"   \")*5)"
   ]
  },
  {
   "cell_type": "code",
   "execution_count": 18,
   "id": "fadf7556",
   "metadata": {},
   "outputs": [
    {
     "name": "stdout",
     "output_type": "stream",
     "text": [
      "First character of string --------> N\n",
      "Last character of string ---------> a\n"
     ]
    }
   ],
   "source": [
    "print(\"First character of string -------->\", user_string[0])\n",
    "\n",
    "print(\"Last character of string --------->\", user_string[-1])"
   ]
  },
  {
   "cell_type": "code",
   "execution_count": 19,
   "id": "695a3390",
   "metadata": {},
   "outputs": [
    {
     "name": "stdout",
     "output_type": "stream",
     "text": [
      "First three character of string --------> Nik\n",
      "Last three character of string ---------> ita\n"
     ]
    }
   ],
   "source": [
    "print(\"First three character of string -------->\", user_string[0 : 3])\n",
    "\n",
    "print(\"Last three character of string --------->\", user_string[-3 : ])"
   ]
  },
  {
   "cell_type": "code",
   "execution_count": 20,
   "id": "220e1672",
   "metadata": {},
   "outputs": [
    {
     "name": "stdout",
     "output_type": "stream",
     "text": [
      "String reversed --------> atikiN\n"
     ]
    }
   ],
   "source": [
    "print(\"String reversed -------->\", user_string[ : : -1])"
   ]
  },
  {
   "cell_type": "code",
   "execution_count": 29,
   "id": "6a61e425",
   "metadata": {},
   "outputs": [
    {
     "name": "stdout",
     "output_type": "stream",
     "text": [
      "String reversed ----> Nikit\n"
     ]
    }
   ],
   "source": [
    "print(\"String reversed ---->\", user_string[-6:-1])"
   ]
  },
  {
   "cell_type": "code",
   "execution_count": null,
   "id": "97bd5ffc",
   "metadata": {},
   "outputs": [],
   "source": [
    "new_string = user_string[0 : len(user_string)-2]\n",
    "\n",
    "print(\"Original string --------> \", user_string)"
   ]
  }
 ],
 "metadata": {
  "kernelspec": {
   "display_name": "Python 3 (ipykernel)",
   "language": "python",
   "name": "python3"
  },
  "language_info": {
   "codemirror_mode": {
    "name": "ipython",
    "version": 3
   },
   "file_extension": ".py",
   "mimetype": "text/x-python",
   "name": "python",
   "nbconvert_exporter": "python",
   "pygments_lexer": "ipython3",
   "version": "3.11.4"
  }
 },
 "nbformat": 4,
 "nbformat_minor": 5
}
