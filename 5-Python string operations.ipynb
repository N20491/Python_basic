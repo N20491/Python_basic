{
 "cells": [
  {
   "cell_type": "code",
   "execution_count": 7,
   "id": "4f9d48b8",
   "metadata": {},
   "outputs": [],
   "source": [
    "my_string = \"Python is beautiful.\""
   ]
  },
  {
   "cell_type": "code",
   "execution_count": 8,
   "id": "452abc28",
   "metadata": {},
   "outputs": [
    {
     "data": {
      "text/plain": [
       "'python is beautiful.'"
      ]
     },
     "execution_count": 8,
     "metadata": {},
     "output_type": "execute_result"
    }
   ],
   "source": [
    "my_string.lower()"
   ]
  },
  {
   "cell_type": "code",
   "execution_count": 9,
   "id": "1e269f02",
   "metadata": {},
   "outputs": [
    {
     "data": {
      "text/plain": [
       "'PYTHON IS BEAUTIFUL.'"
      ]
     },
     "execution_count": 9,
     "metadata": {},
     "output_type": "execute_result"
    }
   ],
   "source": [
    "my_string.upper()"
   ]
  },
  {
   "cell_type": "code",
   "execution_count": 10,
   "id": "28b5ec65",
   "metadata": {},
   "outputs": [
    {
     "name": "stdout",
     "output_type": "stream",
     "text": [
      "Original Statement-------->  Chennai super kings are going to win  IPL this time.\n",
      "Modified Statement 1------->  chennai super kings are going to win  ipl this time.\n",
      "MOdified statement 2-------->  CHENNAI SUPER KINGS ARE GOING TO WIN  IPL THIS TIME.\n"
     ]
    }
   ],
   "source": [
    "stmt= \" Chennai super kings are going to win  IPL this time.\"\n",
    "mod_stmt1 = stmt.lower()\n",
    "mod_stmt2 = stmt.upper()\n",
    "\n",
    "print(\"Original Statement-------->\", stmt)\n",
    "print(\"Modified Statement 1------->\", mod_stmt1)\n",
    "print(\"MOdified statement 2-------->\", mod_stmt2)"
   ]
  },
  {
   "cell_type": "code",
   "execution_count": 11,
   "id": "82d95a33",
   "metadata": {},
   "outputs": [
    {
     "data": {
      "text/plain": [
       "False"
      ]
     },
     "execution_count": 11,
     "metadata": {},
     "output_type": "execute_result"
    }
   ],
   "source": [
    "my_string.islower()"
   ]
  },
  {
   "cell_type": "code",
   "execution_count": 13,
   "id": "15f68721",
   "metadata": {},
   "outputs": [
    {
     "data": {
      "text/plain": [
       "False"
      ]
     },
     "execution_count": 13,
     "metadata": {},
     "output_type": "execute_result"
    }
   ],
   "source": [
    "my_string.isupper()"
   ]
  },
  {
   "cell_type": "code",
   "execution_count": 15,
   "id": "b9c3cde6",
   "metadata": {},
   "outputs": [
    {
     "data": {
      "text/plain": [
       "2"
      ]
     },
     "execution_count": 15,
     "metadata": {},
     "output_type": "execute_result"
    }
   ],
   "source": [
    "my_string.count(\"t\")"
   ]
  },
  {
   "cell_type": "code",
   "execution_count": 16,
   "id": "8ef85d5d",
   "metadata": {},
   "outputs": [
    {
     "data": {
      "text/plain": [
       "1"
      ]
     },
     "execution_count": 16,
     "metadata": {},
     "output_type": "execute_result"
    }
   ],
   "source": [
    "my_string.count(\"is\")"
   ]
  },
  {
   "cell_type": "code",
   "execution_count": 17,
   "id": "a13261cd",
   "metadata": {},
   "outputs": [
    {
     "data": {
      "text/plain": [
       "2"
      ]
     },
     "execution_count": 17,
     "metadata": {},
     "output_type": "execute_result"
    }
   ],
   "source": [
    "my_string.index(\"t\")"
   ]
  },
  {
   "cell_type": "code",
   "execution_count": 18,
   "id": "07005715",
   "metadata": {},
   "outputs": [
    {
     "data": {
      "text/plain": [
       "7"
      ]
     },
     "execution_count": 18,
     "metadata": {},
     "output_type": "execute_result"
    }
   ],
   "source": [
    "my_string.index('is')"
   ]
  },
  {
   "cell_type": "code",
   "execution_count": 19,
   "id": "a6a536c9",
   "metadata": {},
   "outputs": [
    {
     "data": {
      "text/plain": [
       "True"
      ]
     },
     "execution_count": 19,
     "metadata": {},
     "output_type": "execute_result"
    }
   ],
   "source": [
    "my_string[0].isalpha()"
   ]
  },
  {
   "cell_type": "code",
   "execution_count": 20,
   "id": "2405c973",
   "metadata": {},
   "outputs": [
    {
     "data": {
      "text/plain": [
       "False"
      ]
     },
     "execution_count": 20,
     "metadata": {},
     "output_type": "execute_result"
    }
   ],
   "source": [
    "my_string.isalpha()"
   ]
  },
  {
   "cell_type": "code",
   "execution_count": 21,
   "id": "f26ac927",
   "metadata": {},
   "outputs": [
    {
     "data": {
      "text/plain": [
       "False"
      ]
     },
     "execution_count": 21,
     "metadata": {},
     "output_type": "execute_result"
    }
   ],
   "source": [
    "my_string.isalnum()"
   ]
  },
  {
   "cell_type": "code",
   "execution_count": 23,
   "id": "8c61a385",
   "metadata": {},
   "outputs": [
    {
     "data": {
      "text/plain": [
       "False"
      ]
     },
     "execution_count": 23,
     "metadata": {},
     "output_type": "execute_result"
    }
   ],
   "source": [
    "my_string[0].isdigit()"
   ]
  },
  {
   "cell_type": "code",
   "execution_count": 24,
   "id": "8a7d32dc",
   "metadata": {},
   "outputs": [
    {
     "data": {
      "text/plain": [
       "False"
      ]
     },
     "execution_count": 24,
     "metadata": {},
     "output_type": "execute_result"
    }
   ],
   "source": [
    "my_string.isnumeric()"
   ]
  },
  {
   "cell_type": "code",
   "execution_count": 25,
   "id": "95ea71c0",
   "metadata": {},
   "outputs": [
    {
     "data": {
      "text/plain": [
       "True"
      ]
     },
     "execution_count": 25,
     "metadata": {},
     "output_type": "execute_result"
    }
   ],
   "source": [
    "num_string = \"12345\"\n",
    "num_string.isnumeric()"
   ]
  },
  {
   "cell_type": "code",
   "execution_count": 26,
   "id": "6be932c1",
   "metadata": {},
   "outputs": [
    {
     "name": "stdout",
     "output_type": "stream",
     "text": [
      "     Chennai Super Kings are going to win IPL this time.    \n",
      "Chennai Super Kings are going to win IPL this time.    \n"
     ]
    }
   ],
   "source": [
    "stmt = \"     Chennai Super Kings are going to win IPL this time.    \"\n",
    "print(stmt)\n",
    "print(stmt.lstrip())"
   ]
  },
  {
   "cell_type": "code",
   "execution_count": 28,
   "id": "f78a66f5",
   "metadata": {},
   "outputs": [
    {
     "name": "stdout",
     "output_type": "stream",
     "text": [
      "     Chennai Super Kings are going to win IPL this time.    \n",
      "     Chennai Super Kings are going to win IPL this time.\n"
     ]
    }
   ],
   "source": [
    "stmt = \"     Chennai Super Kings are going to win IPL this time.    \"\n",
    "print(stmt)\n",
    "print(stmt.rstrip())"
   ]
  },
  {
   "cell_type": "code",
   "execution_count": 29,
   "id": "2142eb3c",
   "metadata": {},
   "outputs": [
    {
     "name": "stdout",
     "output_type": "stream",
     "text": [
      "           Chennai Super Kings are going to win IPL this time.    \n",
      "Chennai Super Kings are going to win IPL this time.\n"
     ]
    }
   ],
   "source": [
    "stmt = \"           Chennai Super Kings are going to win IPL this time.    \"\n",
    "print(stmt)\n",
    "print(stmt.strip())"
   ]
  },
  {
   "cell_type": "code",
   "execution_count": 1,
   "id": "2db8925e",
   "metadata": {},
   "outputs": [
    {
     "name": "stdout",
     "output_type": "stream",
     "text": [
      "$$$$Chennai Super Kings are going to win IPL this time.\n",
      "Chennai Super Kings are going to win IPL this time.\n"
     ]
    }
   ],
   "source": [
    "stmt = \"$$$$Chennai Super Kings are going to win IPL this time.\"\n",
    "print(stmt)\n",
    "print(stmt.lstrip(\"$\")) "
   ]
  },
  {
   "cell_type": "code",
   "execution_count": 2,
   "id": "62f95acd",
   "metadata": {},
   "outputs": [],
   "source": [
    "my_string = \"Python is beautiful.\""
   ]
  },
  {
   "cell_type": "code",
   "execution_count": 3,
   "id": "f5fbeb97",
   "metadata": {},
   "outputs": [
    {
     "data": {
      "text/plain": [
       "7"
      ]
     },
     "execution_count": 3,
     "metadata": {},
     "output_type": "execute_result"
    }
   ],
   "source": [
    "my_string.find(\"is\")"
   ]
  },
  {
   "cell_type": "code",
   "execution_count": 4,
   "id": "231304e6",
   "metadata": {},
   "outputs": [
    {
     "data": {
      "text/plain": [
       "2"
      ]
     },
     "execution_count": 4,
     "metadata": {},
     "output_type": "execute_result"
    }
   ],
   "source": [
    "my_string.find(\"t\")"
   ]
  },
  {
   "cell_type": "code",
   "execution_count": 5,
   "id": "3acfeaf5",
   "metadata": {},
   "outputs": [
    {
     "data": {
      "text/plain": [
       "-1"
      ]
     },
     "execution_count": 5,
     "metadata": {},
     "output_type": "execute_result"
    }
   ],
   "source": [
    "my_string.find('too')"
   ]
  },
  {
   "cell_type": "code",
   "execution_count": 7,
   "id": "68f708ac",
   "metadata": {},
   "outputs": [
    {
     "data": {
      "text/plain": [
       "-1"
      ]
     },
     "execution_count": 7,
     "metadata": {},
     "output_type": "execute_result"
    }
   ],
   "source": [
    "my_string.find('w')"
   ]
  },
  {
   "cell_type": "code",
   "execution_count": 8,
   "id": "9e2e7adc",
   "metadata": {},
   "outputs": [
    {
     "data": {
      "text/plain": [
       "False"
      ]
     },
     "execution_count": 8,
     "metadata": {},
     "output_type": "execute_result"
    }
   ],
   "source": [
    "my_string.startswith('python')"
   ]
  },
  {
   "cell_type": "code",
   "execution_count": 9,
   "id": "4575138a",
   "metadata": {},
   "outputs": [
    {
     "data": {
      "text/plain": [
       "True"
      ]
     },
     "execution_count": 9,
     "metadata": {},
     "output_type": "execute_result"
    }
   ],
   "source": [
    "my_string.startswith('Python')"
   ]
  },
  {
   "cell_type": "code",
   "execution_count": 10,
   "id": "8899deee",
   "metadata": {},
   "outputs": [
    {
     "data": {
      "text/plain": [
       "False"
      ]
     },
     "execution_count": 10,
     "metadata": {},
     "output_type": "execute_result"
    }
   ],
   "source": [
    "my_string.endswith('beautiful')"
   ]
  },
  {
   "cell_type": "code",
   "execution_count": 11,
   "id": "94929507",
   "metadata": {},
   "outputs": [
    {
     "data": {
      "text/plain": [
       "True"
      ]
     },
     "execution_count": 11,
     "metadata": {},
     "output_type": "execute_result"
    }
   ],
   "source": [
    "my_string.endswith('.')"
   ]
  },
  {
   "cell_type": "code",
   "execution_count": 12,
   "id": "29e01919",
   "metadata": {},
   "outputs": [
    {
     "data": {
      "text/plain": [
       "'Python $s beaut$ful.'"
      ]
     },
     "execution_count": 12,
     "metadata": {},
     "output_type": "execute_result"
    }
   ],
   "source": [
    "my_string.replace('i','$')"
   ]
  },
  {
   "cell_type": "code",
   "execution_count": 13,
   "id": "cb08d1c5",
   "metadata": {},
   "outputs": [
    {
     "data": {
      "text/plain": [
       "'Python is beautiful.'"
      ]
     },
     "execution_count": 13,
     "metadata": {},
     "output_type": "execute_result"
    }
   ],
   "source": [
    "my_string"
   ]
  },
  {
   "cell_type": "code",
   "execution_count": 14,
   "id": "ce4c32f3",
   "metadata": {},
   "outputs": [
    {
     "data": {
      "text/plain": [
       "['Python', 'is', 'beautiful.']"
      ]
     },
     "execution_count": 14,
     "metadata": {},
     "output_type": "execute_result"
    }
   ],
   "source": [
    "my_string.split()"
   ]
  },
  {
   "cell_type": "code",
   "execution_count": 16,
   "id": "c3434e46",
   "metadata": {},
   "outputs": [
    {
     "data": {
      "text/plain": [
       "['Python ', ' beautiful.']"
      ]
     },
     "execution_count": 16,
     "metadata": {},
     "output_type": "execute_result"
    }
   ],
   "source": [
    "my_string.split('is')"
   ]
  },
  {
   "cell_type": "code",
   "execution_count": 21,
   "id": "f0488d0b",
   "metadata": {},
   "outputs": [
    {
     "data": {
      "text/plain": [
       "('Python ', 'is', ' beautiful.')"
      ]
     },
     "execution_count": 21,
     "metadata": {},
     "output_type": "execute_result"
    }
   ],
   "source": [
    "my_string.partition('is')"
   ]
  },
  {
   "cell_type": "code",
   "execution_count": 1,
   "id": "f6d5c3f3",
   "metadata": {},
   "outputs": [
    {
     "name": "stdout",
     "output_type": "stream",
     "text": [
      "Enter statement      This is a string in python\n",
      "\n",
      " Enter the string to be looked upon in statement    string\n",
      "\n",
      " Second string is present at  10 location in first string\n",
      "\n",
      " Note :  -1 indicates that  string is not present.\n"
     ]
    }
   ],
   "source": [
    "first_string = input(\"Enter statement      \")\n",
    "second_string = input(\"\\n Enter the string to be looked upon in statement    \")\n",
    "\n",
    "is_present = first_string.find(second_string)\n",
    "\n",
    "print(\"\\n Second string is present at \", is_present,\"location in first string\")\n",
    "print(\"\\n Note :  -1 indicates that  string is not present.\")"
   ]
  },
  {
   "cell_type": "code",
   "execution_count": 1,
   "id": "0aafd1ff",
   "metadata": {},
   "outputs": [
    {
     "name": "stdout",
     "output_type": "stream",
     "text": [
      "Enter the string------>this is string in python\n",
      "\n",
      "You entered: this is string in python\n",
      "The lower case string:  this is string in python\n",
      "The upper case string:  THIS IS STRING IN PYTHON\n",
      "The reversed string:  nohtyp ni gnirts si siht\n"
     ]
    }
   ],
   "source": [
    "user_string = input(\"Enter the string------>\")\n",
    "print(\"\\nYou entered:\",user_string)\n",
    "\n",
    "print(\"The lower case string: \", user_string.lower())\n",
    "print(\"The upper case string: \", user_string.upper())\n",
    "print(\"The reversed string: \", user_string[ :  : -1])\n"
   ]
  },
  {
   "cell_type": "code",
   "execution_count": 8,
   "id": "2ce2eaeb",
   "metadata": {},
   "outputs": [
    {
     "name": "stdout",
     "output_type": "stream",
     "text": [
      "Enter the string-------->Python\n",
      "\n",
      " You entered :  Python\n",
      "0 ---> P\n",
      "1 ---> y\n",
      "2 ---> t\n",
      "3 ---> h\n",
      "4 ---> o\n",
      "5 ---> n\n"
     ]
    }
   ],
   "source": [
    "user_string = input(\"Enter the string-------->\")\n",
    "print(\"\\n You entered : \", user_string)\n",
    "\n",
    "for i in range(len(user_string)):\n",
    "    print(i, \"--->\", user_string[i])"
   ]
  },
  {
   "cell_type": "code",
   "execution_count": 9,
   "id": "30bb76b7",
   "metadata": {},
   "outputs": [
    {
     "name": "stdout",
     "output_type": "stream",
     "text": [
      "Enter the string-------->Python\n",
      "\n",
      " You entered :  Python\n",
      "0 ---> \n",
      "1 ---> P\n",
      "2 ---> Py\n",
      "3 ---> Pyt\n",
      "4 ---> Pyth\n",
      "5 ---> Pytho\n"
     ]
    }
   ],
   "source": [
    "user_string = input(\"Enter the string-------->\")\n",
    "print(\"\\n You entered : \", user_string)\n",
    "\n",
    "for i in range(len(user_string)):\n",
    "    print(i, \"--->\", user_string[:i])"
   ]
  },
  {
   "cell_type": "code",
   "execution_count": 10,
   "id": "7ea6289d",
   "metadata": {},
   "outputs": [
    {
     "name": "stdout",
     "output_type": "stream",
     "text": [
      "Enter the string-------->Python\n",
      "\n",
      " You entered :  Python\n",
      "0 ---> P\n",
      "1 ---> Py\n",
      "2 ---> Pyt\n",
      "3 ---> Pyth\n",
      "4 ---> Pytho\n",
      "5 ---> Python\n"
     ]
    }
   ],
   "source": [
    "user_string = input(\"Enter the string-------->\")\n",
    "print(\"\\n You entered : \", user_string)\n",
    "\n",
    "for i in range(len(user_string)):\n",
    "    print(i, \"--->\", user_string[:i+1])"
   ]
  },
  {
   "cell_type": "code",
   "execution_count": 14,
   "id": "095a52db",
   "metadata": {},
   "outputs": [],
   "source": [
    "my_string = \"python is beautiful\""
   ]
  },
  {
   "cell_type": "code",
   "execution_count": 15,
   "id": "5822e3b5",
   "metadata": {},
   "outputs": [
    {
     "data": {
      "text/plain": [
       "'Python is beautiful'"
      ]
     },
     "execution_count": 15,
     "metadata": {},
     "output_type": "execute_result"
    }
   ],
   "source": [
    "my_string.capitalize()"
   ]
  },
  {
   "cell_type": "code",
   "execution_count": 16,
   "id": "1e68ec57",
   "metadata": {},
   "outputs": [
    {
     "data": {
      "text/plain": [
       "'python is beautiful'"
      ]
     },
     "execution_count": 16,
     "metadata": {},
     "output_type": "execute_result"
    }
   ],
   "source": [
    "my_string.casefold()"
   ]
  },
  {
   "cell_type": "code",
   "execution_count": 19,
   "id": "44d35a6b",
   "metadata": {},
   "outputs": [
    {
     "data": {
      "text/plain": [
       "'###python is beautiful###'"
      ]
     },
     "execution_count": 19,
     "metadata": {},
     "output_type": "execute_result"
    }
   ],
   "source": [
    "my_string.center(25,'#')"
   ]
  },
  {
   "cell_type": "code",
   "execution_count": 20,
   "id": "e9c80602",
   "metadata": {},
   "outputs": [
    {
     "data": {
      "text/plain": [
       "'   python is beautiful   '"
      ]
     },
     "execution_count": 20,
     "metadata": {},
     "output_type": "execute_result"
    }
   ],
   "source": [
    "my_string.center(25)"
   ]
  },
  {
   "cell_type": "code",
   "execution_count": 21,
   "id": "475592b7",
   "metadata": {},
   "outputs": [
    {
     "data": {
      "text/plain": [
       "2"
      ]
     },
     "execution_count": 21,
     "metadata": {},
     "output_type": "execute_result"
    }
   ],
   "source": [
    "my_string.count('i')"
   ]
  },
  {
   "cell_type": "code",
   "execution_count": 22,
   "id": "9066fa67",
   "metadata": {},
   "outputs": [
    {
     "data": {
      "text/plain": [
       "b'python is beautiful'"
      ]
     },
     "execution_count": 22,
     "metadata": {},
     "output_type": "execute_result"
    }
   ],
   "source": [
    "my_string.encode()"
   ]
  },
  {
   "cell_type": "code",
   "execution_count": 26,
   "id": "a12af721",
   "metadata": {},
   "outputs": [
    {
     "data": {
      "text/plain": [
       "'python is beautiful'"
      ]
     },
     "execution_count": 26,
     "metadata": {},
     "output_type": "execute_result"
    }
   ],
   "source": [
    "my_string.expandtabs(8)"
   ]
  },
  {
   "cell_type": "code",
   "execution_count": 27,
   "id": "108b034d",
   "metadata": {},
   "outputs": [
    {
     "data": {
      "text/plain": [
       "'Python Is Beautiful'"
      ]
     },
     "execution_count": 27,
     "metadata": {},
     "output_type": "execute_result"
    }
   ],
   "source": [
    "my_string.title()"
   ]
  },
  {
   "cell_type": "code",
   "execution_count": 29,
   "id": "72ca3546",
   "metadata": {},
   "outputs": [
    {
     "data": {
      "text/plain": [
       "'PYTHON IS BEAUTIFUL'"
      ]
     },
     "execution_count": 29,
     "metadata": {},
     "output_type": "execute_result"
    }
   ],
   "source": [
    "my_string.swapcase()"
   ]
  },
  {
   "cell_type": "code",
   "execution_count": 33,
   "id": "01152a4a",
   "metadata": {},
   "outputs": [
    {
     "data": {
      "text/plain": [
       "('', 'python', ' is beautiful')"
      ]
     },
     "execution_count": 33,
     "metadata": {},
     "output_type": "execute_result"
    }
   ],
   "source": [
    "my_string.rpartition('python')"
   ]
  },
  {
   "cell_type": "code",
   "execution_count": 34,
   "id": "c76ca2ed",
   "metadata": {},
   "outputs": [
    {
     "data": {
      "text/plain": [
       "7"
      ]
     },
     "execution_count": 34,
     "metadata": {},
     "output_type": "execute_result"
    }
   ],
   "source": [
    "my_string.rfind('is')"
   ]
  },
  {
   "cell_type": "code",
   "execution_count": 36,
   "id": "831e8d5e",
   "metadata": {},
   "outputs": [
    {
     "data": {
      "text/plain": [
       "7"
      ]
     },
     "execution_count": 36,
     "metadata": {},
     "output_type": "execute_result"
    }
   ],
   "source": [
    "my_string.rindex('is')"
   ]
  },
  {
   "cell_type": "code",
   "execution_count": null,
   "id": "a3d6b041",
   "metadata": {},
   "outputs": [],
   "source": []
  }
 ],
 "metadata": {
  "kernelspec": {
   "display_name": "Python 3 (ipykernel)",
   "language": "python",
   "name": "python3"
  },
  "language_info": {
   "codemirror_mode": {
    "name": "ipython",
    "version": 3
   },
   "file_extension": ".py",
   "mimetype": "text/x-python",
   "name": "python",
   "nbconvert_exporter": "python",
   "pygments_lexer": "ipython3",
   "version": "3.11.4"
  }
 },
 "nbformat": 4,
 "nbformat_minor": 5
}
